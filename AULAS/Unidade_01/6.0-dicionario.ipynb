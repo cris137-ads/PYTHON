{
 "cells": [
  {
   "cell_type": "markdown",
   "id": "125bd298",
   "metadata": {},
   "source": [
    "🧠 O que é um dicionário em Python?\n",
    "Dicionário é uma estrutura de dados que permite armazenar valores associados a uma chave.\n",
    "\n",
    "Você pode imaginar um dicionário como um \"estojo de informações\", onde cada coisa tem um nome (chave) e um valor correspondente.\n",
    "\n",
    "📚 Exemplo da vida real:\n",
    "Pense em um dicionário de língua portuguesa:\n",
    "\n",
    "🔑 Chave → é a palavra.\n",
    "\n",
    "📄 Valor → é a definição da palavra.\n",
    "\n",
    "Por exemplo:\n",
    "\n",
    "\"Casa\" → \"Construção para moradia.\"\n",
    "\n",
    "🐍 Como funciona no Python?\n",
    "No Python, um dicionário é representado por chaves {} e é formado por pares chave:valor.\n",
    "\n",
    "🏗️ Para que serve?\n",
    "Dicionários são muito úteis quando você precisa:\n",
    "\n",
    "Relacionar informações (nome e telefone, produto e preço, etc.).\n",
    "\n",
    "Fazer buscas rápidas por uma chave.\n",
    "\n",
    "Organizar dados de forma estruturada.\n",
    "\n",
    "📦 Resumo mental:\n",
    "| 🔑 Chave  | 🎯 Valor     |\n",
    "| --------- | ------------ |\n",
    "| nome      | \"Ana\"        |\n",
    "| idade     | 26           |\n",
    "| profissao | \"Engenheira\" |\n",
    "\n"
   ]
  },
  {
   "cell_type": "code",
   "execution_count": null,
   "id": "f82623db",
   "metadata": {},
   "outputs": [
    {
     "data": {
      "text/plain": [
       "{'Pedro': 24, 'Ana': 22.0, 'Ronaldo': 26, 'Janaína': 25}"
      ]
     },
     "execution_count": 5,
     "metadata": {},
     "output_type": "execute_result"
    }
   ],
   "source": [
    "# Isso é um dicionário.\n",
    "estudantes_dict = {'Pedro':24, 'Ana':22., 'Ronaldo' : 26, 'Janaína':25}\n",
    "estudantes_dict"
   ]
  },
  {
   "cell_type": "code",
   "execution_count": null,
   "id": "29ab6567",
   "metadata": {},
   "outputs": [
    {
     "data": {
      "text/plain": [
       "24"
      ]
     },
     "execution_count": 6,
     "metadata": {},
     "output_type": "execute_result"
    }
   ],
   "source": [
    "estudantes_dict['Pedro']"
   ]
  },
  {
   "cell_type": "code",
   "execution_count": null,
   "id": "b526fd66",
   "metadata": {},
   "outputs": [
    {
     "ename": "NameError",
     "evalue": "name 'estudantes_dict' is not defined",
     "output_type": "error",
     "traceback": [
      "\u001b[31m---------------------------------------------------------------------------\u001b[39m",
      "\u001b[31mNameError\u001b[39m                                 Traceback (most recent call last)",
      "\u001b[36mCell\u001b[39m\u001b[36m \u001b[39m\u001b[32mIn[7]\u001b[39m\u001b[32m, line 7\u001b[39m\n\u001b[32m      5\u001b[39m estudantes_dict\n\u001b[32m      6\u001b[39m \u001b[38;5;28;01mdel\u001b[39;00m estudantes_dict\n\u001b[32m----> \u001b[39m\u001b[32m7\u001b[39m \u001b[43mestudantes_dict\u001b[49m\n",
      "\u001b[31mNameError\u001b[39m: name 'estudantes_dict' is not defined"
     ]
    }
   ],
   "source": [
    "estudantes_dict['Marcelo']= 23\n",
    "estudantes_dict['Marcelo']\n",
    "estudantes_dict\n",
    "estudantes_dict.clear()  # limpa o dicionario\n",
    "estudantes_dict\n",
    "del estudantes_dict\n",
    "estudantes_dict"
   ]
  },
  {
   "cell_type": "code",
   "execution_count": null,
   "id": "bbd1f2c7",
   "metadata": {},
   "outputs": [
    {
     "ename": "NameError",
     "evalue": "name 'estudantes_dict' is not defined",
     "output_type": "error",
     "traceback": [
      "\u001b[31m---------------------------------------------------------------------------\u001b[39m",
      "\u001b[31mNameError\u001b[39m                                 Traceback (most recent call last)",
      "\u001b[36mCell\u001b[39m\u001b[36m \u001b[39m\u001b[32mIn[2]\u001b[39m\u001b[32m, line 1\u001b[39m\n\u001b[32m----> \u001b[39m\u001b[32m1\u001b[39m \u001b[43mestudantes_dict\u001b[49m.clear()  \u001b[38;5;66;03m#limpa o dicionario\u001b[39;00m\n",
      "\u001b[31mNameError\u001b[39m: name 'estudantes_dict' is not defined"
     ]
    }
   ],
   "source": []
  },
  {
   "cell_type": "code",
   "execution_count": null,
   "id": "b43e6433",
   "metadata": {},
   "outputs": [],
   "source": []
  },
  {
   "cell_type": "code",
   "execution_count": null,
   "id": "ba7f5abe",
   "metadata": {},
   "outputs": [
    {
     "data": {
      "text/plain": [
       "dict_items([('Pedro', 24), ('Ana', 22), ('Ronaldo', 26), ('Janaína', 25)])"
      ]
     },
     "execution_count": 3,
     "metadata": {},
     "output_type": "execute_result"
    }
   ],
   "source": [
    "estudantes = {'Pedro':24, 'Ana': 22 ,'Ronaldo':26, 'Janaína':25}\n",
    "estudantes\n",
    "len(estudantes)\n",
    "estudantes.keys()\n",
    "estudantes.values()\n",
    "estudantes.items()\n"
   ]
  },
  {
   "cell_type": "code",
   "execution_count": null,
   "id": "ca3b6891",
   "metadata": {},
   "outputs": [
    {
     "data": {
      "text/plain": [
       "{'Pedro': 24,\n",
       " 'Ana': 22,\n",
       " 'Ronaldo': 26,\n",
       " 'Janaína': 25,\n",
       " 'camila': 27,\n",
       " 'Adriana': 28,\n",
       " 'Roberta': 26}"
      ]
     },
     "execution_count": 8,
     "metadata": {},
     "output_type": "execute_result"
    }
   ],
   "source": [
    "estudandes2 = {'camila' : 27,'Adriana':28, 'Roberta':26}\n",
    "estudandes2\n",
    "estudantes.update(estudandes2) # atualiza o dicionario\n",
    "estudantes"
   ]
  },
  {
   "cell_type": "code",
   "execution_count": null,
   "id": "5c9d56ff",
   "metadata": {},
   "outputs": [
    {
     "name": "stdout",
     "output_type": "stream",
     "text": [
      "{'chave_um': 2}\n"
     ]
    },
    {
     "data": {
      "text/plain": [
       "{'chave_um': 2, 10: 5, 9.13: 'python'}"
      ]
     },
     "execution_count": 15,
     "metadata": {},
     "output_type": "execute_result"
    }
   ],
   "source": [
    "dict = {} # Criando um dicionario vazio\n",
    "dict\n",
    "dict  ['chave_um'] = 2 # Adicionando um elemento ao dicionario\n",
    "print(dict)\n",
    "dict[10] = 5\n",
    "dict\n",
    "dict[9.13]= 'python'\n",
    "dict\n"
   ]
  },
  {
   "cell_type": "code",
   "execution_count": null,
   "id": "f458d7d9",
   "metadata": {},
   "outputs": [
    {
     "data": {
      "text/plain": [
       "{'teste': 10, 'key': 'Teste'}"
      ]
     },
     "execution_count": 17,
     "metadata": {},
     "output_type": "execute_result"
    }
   ],
   "source": [
    "dict1 = {}\n",
    "dict1\n",
    "dict1['teste']= 10\n",
    "dict1['key'] = 'Teste'\n",
    "# Atenção ,pois a chave e valor podem ser iguais ,mas representam valores diferentes.\n",
    "dict1"
   ]
  },
  {
   "cell_type": "code",
   "execution_count": null,
   "id": "b581ba70",
   "metadata": {},
   "outputs": [
    {
     "data": {
      "text/plain": [
       "('Data science', 10, 100)"
      ]
     },
     "execution_count": 22,
     "metadata": {},
     "output_type": "execute_result"
    }
   ],
   "source": [
    "dict2 = {}\n",
    "dict2['key1'] = 'Data science'\n",
    "dict2['Key2'] = 10\n",
    "dict2['key3'] = 100\n",
    "dict2\n",
    "\n",
    "a = dict2['key1']\n",
    "b=  dict2['Key2']\n",
    "c = dict2['key3']\n",
    "\n",
    "a,b,c\n",
    "\n"
   ]
  },
  {
   "cell_type": "code",
   "execution_count": 3,
   "id": "ef1a18ed",
   "metadata": {},
   "outputs": [
    {
     "data": {
      "text/plain": [
       "'PICANHA'"
      ]
     },
     "execution_count": 3,
     "metadata": {},
     "output_type": "execute_result"
    }
   ],
   "source": [
    "dict3 = {'chave1' :1230, 'chave2' :[22,453,73.4], 'chave3':['Picanha' , 'Fraldinha' , 'alcatra']} # Criando um dicionario com diferentes tipos de chaves e valores\n",
    "dict3\n",
    "dict3 ['chave2'] # Acessando o valor da 'chave2'\n",
    "# Acessando um item da lista , dentro do dicionário.\n",
    "dict3['chave3'][0] .upper()"
   ]
  },
  {
   "cell_type": "code",
   "execution_count": 4,
   "id": "10c2c59d",
   "metadata": {},
   "outputs": [
    {
     "data": {
      "text/plain": [
       "20"
      ]
     },
     "execution_count": 4,
     "metadata": {},
     "output_type": "execute_result"
    }
   ],
   "source": [
    "# Operações com dentro do dicionario\n",
    "var1 = dict3['chave2'] [0] -2\n",
    "var1"
   ]
  },
  {
   "cell_type": "code",
   "execution_count": 5,
   "id": "aad76c0f",
   "metadata": {},
   "outputs": [
    {
     "data": {
      "text/plain": [
       "{'chave1': 1230,\n",
       " 'chave2': [-2, 453, 73.4],\n",
       " 'chave3': ['Picanha', 'Fraldinha', 'alcatra']}"
      ]
     },
     "execution_count": 5,
     "metadata": {},
     "output_type": "execute_result"
    }
   ],
   "source": [
    "# Duas operações no mesmo comando , para atualizar um item dentro da lista\n",
    "dict3 ['chave2'] [0] = -2\n",
    "dict3"
   ]
  },
  {
   "cell_type": "markdown",
   "id": "d60b3d65",
   "metadata": {},
   "source": [
    "## Criando Dicionários Alinhados "
   ]
  },
  {
   "cell_type": "code",
   "execution_count": 7,
   "id": "48f47aad",
   "metadata": {},
   "outputs": [
    {
     "data": {
      "text/plain": [
       "'dict aninhado Pyton'"
      ]
     },
     "execution_count": 7,
     "metadata": {},
     "output_type": "execute_result"
    }
   ],
   "source": [
    "dict_aninhado ={'key1' :{ 'Key2_aninhada':{'key_aninhada_3': 'dict aninhado Pyton'}}}\n",
    "dict_aninhado\n",
    "dict_aninhado ['key1'] ['Key2_aninhada'] ['key_aninhada_3']"
   ]
  },
  {
   "cell_type": "markdown",
   "id": "016cd8a0",
   "metadata": {},
   "source": [
    "<h1>Dicionários</h1>\n",
    "\n",
    "**.Motivação**\n",
    "\n",
    "Para se conectar a uma rede wifi, você precisa de duas informações : o nome da rede e a senha de acesso . Quando você vai acessar uma nova rede ,você encontra uma lista de redes disponiveis :"
   ]
  },
  {
   "cell_type": "code",
   "execution_count": 1,
   "id": "f14ca126",
   "metadata": {},
   "outputs": [
    {
     "name": "stdout",
     "output_type": "stream",
     "text": [
      "['rede1', 'cnx_cnx', 'uai-fi', 'r3d3']\n"
     ]
    }
   ],
   "source": [
    "wifi_disponiveis = ['rede1', 'cnx_cnx', 'uai-fi','r3d3']\n",
    "print(wifi_disponiveis)"
   ]
  },
  {
   "cell_type": "markdown",
   "id": "6434d19c",
   "metadata": {},
   "source": [
    "você consegue identificar quais são os nomes de redes e suas respectivas senhas ? talvez uma lista não seja a melhor opção para armazenar esse tipo de dado."
   ]
  },
  {
   "cell_type": "markdown",
   "id": "ed92d8be",
   "metadata": {},
   "source": [
    "**3.2 Definição**\n",
    "\n",
    "Armazenam seguências no foramto de chave-valor. São do tipo dict."
   ]
  },
  {
   "cell_type": "code",
   "execution_count": 2,
   "id": "b5b4fc6e",
   "metadata": {},
   "outputs": [
    {
     "name": "stdout",
     "output_type": "stream",
     "text": [
      "{'Capital': 'Brasília', 'idioma': 'Português', 'população': 210}\n",
      "<class 'dict'>\n"
     ]
    }
   ],
   "source": [
    "brasil = {'Capital': 'Brasília','idioma': 'Português', 'população':210}\n",
    "print(brasil)\n",
    "print(type(brasil))"
   ]
  },
  {
   "cell_type": "code",
   "execution_count": 3,
   "id": "0911b623",
   "metadata": {},
   "outputs": [
    {
     "name": "stdout",
     "output_type": "stream",
     "text": [
      "{'marca': 'volkswagem', 'modelo': 'Polo', 'ano': 2004}\n"
     ]
    }
   ],
   "source": [
    "# Não é permitido chaves duplicadas.\n",
    "carro = {\n",
    "    'marca': 'volkswagem',\n",
    "    'modelo': 'Polo',\n",
    "    'ano': 2021,\n",
    "    'ano': 2004\n",
    "\n",
    "}\n",
    "print(carro)"
   ]
  },
  {
   "cell_type": "code",
   "execution_count": 2,
   "id": "e5064d78",
   "metadata": {},
   "outputs": [
    {
     "name": "stdout",
     "output_type": "stream",
     "text": [
      "{'André': {'Nome e Sobrenome': 'André Perez', 'ano_nascimento': 1992, 'pais': {'nome': 'brasil', 'pai': {'nome': 'joão perez', 'ano_nascimento': 1965}, 'mãe': {'nome': 'maria perez', 'ano_nascimento': 1980}}}}\n"
     ]
    }
   ],
   "source": [
    "# Podemos criar dicioanrios compostos:\n",
    "# Podemos criar dicionários compostos:\n",
    "cadastro = {\n",
    "    'André': {\n",
    "        'Nome e Sobrenome': 'André Perez',\n",
    "        'ano_nascimento': 1992,\n",
    "        'pais': {\n",
    "            'nome': 'brasil',\n",
    "            'pai': {\n",
    "                'nome': 'joão perez',\n",
    "                'ano_nascimento': 1965\n",
    "            },\n",
    "            'mãe': {\n",
    "                'nome': 'maria perez',\n",
    "                'ano_nascimento': 1980\n",
    "            }\n",
    "        }\n",
    "    }\n",
    "}\n",
    "print(cadastro)"
   ]
  },
  {
   "cell_type": "code",
   "execution_count": 5,
   "id": "041798cb",
   "metadata": {},
   "outputs": [
    {
     "data": {
      "text/plain": [
       "1980"
      ]
     },
     "execution_count": 5,
     "metadata": {},
     "output_type": "execute_result"
    }
   ],
   "source": [
    "cadastro['André'] ['pais'] ['mãe']['ano_nascimento']"
   ]
  },
  {
   "cell_type": "markdown",
   "id": "0dc43764",
   "metadata": {},
   "source": [
    "**3.3. Operações**\n"
   ]
  },
  {
   "cell_type": "markdown",
   "id": "3944b0b4",
   "metadata": {},
   "source": []
  },
  {
   "cell_type": "code",
   "execution_count": 3,
   "id": "f077dff5",
   "metadata": {},
   "outputs": [],
   "source": [
    "credito = {'123':750, '789':980}\n"
   ]
  },
  {
   "cell_type": "markdown",
   "id": "f344d0db",
   "metadata": {},
   "source": [
    "Elementos são acessados pela sua chave.\n"
   ]
  },
  {
   "cell_type": "code",
   "execution_count": 4,
   "id": "a4e7ad00",
   "metadata": {},
   "outputs": [
    {
     "name": "stdout",
     "output_type": "stream",
     "text": [
      "750\n",
      "980\n"
     ]
    }
   ],
   "source": [
    "score_123 = credito ['123']\n",
    "score_789 = credito ['789']\n",
    "\n",
    "print(score_123)\n",
    "print(score_789)"
   ]
  },
  {
   "cell_type": "markdown",
   "id": "f0ab731c",
   "metadata": {},
   "source": [
    "Elementos são atualizados pela sua chave "
   ]
  },
  {
   "cell_type": "code",
   "execution_count": 7,
   "id": "f4f1129b",
   "metadata": {},
   "outputs": [
    {
     "name": "stdout",
     "output_type": "stream",
     "text": [
      "{'123': 435, '789': 980}\n"
     ]
    }
   ],
   "source": [
    "credito['123'] = 435\n",
    "print(credito)"
   ]
  },
  {
   "cell_type": "markdown",
   "id": "d2e1507f",
   "metadata": {},
   "source": [
    "Para adicionar um novo elemento , basta criar um novo elemento chave-valor "
   ]
  },
  {
   "cell_type": "code",
   "execution_count": 8,
   "id": "3e4e609b",
   "metadata": {},
   "outputs": [
    {
     "name": "stdout",
     "output_type": "stream",
     "text": [
      "{'123': 435, '789': 980, '456': 1000}\n"
     ]
    }
   ],
   "source": [
    "credito['456'] = 1000\n",
    "print(credito)"
   ]
  },
  {
   "cell_type": "markdown",
   "id": "9d78d25a",
   "metadata": {},
   "source": [
    "**3.4.Métodos**\n",
    "\n",
    "São métodos nativos do python que nos ajudam a trabalhar no dia a dia com dicionários \n"
   ]
  },
  {
   "cell_type": "code",
   "execution_count": 9,
   "id": "fb6cb183",
   "metadata": {},
   "outputs": [],
   "source": [
    "artigo = dict(\n",
    "    titulo = 'Modulo 02| Python Estruturas de dados ',\n",
    "    corpo = 'Tópicos , Aulas ,listas, conjuntos ,Dicionários, ...',\n",
    "    total_caracteres = 1530\n",
    "\n",
    ")"
   ]
  },
  {
   "cell_type": "code",
   "execution_count": 12,
   "id": "eebea00b",
   "metadata": {},
   "outputs": [
    {
     "name": "stdout",
     "output_type": "stream",
     "text": [
      "{'titulo': 'Modulo 02| Python Estruturas de dados ', 'corpo': 'Tópicos , Aulas ,listas, conjuntos ,Dicionários, ...', 'total_caracteres': 7850}\n",
      "{'titulo': 'Modulo 02| Python Estruturas de dados ', 'corpo': 'Tópicos , Aulas ,listas, conjuntos ,Dicionários, ...', 'total_caracteres': 7850}\n"
     ]
    }
   ],
   "source": [
    "# Adicionar / atualizar um elemento pelo chave-valor : dict.update(dict)\n",
    "print(artigo)\n",
    "artigo.update({'total_caracteres' : 7850})\n",
    "print(artigo)"
   ]
  },
  {
   "cell_type": "code",
   "execution_count": 13,
   "id": "f5682dab",
   "metadata": {},
   "outputs": [
    {
     "name": "stdout",
     "output_type": "stream",
     "text": [
      "{'titulo': 'Modulo 02| Python Estruturas de dados ', 'corpo': 'Tópicos , Aulas ,listas, conjuntos ,Dicionários, ...', 'total_caracteres': 7850}\n",
      "{'titulo': 'Modulo 02| Python Estruturas de dados ', 'corpo': 'Tópicos , Aulas ,listas, conjuntos ,Dicionários, ...'}\n"
     ]
    }
   ],
   "source": [
    "# remover um elemento pelo chave : dict.pop (key)\n",
    "print(artigo)\n",
    "total_caracteres = artigo.pop('total_caracteres')\n",
    "print(artigo)"
   ]
  },
  {
   "cell_type": "markdown",
   "id": "bb9ae7d2",
   "metadata": {},
   "source": [
    "**3.5 Conversão**\n",
    "\n",
    "Podemos converter as chaves e os itens de um dicionarios em uma lista ."
   ]
  },
  {
   "cell_type": "code",
   "execution_count": 14,
   "id": "cecb902c",
   "metadata": {},
   "outputs": [],
   "source": [
    "artigo = dict(\n",
    "    titulo = 'Módulo 02| Python Estruturas de dados ',\n",
    "    corpo =  'Tópicos , aulas, listas,conjuntos ',\n",
    "    total_caracteres = 1530\n",
    ")"
   ]
  },
  {
   "cell_type": "code",
   "execution_count": 15,
   "id": "b54ffa8f",
   "metadata": {},
   "outputs": [
    {
     "name": "stdout",
     "output_type": "stream",
     "text": [
      "['titulo', 'corpo', 'total_caracteres']\n"
     ]
    }
   ],
   "source": [
    "chaves = list((artigo.keys()))\n",
    "print(chaves)"
   ]
  },
  {
   "cell_type": "code",
   "execution_count": 17,
   "id": "a8af5760",
   "metadata": {},
   "outputs": [
    {
     "name": "stdout",
     "output_type": "stream",
     "text": [
      "['Módulo 02| Python Estruturas de dados ', 'Tópicos , aulas, listas,conjuntos ', 1530]\n",
      "<class 'dict'>\n"
     ]
    }
   ],
   "source": [
    "valores = list(artigo.values())\n",
    "\n",
    "print(valores)\n",
    "print(type(artigo))"
   ]
  },
  {
   "cell_type": "markdown",
   "id": "8ce4b018",
   "metadata": {},
   "source": [
    "**3.6. Revisitando a motivação**"
   ]
  },
  {
   "cell_type": "markdown",
   "id": "f666afa3",
   "metadata": {},
   "source": []
  },
  {
   "cell_type": "code",
   "execution_count": 2,
   "id": "95d38b62",
   "metadata": {},
   "outputs": [
    {
     "name": "stdout",
     "output_type": "stream",
     "text": [
      "[{'nome': 'rede1', 'senha': 'cnx_cnx'}, {'nome': 'uai-fi', 'senha': 'r3d3'}]\n"
     ]
    }
   ],
   "source": [
    "wifi_disponiveis = []\n",
    "\n",
    "rede = {'nome': 'rede1', 'senha' : 'cnx_cnx'}\n",
    "wifi_disponiveis.append(rede)\n",
    "\n",
    "rede = {'nome': 'uai-fi', 'senha': 'r3d3'}\n",
    "wifi_disponiveis.append(rede)\n",
    "\n",
    "print(wifi_disponiveis)\n"
   ]
  }
 ],
 "metadata": {
  "kernelspec": {
   "display_name": "Python 3",
   "language": "python",
   "name": "python3"
  },
  "language_info": {
   "codemirror_mode": {
    "name": "ipython",
    "version": 3
   },
   "file_extension": ".py",
   "mimetype": "text/x-python",
   "name": "python",
   "nbconvert_exporter": "python",
   "pygments_lexer": "ipython3",
   "version": "3.13.2"
  }
 },
 "nbformat": 4,
 "nbformat_minor": 5
}
