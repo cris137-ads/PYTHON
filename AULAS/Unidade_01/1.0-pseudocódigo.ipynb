{
 "cells": [
  {
   "cell_type": "markdown",
   "id": "c013bac2",
   "metadata": {},
   "source": [
    "📌 O que é Pseudocódigo?\n",
    "\n",
    "Pseudocódigo é uma forma de descrever um algoritmo (uma sequência de passos para resolver um problema) usando uma linguagem simples, parecida com a linguagem humana e com elementos da lógica de programação.\n",
    "\n",
    "Ele não segue as regras de uma linguagem de programação específica, como Python ou Java, mas usa comandos parecidos para facilitar a compreensão do que o programa faz. \n",
    "\n",
    "Pseudocódigo é como escrever um plano para o seu programa em \"português estruturado\", misturando linguagem comum com lógica de programação. Ele ajuda você a pensar como um programador, mesmo sem saber programar ainda!"
   ]
  },
  {
   "cell_type": "markdown",
   "id": "3e06b597",
   "metadata": {},
   "source": []
  },
  {
   "cell_type": "markdown",
   "id": "c0c90d0a",
   "metadata": {},
   "source": [
    "Primeiro exemplo de pseudocódigo:\n",
    "Problema: Calcular a area de um paralelogramo.\n",
    "\n",
    "🟨 O que precisamos para calcular a área de um paralelogramo?\n",
    "A fórmula da área de um paralelogramo é:\n",
    "\n",
    " Àrea=base×altura\n",
    "\n",
    " Início\n",
    "    \n",
    "    Escrever \"Digite o valor da base do paralelogramo:\"\n",
    "    Ler base\n",
    "\n",
    "    Escrever \"Digite o valor da altura do paralelogramo:\"\n",
    "    Ler altura\n",
    "\n",
    "    área ← base × altura\n",
    "\n",
    "    Escrever \"A área do paralelogramo é:\", área\n",
    "Fim\n",
    "\n",
    "\n",
    "🔍 Explicando cada parte\n",
    "Escrever: Mostra uma mensagem na tela.\n",
    "\n",
    "Ler: Recebe o valor digitado pelo usuário.\n",
    "\n",
    "←: Indica que estamos atribuindo um valor a uma variável (pode usar também \"=\" se preferir).\n",
    "\n",
    "base × altura: Multiplica os dois valores para calcular a área.\n",
    "\n",
    "\n"
   ]
  },
  {
   "cell_type": "markdown",
   "id": "3591652e",
   "metadata": {},
   "source": []
  },
  {
   "cell_type": "code",
   "execution_count": 1,
   "id": "490242db",
   "metadata": {},
   "outputs": [
    {
     "name": "stdout",
     "output_type": "stream",
     "text": [
      "A área do paralelograma é 88.00 metros quadrados \n"
     ]
    }
   ],
   "source": [
    "# Convertendo Pseudo-Código para python.\n",
    "# Cristiano Machado\n",
    "# 14-05-2025\n",
    "\n",
    "base = float(input('Digite a base do paralelogramo :'))\n",
    "altura = float(input('Digite a altura do paralelogramo:'))\n",
    "\n",
    "area = base * altura\n",
    "\n",
    "print (f'A área do paralelograma é {area:.2f} metros quadrados ')\n"
   ]
  },
  {
   "cell_type": "markdown",
   "id": "7d5e4dac",
   "metadata": {},
   "source": [
    "📌 Pseudocódigo: Calculadora Simples\n",
    "\n",
    "Início\n",
    "\n",
    "    Exibir \"Calculadora Simples\"\n",
    "    Exibir \"Digite o primeiro número:\"\n",
    "    Ler numero1\n",
    "\n",
    "    Exibir \"Digite o segundo número:\"\n",
    "    Ler numero2\n",
    "\n",
    "    Exibir \"Escolha a operação:\"\n",
    "    Exibir \"1 - Adição (+)\"\n",
    "    Exibir \"2 - Subtração (-)\"\n",
    "    Exibir \"3 - Multiplicação (*)\"\n",
    "    Exibir \"4 - Divisão (/)\"\n",
    "    Ler operacao\n",
    "\n",
    "    Se operacao = 1 então\n",
    "        resultado ← numero1 + numero2\n",
    "        Exibir \"Resultado da adição: \", resultado\n",
    "\n",
    "    Senão se operacao = 2 então\n",
    "        resultado ← numero1 - numero2\n",
    "        Exibir \"Resultado da subtração: \", resultado\n",
    "\n",
    "    Senão se operacao = 3 então\n",
    "        resultado ← numero1 * numero2\n",
    "        Exibir \"Resultado da multiplicação: \", resultado\n",
    "\n",
    "    Senão se operacao = 4 então\n",
    "        Se numero2 ≠ 0 então\n",
    "            resultado ← numero1 / numero2\n",
    "            Exibir \"Resultado da divisão: \", resultado\n",
    "        Senão\n",
    "            Exibir \"Erro: divisão por zero não é permitida.\"\n",
    "\n",
    "    Senão\n",
    "        Exibir \"Operação inválida.\"\n",
    "\n",
    "Fim\n",
    "\n"
   ]
  },
  {
   "cell_type": "code",
   "execution_count": 8,
   "id": "8f88b527",
   "metadata": {},
   "outputs": [
    {
     "name": "stdout",
     "output_type": "stream",
     "text": [
      "CALCULADORA SIMPLES\n",
      " 10.0 / 5.0 = 2.0\n"
     ]
    }
   ],
   "source": [
    "print ('CALCULADORA SIMPLES')\n",
    "\n",
    "Operaçao = input('Digite a operação desejada (+, -, *, /) :')\n",
    "\n",
    "nun1 = float (input('Digite o primeiro numero :'))\n",
    "num2 = float (input('Digite o segundo numero : '))\n",
    "\n",
    "if Operaçao == '+' :\n",
    "    resultado = nun1 + num2\n",
    "    print (f' {nun1} + {num2 } = {resultado}')\n",
    "elif Operaçao == '-' :\n",
    "    resultado = nun1 - num2\n",
    "    print (f' {nun1} - {num2 } = {resultado}')    \n",
    "elif Operaçao == '*' :\n",
    "    resultado = nun1 * num2\n",
    "    print (f' {nun1} * {num2 } = {resultado}')\n",
    "elif Operaçao == '/':\n",
    "     resultado = nun1 / num2\n",
    "     print (f' {nun1} / {num2 } = {resultado}')    \n",
    "else:\n",
    "    print ('Operação Invalida')        \n",
    "    "
   ]
  }
 ],
 "metadata": {
  "kernelspec": {
   "display_name": "base",
   "language": "python",
   "name": "python3"
  },
  "language_info": {
   "codemirror_mode": {
    "name": "ipython",
    "version": 3
   },
   "file_extension": ".py",
   "mimetype": "text/x-python",
   "name": "python",
   "nbconvert_exporter": "python",
   "pygments_lexer": "ipython3",
   "version": "3.12.7"
  }
 },
 "nbformat": 4,
 "nbformat_minor": 5
}
