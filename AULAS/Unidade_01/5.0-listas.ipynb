{
 "cells": [
  {
   "cell_type": "markdown",
   "id": "52f98727",
   "metadata": {},
   "source": [
    "# Listas em Python\n",
    "\n",
    "## O que é uma lista?\n",
    "Em Python, **listas** são estruturas de dados que armazenam múltiplos valores em uma única variável. Elas são mutáveis, ou seja, seus elementos podem ser modificados após a criação.\n",
    "\n",
    "## Como criar uma lista\n",
    "\n",
    "```python\n",
    "# Lista vazia\n",
    "minha_lista = []\n",
    "\n",
    "# Lista com elementos\n",
    "frutas = [\"maçã\", \"banana\", \"laranja\"]\n",
    "numeros = [1, 2, 3, 4, 5]\n",
    "mista = [1, \"texto\", 3.14, True]\n",
    "```\n",
    "\n",
    "## Acessando elementos da lista\n",
    "\n",
    "```python\n",
    "frutas = [\"maçã\", \"banana\", \"laranja\"]\n",
    "print(frutas[0])  # Saída: maçã\n",
    "print(frutas[-1]) # Saída: laranja (último elemento)\n",
    "```\n",
    "\n",
    "## Modificando elementos\n",
    "\n",
    "```python\n",
    "frutas[1] = \"uva\"  # Substitui \"banana\" por \"uva\"\n",
    "```\n",
    "\n",
    "## Métodos úteis\n",
    "\n",
    "```python\n",
    "frutas.append(\"melancia\")     # Adiciona ao final\n",
    "frutas.insert(1, \"abacaxi\")   # Insere na posição 1\n",
    "frutas.remove(\"maçã\")         # Remove um elemento\n",
    "frutas.pop()                  # Remove o último elemento\n",
    "frutas.sort()                 # Ordena a lista\n",
    "frutas.reverse()              # Inverte a lista\n",
    "```\n",
    "\n",
    "## Iterando sobre uma lista\n",
    "\n",
    "```python\n",
    "for fruta in frutas:\n",
    "    print(fruta)\n",
    "```\n",
    "\n",
    "## Verificando se um elemento está na lista\n",
    "\n",
    "```python\n",
    "if \"banana\" in frutas:\n",
    "    print(\"Banana está na lista!\")\n",
    "```\n",
    "\n",
    "## Tamanho da lista\n",
    "\n",
    "```python\n",
    "print(len(frutas))\n",
    "```\n",
    "\n",
    "## Conclusão\n",
    "\n",
    "Listas são uma das estruturas mais utilizadas em Python devido à sua flexibilidade e facilidade de uso."
   ]
  },
  {
   "cell_type": "code",
   "execution_count": 28,
   "id": "f5820624",
   "metadata": {},
   "outputs": [
    {
     "name": "stdout",
     "output_type": "stream",
     "text": [
      "['arroz, franco, tomate, leite']\n"
     ]
    }
   ],
   "source": [
    "lista_1 = ['arroz, franco, tomate, leite']\n",
    "print(lista_1)"
   ]
  },
  {
   "cell_type": "code",
   "execution_count": 29,
   "id": "23288247",
   "metadata": {},
   "outputs": [
    {
     "name": "stdout",
     "output_type": "stream",
     "text": [
      "['arroz', 'franco', 'tomate', 'leite']\n"
     ]
    }
   ],
   "source": [
    "lista_2 = ['arroz','franco','tomate','leite']\n",
    "print(lista_2)"
   ]
  },
  {
   "cell_type": "code",
   "execution_count": 30,
   "id": "0301f6c7",
   "metadata": {},
   "outputs": [
    {
     "name": "stdout",
     "output_type": "stream",
     "text": [
      "[23, 100, 'Cientista de Dados']\n"
     ]
    }
   ],
   "source": [
    "lista_3 = [23,100,'Cientista de Dados']\n",
    "print(lista_3)"
   ]
  },
  {
   "cell_type": "code",
   "execution_count": 31,
   "id": "e6bc88e8",
   "metadata": {},
   "outputs": [
    {
     "name": "stdout",
     "output_type": "stream",
     "text": [
      "23 100 Cientista de Dados\n"
     ]
    }
   ],
   "source": [
    "item1 = lista_3[0]\n",
    "item2 = lista_3[1]\n",
    "item3 = lista_3[2]\n",
    "print(item1,item2,item3)"
   ]
  },
  {
   "cell_type": "code",
   "execution_count": 32,
   "id": "250f5152",
   "metadata": {},
   "outputs": [
    {
     "name": "stdout",
     "output_type": "stream",
     "text": [
      "['arroz', 'franco', 'chocolate', 'leite']\n"
     ]
    }
   ],
   "source": [
    "lista_2[2]='chocolate'\n",
    "print(lista_2)"
   ]
  },
  {
   "cell_type": "code",
   "execution_count": 33,
   "id": "9f4f98cb",
   "metadata": {},
   "outputs": [
    {
     "ename": "IndexError",
     "evalue": "list assignment index out of range",
     "output_type": "error",
     "traceback": [
      "\u001b[31m---------------------------------------------------------------------------\u001b[39m",
      "\u001b[31mIndexError\u001b[39m                                Traceback (most recent call last)",
      "\u001b[36mCell\u001b[39m\u001b[36m \u001b[39m\u001b[32mIn[33]\u001b[39m\u001b[32m, line 1\u001b[39m\n\u001b[32m----> \u001b[39m\u001b[32m1\u001b[39m \u001b[38;5;28;01mdel\u001b[39;00m \u001b[43mlista_2\u001b[49m\u001b[43m[\u001b[49m\u001b[32;43m4\u001b[39;49m\u001b[43m]\u001b[49m\n",
      "\u001b[31mIndexError\u001b[39m: list assignment index out of range"
     ]
    }
   ],
   "source": [
    "del lista_2[4]\n"
   ]
  },
  {
   "cell_type": "code",
   "execution_count": null,
   "id": "75edc51f",
   "metadata": {},
   "outputs": [],
   "source": [
    "del lista_2[3]"
   ]
  },
  {
   "cell_type": "code",
   "execution_count": null,
   "id": "3674c71d",
   "metadata": {},
   "outputs": [
    {
     "data": {
      "text/plain": [
       "['arroz', 'franco', 'chocolate']"
      ]
     },
     "execution_count": 34,
     "metadata": {},
     "output_type": "execute_result"
    }
   ],
   "source": [
    "lista_2"
   ]
  },
  {
   "cell_type": "code",
   "execution_count": null,
   "id": "c5e1a62c",
   "metadata": {},
   "outputs": [],
   "source": [
    "# Atribuindo uma lista de listas \n",
    "listas =[[1,2,3],[10,5,14],[10.1,8.7,2.3]]"
   ]
  },
  {
   "cell_type": "code",
   "execution_count": null,
   "id": "9b22ea74",
   "metadata": {},
   "outputs": [
    {
     "name": "stdout",
     "output_type": "stream",
     "text": [
      "[[1, 2, 3], [10, 5, 14], [10.1, 8.7, 2.3]]\n"
     ]
    }
   ],
   "source": [
    "print(listas)"
   ]
  },
  {
   "cell_type": "code",
   "execution_count": null,
   "id": "9ff5a48c",
   "metadata": {},
   "outputs": [
    {
     "data": {
      "text/plain": [
       "[1, 2, 3]"
      ]
     },
     "execution_count": 44,
     "metadata": {},
     "output_type": "execute_result"
    }
   ],
   "source": [
    "# Atribuindo um item da lista a uma variavél\n",
    "a = listas [0]\n",
    "a"
   ]
  },
  {
   "cell_type": "code",
   "execution_count": null,
   "id": "1b0c152d",
   "metadata": {},
   "outputs": [
    {
     "data": {
      "text/plain": [
       "1"
      ]
     },
     "execution_count": 47,
     "metadata": {},
     "output_type": "execute_result"
    }
   ],
   "source": [
    "b = a [0]\n",
    "b"
   ]
  },
  {
   "cell_type": "code",
   "execution_count": null,
   "id": "f261ed9d",
   "metadata": {},
   "outputs": [
    {
     "data": {
      "text/plain": [
       "[[1, 2, 3], [10, 5, 14], [10.1, 8.7, 2.3]]"
      ]
     },
     "execution_count": 50,
     "metadata": {},
     "output_type": "execute_result"
    }
   ],
   "source": [
    "listas"
   ]
  },
  {
   "cell_type": "code",
   "execution_count": null,
   "id": "38b33d8b",
   "metadata": {},
   "outputs": [],
   "source": [
    "list1 = listas [1]"
   ]
  },
  {
   "cell_type": "code",
   "execution_count": null,
   "id": "5b797f4a",
   "metadata": {},
   "outputs": [
    {
     "data": {
      "text/plain": [
       "[10, 5, 14]"
      ]
     },
     "execution_count": 48,
     "metadata": {},
     "output_type": "execute_result"
    }
   ],
   "source": [
    "list1"
   ]
  },
  {
   "cell_type": "code",
   "execution_count": null,
   "id": "b5e371d7",
   "metadata": {},
   "outputs": [],
   "source": [
    "valor_1_0 = list1[0]"
   ]
  },
  {
   "cell_type": "code",
   "execution_count": null,
   "id": "9bbd9e1e",
   "metadata": {},
   "outputs": [
    {
     "data": {
      "text/plain": [
       "10"
      ]
     },
     "execution_count": 53,
     "metadata": {},
     "output_type": "execute_result"
    }
   ],
   "source": [
    "valor_1_0"
   ]
  },
  {
   "cell_type": "code",
   "execution_count": null,
   "id": "be795f99",
   "metadata": {},
   "outputs": [],
   "source": [
    "valor_1_2 = list1[2]"
   ]
  },
  {
   "cell_type": "code",
   "execution_count": null,
   "id": "f3f3a3c3",
   "metadata": {},
   "outputs": [
    {
     "data": {
      "text/plain": [
       "14"
      ]
     },
     "execution_count": 55,
     "metadata": {},
     "output_type": "execute_result"
    }
   ],
   "source": [
    "valor_1_2"
   ]
  },
  {
   "cell_type": "code",
   "execution_count": null,
   "id": "f28f92af",
   "metadata": {},
   "outputs": [],
   "source": [
    "list2 = listas [2]"
   ]
  },
  {
   "cell_type": "code",
   "execution_count": null,
   "id": "bca349cc",
   "metadata": {},
   "outputs": [
    {
     "data": {
      "text/plain": [
       "[10.1, 8.7, 2.3]"
      ]
     },
     "execution_count": 68,
     "metadata": {},
     "output_type": "execute_result"
    }
   ],
   "source": [
    "list2"
   ]
  },
  {
   "cell_type": "code",
   "execution_count": null,
   "id": "328d31c4",
   "metadata": {},
   "outputs": [],
   "source": [
    "valor_2_0 = list2[0]"
   ]
  },
  {
   "cell_type": "code",
   "execution_count": null,
   "id": "86d457ce",
   "metadata": {},
   "outputs": [
    {
     "data": {
      "text/plain": [
       "10.1"
      ]
     },
     "execution_count": 70,
     "metadata": {},
     "output_type": "execute_result"
    }
   ],
   "source": [
    "valor_2_0"
   ]
  },
  {
   "cell_type": "markdown",
   "id": "805e3a90",
   "metadata": {},
   "source": [
    "<h2>Operações com listas</h2>\n"
   ]
  },
  {
   "cell_type": "code",
   "execution_count": null,
   "id": "875f4dbb",
   "metadata": {},
   "outputs": [
    {
     "name": "stdout",
     "output_type": "stream",
     "text": [
      "[[1, 2, 3], [10, 15, 14], [10.1, 8.7, 2.3]]\n"
     ]
    }
   ],
   "source": [
    "# Criando uma lista aninhada (lista de listas )\n",
    "listas = [[1,2,3],[10,15,14],[10.1,8.7,2.3]]\n",
    "print (listas )"
   ]
  },
  {
   "cell_type": "code",
   "execution_count": null,
   "id": "8160aed2",
   "metadata": {},
   "outputs": [],
   "source": [
    "a=listas  [0] [0]"
   ]
  },
  {
   "cell_type": "code",
   "execution_count": null,
   "id": "f545c967",
   "metadata": {},
   "outputs": [
    {
     "data": {
      "text/plain": [
       "1"
      ]
     },
     "execution_count": 75,
     "metadata": {},
     "output_type": "execute_result"
    }
   ],
   "source": [
    "a"
   ]
  },
  {
   "cell_type": "code",
   "execution_count": null,
   "id": "2fa05945",
   "metadata": {},
   "outputs": [
    {
     "data": {
      "text/plain": [
       "14"
      ]
     },
     "execution_count": 76,
     "metadata": {},
     "output_type": "execute_result"
    }
   ],
   "source": [
    "b = listas [1][2]\n",
    "b"
   ]
  },
  {
   "cell_type": "code",
   "execution_count": null,
   "id": "5dc0ad09",
   "metadata": {},
   "outputs": [
    {
     "data": {
      "text/plain": [
       "13"
      ]
     },
     "execution_count": 78,
     "metadata": {},
     "output_type": "execute_result"
    }
   ],
   "source": [
    "c= listas [0][2]+10\n",
    "c"
   ]
  },
  {
   "cell_type": "code",
   "execution_count": null,
   "id": "f70cd632",
   "metadata": {},
   "outputs": [
    {
     "data": {
      "text/plain": [
       "101.0"
      ]
     },
     "execution_count": 81,
     "metadata": {},
     "output_type": "execute_result"
    }
   ],
   "source": [
    "d =10\n",
    "e= d* listas [2][0]\n",
    "e"
   ]
  },
  {
   "cell_type": "code",
   "execution_count": null,
   "id": "f2be5115",
   "metadata": {},
   "outputs": [
    {
     "data": {
      "text/plain": [
       "[34, 32, 36, 21, 90, 51]"
      ]
     },
     "execution_count": 86,
     "metadata": {},
     "output_type": "execute_result"
    }
   ],
   "source": [
    "lista_s1 = [34,32,36]\n",
    "lista_s1\n",
    "lista_s2 = [21,90,51]\n",
    "lista_s2\n",
    "# Concatenando listas \n",
    "lista_total =lista_s1 + lista_s2\n",
    "lista_total\n"
   ]
  },
  {
   "cell_type": "code",
   "execution_count": null,
   "id": "b5dbb71d",
   "metadata": {},
   "outputs": [
    {
     "name": "stdout",
     "output_type": "stream",
     "text": [
      "False\n",
      "True\n"
     ]
    }
   ],
   "source": [
    "#Operador in\n",
    "\n",
    "# Criando uma lista \n",
    "lista_teste_op = [100,2,-5,3.4]\n",
    "# verifcando se o valor 10 pertence a lista \n",
    "print (10 in lista_teste_op)\n",
    "#verifcando se o valor 100 pertence a lista \n",
    "print (100 in lista_teste_op)\n",
    "    "
   ]
  },
  {
   "cell_type": "markdown",
   "id": "ae10a269",
   "metadata": {},
   "source": [
    "<h2>Funções Built-in</h2>\n",
    "\n",
    "✅ O que são Funções Built-in?\n",
    "Funções built-in (ou funções embutidas) são funções que já vêm prontas com a linguagem de programação, ou seja, você não precisa criá-las ou importar bibliotecas para usá-las — elas já estão disponíveis automaticamente."
   ]
  },
  {
   "cell_type": "markdown",
   "id": "8e10f2b3",
   "metadata": {},
   "source": []
  },
  {
   "cell_type": "code",
   "execution_count": null,
   "id": "2271caeb",
   "metadata": {},
   "outputs": [
    {
     "data": {
      "text/plain": [
       "4"
      ]
     },
     "execution_count": 1,
     "metadata": {},
     "output_type": "execute_result"
    }
   ],
   "source": [
    "# Criando Uma lista \n",
    "lista_numeros = [10,20,50,-3.4]\n",
    "# Função len() retorna o comprimento da lista \n",
    "len(lista_numeros)"
   ]
  },
  {
   "cell_type": "code",
   "execution_count": null,
   "id": "0725a76e",
   "metadata": {},
   "outputs": [
    {
     "data": {
      "text/plain": [
       "50"
      ]
     },
     "execution_count": 2,
     "metadata": {},
     "output_type": "execute_result"
    }
   ],
   "source": [
    "# Função max () Retorna o valor maximo da lista \n",
    "max(lista_numeros)"
   ]
  },
  {
   "cell_type": "code",
   "execution_count": null,
   "id": "27fc8bdc",
   "metadata": {},
   "outputs": [
    {
     "data": {
      "text/plain": [
       "-3.4"
      ]
     },
     "execution_count": 3,
     "metadata": {},
     "output_type": "execute_result"
    }
   ],
   "source": [
    "# Função min () Retorna o valor mínimo da lista \n",
    "min(lista_numeros)"
   ]
  },
  {
   "cell_type": "code",
   "execution_count": null,
   "id": "204380e6",
   "metadata": {},
   "outputs": [],
   "source": [
    "# Adicionando uma lista \n",
    "lista_formacoes_dsa = ['Analista de Dados ', 'Cientista de Dados ' ,'Engenheiro de dados ']"
   ]
  },
  {
   "cell_type": "code",
   "execution_count": null,
   "id": "292e6d65",
   "metadata": {},
   "outputs": [
    {
     "data": {
      "text/plain": [
       "['Analista de Dados ',\n",
       " 'Cientista de Dados ',\n",
       " 'Engenheiro de dados ',\n",
       " 'engenheiro de IA',\n",
       " 'engenheiro de IA',\n",
       " 'engenheiro de IA',\n",
       " 'engenheiro de IA',\n",
       " 'engenheiro de IA']"
      ]
     },
     "execution_count": 9,
     "metadata": {},
     "output_type": "execute_result"
    }
   ],
   "source": [
    "# Adicionando um item á lista \n",
    "lista_formacoes_dsa.append('engenheiro de IA')\n",
    "\n",
    "lista_formacoes_dsa"
   ]
  },
  {
   "cell_type": "code",
   "execution_count": null,
   "id": "5198c32e",
   "metadata": {},
   "outputs": [
    {
     "data": {
      "text/plain": [
       "5"
      ]
     },
     "execution_count": 10,
     "metadata": {},
     "output_type": "execute_result"
    }
   ],
   "source": [
    "lista_formacoes_dsa.count('engenheiro de IA')"
   ]
  },
  {
   "cell_type": "code",
   "execution_count": null,
   "id": "f0985130",
   "metadata": {},
   "outputs": [
    {
     "name": "stdout",
     "output_type": "stream",
     "text": [
      "[]\n"
     ]
    }
   ],
   "source": [
    "#Criando uma lista vazia\n",
    "a = []\n",
    "print (a)\n"
   ]
  },
  {
   "cell_type": "code",
   "execution_count": null,
   "id": "f9165627",
   "metadata": {},
   "outputs": [
    {
     "data": {
      "text/plain": [
       "list"
      ]
     },
     "execution_count": 12,
     "metadata": {},
     "output_type": "execute_result"
    }
   ],
   "source": [
    "type (a)"
   ]
  },
  {
   "cell_type": "code",
   "execution_count": null,
   "id": "03a9da0b",
   "metadata": {},
   "outputs": [
    {
     "data": {
      "text/plain": [
       "[10]"
      ]
     },
     "execution_count": 13,
     "metadata": {},
     "output_type": "execute_result"
    }
   ],
   "source": [
    "a.append(10)\n",
    "a"
   ]
  },
  {
   "cell_type": "code",
   "execution_count": null,
   "id": "fe26d80d",
   "metadata": {},
   "outputs": [
    {
     "data": {
      "text/plain": [
       "[10, 50]"
      ]
     },
     "execution_count": 14,
     "metadata": {},
     "output_type": "execute_result"
    }
   ],
   "source": [
    "a.append(50)\n",
    "a"
   ]
  },
  {
   "cell_type": "code",
   "execution_count": null,
   "id": "5b5afb9f",
   "metadata": {},
   "outputs": [],
   "source": [
    "old_list = [1,2,5,10]\n",
    "new_list = []"
   ]
  },
  {
   "cell_type": "code",
   "execution_count": null,
   "id": "abf251ee",
   "metadata": {},
   "outputs": [
    {
     "data": {
      "text/plain": [
       "[1, 2, 5, 10]"
      ]
     },
     "execution_count": 16,
     "metadata": {},
     "output_type": "execute_result"
    }
   ],
   "source": [
    "#Copiando os itens de uma lista para outra \n",
    "\n",
    "for item in old_list:\n",
    "    new_list.append(item)\n",
    "new_list    "
   ]
  },
  {
   "cell_type": "code",
   "execution_count": 37,
   "id": "2207165b",
   "metadata": {},
   "outputs": [
    {
     "name": "stdout",
     "output_type": "stream",
     "text": [
      "['Recife', 'Manuas', 'Salvador', 'Fortaleza', 'Palmas']\n"
     ]
    },
    {
     "data": {
      "text/plain": [
       "2"
      ]
     },
     "execution_count": 37,
     "metadata": {},
     "output_type": "execute_result"
    }
   ],
   "source": [
    "cidades = ['Recife', 'Manuas','Salvador']\n",
    "cidades.extend(['Fortaleza','Palmas'])\n",
    "print (cidades)\n",
    "cidades.index('Salvador')"
   ]
  },
  {
   "cell_type": "code",
   "execution_count": null,
   "id": "aede3588",
   "metadata": {},
   "outputs": [
    {
     "data": {
      "text/plain": [
       "['Recife', 'Manuas', 'Salvador', 'Fortaleza', 'Palmas']"
      ]
     },
     "execution_count": 38,
     "metadata": {},
     "output_type": "execute_result"
    }
   ],
   "source": [
    "cidades"
   ]
  },
  {
   "cell_type": "code",
   "execution_count": 39,
   "id": "90983780",
   "metadata": {},
   "outputs": [
    {
     "data": {
      "text/plain": [
       "['Recife', 'Manuas', 110, 'Salvador', 'Fortaleza', 'Palmas']"
      ]
     },
     "execution_count": 39,
     "metadata": {},
     "output_type": "execute_result"
    }
   ],
   "source": [
    "cidades.insert(2,110)\n",
    "cidades"
   ]
  },
  {
   "cell_type": "code",
   "execution_count": 40,
   "id": "d7041ac2",
   "metadata": {},
   "outputs": [
    {
     "data": {
      "text/plain": [
       "['Recife', 'Manuas', 'Salvador', 'Fortaleza', 'Palmas']"
      ]
     },
     "execution_count": 40,
     "metadata": {},
     "output_type": "execute_result"
    }
   ],
   "source": [
    "# Remove um item da lista\n",
    "cidades.remove(110)\n",
    "cidades"
   ]
  },
  {
   "cell_type": "code",
   "execution_count": 41,
   "id": "c4f02d18",
   "metadata": {},
   "outputs": [
    {
     "data": {
      "text/plain": [
       "['Palmas', 'Fortaleza', 'Salvador', 'Manuas', 'Recife']"
      ]
     },
     "execution_count": 41,
     "metadata": {},
     "output_type": "execute_result"
    }
   ],
   "source": [
    "# Reverte a lista \n",
    "cidades.reverse()\n",
    "cidades"
   ]
  },
  {
   "cell_type": "code",
   "execution_count": 43,
   "id": "6ed8b33e",
   "metadata": {},
   "outputs": [
    {
     "data": {
      "text/plain": [
       "[1, 2, 3, 4]"
      ]
     },
     "execution_count": 43,
     "metadata": {},
     "output_type": "execute_result"
    }
   ],
   "source": [
    "x = [3,4,2,1]\n",
    "# Ordena a lista\n",
    "x.sort()\n",
    "x"
   ]
  },
  {
   "cell_type": "markdown",
   "id": "6521fbcb",
   "metadata": {},
   "source": [
    "### Aprofundando em estruturas de dados simples em python\n",
    "\n",
    "**1.1 Motivação**"
   ]
  },
  {
   "cell_type": "markdown",
   "id": "59a9bb25",
   "metadata": {},
   "source": [
    "O aplicativo do seu banco registra toda movimentação financeira . O final do dia , o app consolida o saldo final para que você possa controlar sua vida financeira "
   ]
  },
  {
   "cell_type": "code",
   "execution_count": 4,
   "id": "7811ac75",
   "metadata": {},
   "outputs": [
    {
     "name": "stdout",
     "output_type": "stream",
     "text": [
      "860.63\n"
     ]
    }
   ],
   "source": [
    "dia_saldo_inicial = 1000\n",
    "\n",
    "dia_11_transacao_1 = 243\n",
    "dia_11_transacao_2 = -798.58\n",
    "dia_11_transacao_3 = 427.12\n",
    "dia_11_transacao_4 = -10.91\n",
    " \n",
    "dia_11_saldo_final  = dia_saldo_inicial + dia_11_transacao_1 + dia_11_transacao_2 + dia_11_transacao_3 + dia_11_transacao_4\n",
    "print (dia_11_saldo_final)"
   ]
  },
  {
   "cell_type": "markdown",
   "id": "e7d566b9",
   "metadata": {},
   "source": [
    "Será que existe uma forma melhor de armazenar transações diárias ?"
   ]
  },
  {
   "cell_type": "markdown",
   "id": "30201791",
   "metadata": {},
   "source": [
    " **1.2 Definição**\n",
    " \n",
    " Armazenam sequências mutáveis e ordenadas de valores . são do tipo list:"
   ]
  },
  {
   "cell_type": "code",
   "execution_count": 8,
   "id": "16cd60ad",
   "metadata": {},
   "outputs": [
    {
     "name": "stdout",
     "output_type": "stream",
     "text": [
      "['Andre Peres', 'andre.perez', 'andreperez@gmail.com']\n",
      "<class 'list'>\n",
      "['Andre Perez', 20, 'andre.perez', 'andre123', 'andre.perez@gmail.com', 723.15, True]\n",
      "<class 'list'>\n"
     ]
    }
   ],
   "source": [
    "usuario_web = ['Andre Peres','andre.perez','andreperez@gmail.com']\n",
    "print(usuario_web)\n",
    "print(type(usuario_web))\n",
    "\n",
    "idade = 20\n",
    "saldo_em_conta = 723.15\n",
    "usuario_loggedin = True\n",
    "\n",
    "usuario_web = ['Andre Perez', idade, 'andre.perez', 'andre123', 'andre.perez@gmail.com', saldo_em_conta, usuario_loggedin]\n",
    "print(usuario_web)\n",
    "print(type(usuario_web))"
   ]
  },
  {
   "cell_type": "markdown",
   "id": "28fd16cb",
   "metadata": {},
   "source": [
    "**1.3 Operações**\n",
    "\n",
    ". + (Concatenação)"
   ]
  },
  {
   "cell_type": "markdown",
   "id": "08993513",
   "metadata": {},
   "source": [
    "**Exemplo :** Fabricantes de **Hardware* mobile\n"
   ]
  },
  {
   "cell_type": "code",
   "execution_count": 1,
   "id": "8df0b75b",
   "metadata": {},
   "outputs": [
    {
     "name": "stdout",
     "output_type": "stream",
     "text": [
      "['xiaomi', 'huawei', 'apple', 'motorola']\n",
      "['apple', 'motorola']\n",
      "['xiaomi', 'huawei', 'apple', 'motorola']\n"
     ]
    }
   ],
   "source": [
    "fabricantes_mobile_china = ['xiaomi', 'huawei']\n",
    "Fabricantes_mobile_eua = ['apple', 'motorola']\n",
    "fabricantes_mobile = fabricantes_mobile_china + Fabricantes_mobile_eua\n",
    "\n",
    "print(fabricantes_mobile)\n",
    "print(Fabricantes_mobile_eua)\n",
    "print(fabricantes_mobile)"
   ]
  },
  {
   "cell_type": "markdown",
   "id": "b9da7929",
   "metadata": {},
   "source": [
    "Outra operação muito ultilizada é a de fatiamento (**slicing*),semelhante ao de **strings*"
   ]
  },
  {
   "cell_type": "markdown",
   "id": "08497e61",
   "metadata": {},
   "source": [
    "Fatiamento fixo:\n"
   ]
  },
  {
   "cell_type": "code",
   "execution_count": 5,
   "id": "b6be245f",
   "metadata": {},
   "outputs": [
    {
     "name": "stdout",
     "output_type": "stream",
     "text": [
      "0:xiaomi\n",
      "-1: motorola\n"
     ]
    }
   ],
   "source": [
    "print(f'0:{fabricantes_mobile[0]}')\n",
    "print(f'-1: {fabricantes_mobile[-1]}')\n"
   ]
  },
  {
   "cell_type": "code",
   "execution_count": 7,
   "id": "f7e4f8c3",
   "metadata": {},
   "outputs": [
    {
     "name": "stdout",
     "output_type": "stream",
     "text": [
      "china: ['xiaomi', 'huawei']\n",
      "eua: ['apple', 'motorola']\n"
     ]
    }
   ],
   "source": [
    "# Fatiamento por intervalo:\n",
    "fabricantes_mobile_china = fabricantes_mobile[0:2]\n",
    "Fabricantes_mobile_eua = fabricantes_mobile[2:len(fabricantes_mobile)]\n",
    "\n",
    "print('china: ' + str(fabricantes_mobile_china))\n",
    "print('eua: ' + str(Fabricantes_mobile_eua))\n"
   ]
  },
  {
   "cell_type": "code",
   "execution_count": 8,
   "id": "62bd733f",
   "metadata": {},
   "outputs": [
    {
     "name": "stdout",
     "output_type": "stream",
     "text": [
      "['xiaomi', 'huawei', 'apple', 'motorola']\n"
     ]
    }
   ],
   "source": [
    "# Podemos adicioanr elementos a uma posição especifica da lista :\n",
    "\n",
    "print (fabricantes_mobile)"
   ]
  },
  {
   "cell_type": "code",
   "execution_count": 12,
   "id": "7ecf0ec3",
   "metadata": {},
   "outputs": [
    {
     "name": "stdout",
     "output_type": "stream",
     "text": [
      "['xiaomi', 'huawei', 'nokia', 'motorola']\n"
     ]
    }
   ],
   "source": [
    "fabricantes_mobile  [2] = 'nokia'\n",
    "print (fabricantes_mobile)"
   ]
  },
  {
   "cell_type": "markdown",
   "id": "b985dd5e",
   "metadata": {},
   "source": [
    "**Métodos \n",
    "\n",
    "São métodos nativos do python que nos ajudam a trabalhar no dia a dia com listas ."
   ]
  },
  {
   "cell_type": "code",
   "execution_count": 13,
   "id": "5aee36f4",
   "metadata": {},
   "outputs": [
    {
     "name": "stdout",
     "output_type": "stream",
     "text": [
      "[0.05, 0.07, 0.02, 0.04, 0.08]\n"
     ]
    }
   ],
   "source": [
    "juros = [0.05,0.07,0.02,0.04,0.08]\n",
    "print(juros)"
   ]
  },
  {
   "cell_type": "code",
   "execution_count": 14,
   "id": "fe097688",
   "metadata": {},
   "outputs": [
    {
     "name": "stdout",
     "output_type": "stream",
     "text": [
      "[0.1, 0.05, 0.07, 0.02, 0.04, 0.08]\n"
     ]
    }
   ],
   "source": [
    "# inseir um elemennto sem substituir : list.insert(index,val)\n",
    "juros.insert(0,0.10)\n",
    "print(juros)"
   ]
  },
  {
   "cell_type": "code",
   "execution_count": 15,
   "id": "f90c5151",
   "metadata": {},
   "outputs": [
    {
     "name": "stdout",
     "output_type": "stream",
     "text": [
      "[0.1, 0.05, 0.07, 0.02, 0.04, 0.08, 0.09]\n"
     ]
    }
   ],
   "source": [
    "# inserir um elemento no fim da lista : list.append(val)\n",
    "juros.append(0.09)\n",
    "print(juros)"
   ]
  },
  {
   "cell_type": "code",
   "execution_count": 16,
   "id": "04962d85",
   "metadata": {},
   "outputs": [
    {
     "name": "stdout",
     "output_type": "stream",
     "text": [
      "[0.05, 0.07, 0.02, 0.04, 0.08, 0.09]\n"
     ]
    }
   ],
   "source": [
    "# Removendo um elemento pelo valor : list.remove(val)\n",
    "juros.remove(0.1)\n",
    "print(juros)"
   ]
  },
  {
   "cell_type": "code",
   "execution_count": 19,
   "id": "2d0d3c08",
   "metadata": {},
   "outputs": [
    {
     "name": "stdout",
     "output_type": "stream",
     "text": [
      "0.02\n"
     ]
    }
   ],
   "source": [
    "# Remover um elemento pelo indice : list.pop(val)\n",
    "\n",
    "terceiro_juros = juros.pop(2)\n",
    "print (terceiro_juros)"
   ]
  },
  {
   "cell_type": "code",
   "execution_count": 20,
   "id": "5121969f",
   "metadata": {},
   "outputs": [
    {
     "name": "stdout",
     "output_type": "stream",
     "text": [
      "[0.05, 0.07, 0.04, 0.08, 0.09]\n"
     ]
    }
   ],
   "source": [
    "print(juros)\n"
   ]
  },
  {
   "cell_type": "markdown",
   "id": "633c0208",
   "metadata": {},
   "source": [
    "**1.5 Coversão**\n",
    "\n",
    "Podemos Converter alguns tipos de variaveis em listas , como *Strings*\n"
   ]
  },
  {
   "cell_type": "code",
   "execution_count": 21,
   "id": "0608c6b4",
   "metadata": {},
   "outputs": [
    {
     "name": "stdout",
     "output_type": "stream",
     "text": [
      "andre.perez@gmail.com\n",
      "['a', 'n', 'd', 'r', 'e', '.', 'p', 'e', 'r', 'e', 'z', '@', 'g', 'm', 'a', 'i', 'l', '.', 'c', 'o', 'm']\n"
     ]
    }
   ],
   "source": [
    "email ='andre.perez@gmail.com'\n",
    "caractere_email = list(email)\n",
    "print(email)\n",
    "print(caractere_email)"
   ]
  },
  {
   "cell_type": "markdown",
   "id": "69c0efdd",
   "metadata": {},
   "source": [
    "**1.6 Revisitando a motivação**"
   ]
  },
  {
   "cell_type": "code",
   "execution_count": 23,
   "id": "0049b39f",
   "metadata": {},
   "outputs": [
    {
     "name": "stdout",
     "output_type": "stream",
     "text": [
      "[243, -798.58, 427.12, -10.91]\n",
      "860.63\n"
     ]
    }
   ],
   "source": [
    "dia_11_saldo_inicial =1000\n",
    "\n",
    "dia_11_transacaoes = list()\n",
    "\n",
    "dia_11_transacaoes.append(243)\n",
    "dia_11_transacaoes.append(-798.58)\n",
    "dia_11_transacaoes.append(427.12)\n",
    "dia_11_transacaoes.append(-10.91)\n",
    "\n",
    "print(dia_11_transacaoes)\n",
    "\n",
    "dia_11_saldo_final =  dia_11_saldo_inicial +  dia_11_transacaoes[0]+dia_11_transacaoes[1]+dia_11_transacaoes[2]+ dia_11_transacaoes[3]\n",
    "print(dia_11_saldo_final)\n"
   ]
  },
  {
   "cell_type": "markdown",
   "id": "5bc8e63f",
   "metadata": {},
   "source": []
  }
 ],
 "metadata": {
  "kernelspec": {
   "display_name": "Python 3",
   "language": "python",
   "name": "python3"
  },
  "language_info": {
   "codemirror_mode": {
    "name": "ipython",
    "version": 3
   },
   "file_extension": ".py",
   "mimetype": "text/x-python",
   "name": "python",
   "nbconvert_exporter": "python",
   "pygments_lexer": "ipython3",
   "version": "3.13.2"
  }
 },
 "nbformat": 4,
 "nbformat_minor": 5
}
