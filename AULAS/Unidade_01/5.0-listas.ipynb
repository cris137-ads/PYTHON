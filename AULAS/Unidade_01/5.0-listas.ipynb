{
 "cells": [
  {
   "cell_type": "markdown",
   "id": "52f98727",
   "metadata": {},
   "source": [
    "# Listas em Python\n",
    "\n",
    "## O que é uma lista?\n",
    "Em Python, **listas** são estruturas de dados que armazenam múltiplos valores em uma única variável. Elas são mutáveis, ou seja, seus elementos podem ser modificados após a criação.\n",
    "\n",
    "## Como criar uma lista\n",
    "\n",
    "```python\n",
    "# Lista vazia\n",
    "minha_lista = []\n",
    "\n",
    "# Lista com elementos\n",
    "frutas = [\"maçã\", \"banana\", \"laranja\"]\n",
    "numeros = [1, 2, 3, 4, 5]\n",
    "mista = [1, \"texto\", 3.14, True]\n",
    "```\n",
    "\n",
    "## Acessando elementos da lista\n",
    "\n",
    "```python\n",
    "frutas = [\"maçã\", \"banana\", \"laranja\"]\n",
    "print(frutas[0])  # Saída: maçã\n",
    "print(frutas[-1]) # Saída: laranja (último elemento)\n",
    "```\n",
    "\n",
    "## Modificando elementos\n",
    "\n",
    "```python\n",
    "frutas[1] = \"uva\"  # Substitui \"banana\" por \"uva\"\n",
    "```\n",
    "\n",
    "## Métodos úteis\n",
    "\n",
    "```python\n",
    "frutas.append(\"melancia\")     # Adiciona ao final\n",
    "frutas.insert(1, \"abacaxi\")   # Insere na posição 1\n",
    "frutas.remove(\"maçã\")         # Remove um elemento\n",
    "frutas.pop()                  # Remove o último elemento\n",
    "frutas.sort()                 # Ordena a lista\n",
    "frutas.reverse()              # Inverte a lista\n",
    "```\n",
    "\n",
    "## Iterando sobre uma lista\n",
    "\n",
    "```python\n",
    "for fruta in frutas:\n",
    "    print(fruta)\n",
    "```\n",
    "\n",
    "## Verificando se um elemento está na lista\n",
    "\n",
    "```python\n",
    "if \"banana\" in frutas:\n",
    "    print(\"Banana está na lista!\")\n",
    "```\n",
    "\n",
    "## Tamanho da lista\n",
    "\n",
    "```python\n",
    "print(len(frutas))\n",
    "```\n",
    "\n",
    "## Conclusão\n",
    "\n",
    "Listas são uma das estruturas mais utilizadas em Python devido à sua flexibilidade e facilidade de uso."
   ]
  },
  {
   "cell_type": "code",
   "execution_count": 36,
   "id": "f5820624",
   "metadata": {},
   "outputs": [
    {
     "name": "stdout",
     "output_type": "stream",
     "text": [
      "['arroz, franco, tomate, leite']\n"
     ]
    }
   ],
   "source": [
    "lista_1 = ['arroz, franco, tomate, leite']\n",
    "print(lista_1)"
   ]
  },
  {
   "cell_type": "code",
   "execution_count": 37,
   "id": "23288247",
   "metadata": {},
   "outputs": [
    {
     "name": "stdout",
     "output_type": "stream",
     "text": [
      "['arroz', 'franco', 'tomate', 'leite']\n"
     ]
    }
   ],
   "source": [
    "lista_2 = ['arroz','franco','tomate','leite']\n",
    "print(lista_2)"
   ]
  },
  {
   "cell_type": "code",
   "execution_count": 38,
   "id": "0301f6c7",
   "metadata": {},
   "outputs": [
    {
     "name": "stdout",
     "output_type": "stream",
     "text": [
      "[23, 100, 'Cientista de Dados']\n"
     ]
    }
   ],
   "source": [
    "lista_3 = [23,100,'Cientista de Dados']\n",
    "print(lista_3)"
   ]
  },
  {
   "cell_type": "code",
   "execution_count": 39,
   "id": "e6bc88e8",
   "metadata": {},
   "outputs": [
    {
     "name": "stdout",
     "output_type": "stream",
     "text": [
      "23 100 Cientista de Dados\n"
     ]
    }
   ],
   "source": [
    "item1 = lista_3[0]\n",
    "item2 = lista_3[1]\n",
    "item3 = lista_3[2]\n",
    "print(item1,item2,item3)"
   ]
  },
  {
   "cell_type": "code",
   "execution_count": 40,
   "id": "250f5152",
   "metadata": {},
   "outputs": [
    {
     "name": "stdout",
     "output_type": "stream",
     "text": [
      "['arroz', 'franco', 'chocolate', 'leite']\n"
     ]
    }
   ],
   "source": [
    "lista_2[2]='chocolate'\n",
    "print(lista_2)"
   ]
  },
  {
   "cell_type": "code",
   "execution_count": 41,
   "id": "9f4f98cb",
   "metadata": {},
   "outputs": [
    {
     "ename": "IndexError",
     "evalue": "list assignment index out of range",
     "output_type": "error",
     "traceback": [
      "\u001b[31m---------------------------------------------------------------------------\u001b[39m",
      "\u001b[31mIndexError\u001b[39m                                Traceback (most recent call last)",
      "\u001b[36mCell\u001b[39m\u001b[36m \u001b[39m\u001b[32mIn[41]\u001b[39m\u001b[32m, line 1\u001b[39m\n\u001b[32m----> \u001b[39m\u001b[32m1\u001b[39m \u001b[38;5;28;01mdel\u001b[39;00m \u001b[43mlista_2\u001b[49m\u001b[43m[\u001b[49m\u001b[32;43m4\u001b[39;49m\u001b[43m]\u001b[49m\n",
      "\u001b[31mIndexError\u001b[39m: list assignment index out of range"
     ]
    }
   ],
   "source": [
    "del lista_2[4]\n"
   ]
  },
  {
   "cell_type": "code",
   "execution_count": null,
   "id": "75edc51f",
   "metadata": {},
   "outputs": [],
   "source": [
    "del lista_2[3]"
   ]
  },
  {
   "cell_type": "code",
   "execution_count": null,
   "id": "3674c71d",
   "metadata": {},
   "outputs": [
    {
     "data": {
      "text/plain": [
       "['arroz', 'franco', 'chocolate']"
      ]
     },
     "execution_count": 34,
     "metadata": {},
     "output_type": "execute_result"
    }
   ],
   "source": [
    "lista_2"
   ]
  },
  {
   "cell_type": "code",
   "execution_count": 42,
   "id": "c5e1a62c",
   "metadata": {},
   "outputs": [],
   "source": [
    "# Atribuindo uma lista de listas \n",
    "listas =[[1,2,3],[10,5,14],[10.1,8.7,2.3]]"
   ]
  },
  {
   "cell_type": "code",
   "execution_count": 43,
   "id": "9b22ea74",
   "metadata": {},
   "outputs": [
    {
     "name": "stdout",
     "output_type": "stream",
     "text": [
      "[[1, 2, 3], [10, 5, 14], [10.1, 8.7, 2.3]]\n"
     ]
    }
   ],
   "source": [
    "print(listas)"
   ]
  },
  {
   "cell_type": "code",
   "execution_count": 44,
   "id": "9ff5a48c",
   "metadata": {},
   "outputs": [
    {
     "data": {
      "text/plain": [
       "[1, 2, 3]"
      ]
     },
     "execution_count": 44,
     "metadata": {},
     "output_type": "execute_result"
    }
   ],
   "source": [
    "# Atribuindo um item da lista a uma variavél\n",
    "a = listas [0]\n",
    "a"
   ]
  },
  {
   "cell_type": "code",
   "execution_count": 47,
   "id": "1b0c152d",
   "metadata": {},
   "outputs": [
    {
     "data": {
      "text/plain": [
       "1"
      ]
     },
     "execution_count": 47,
     "metadata": {},
     "output_type": "execute_result"
    }
   ],
   "source": [
    "b = a [0]\n",
    "b"
   ]
  },
  {
   "cell_type": "code",
   "execution_count": 49,
   "id": "f261ed9d",
   "metadata": {},
   "outputs": [],
   "source": [
    "list1 = listas"
   ]
  },
  {
   "cell_type": "code",
   "execution_count": 50,
   "id": "38b33d8b",
   "metadata": {},
   "outputs": [
    {
     "data": {
      "text/plain": [
       "[[1, 2, 3], [10, 5, 14], [10.1, 8.7, 2.3]]"
      ]
     },
     "execution_count": 50,
     "metadata": {},
     "output_type": "execute_result"
    }
   ],
   "source": [
    "list1"
   ]
  }
 ],
 "metadata": {
  "kernelspec": {
   "display_name": "Python 3",
   "language": "python",
   "name": "python3"
  },
  "language_info": {
   "codemirror_mode": {
    "name": "ipython",
    "version": 3
   },
   "file_extension": ".py",
   "mimetype": "text/x-python",
   "name": "python",
   "nbconvert_exporter": "python",
   "pygments_lexer": "ipython3",
   "version": "3.13.2"
  }
 },
 "nbformat": 4,
 "nbformat_minor": 5
}
