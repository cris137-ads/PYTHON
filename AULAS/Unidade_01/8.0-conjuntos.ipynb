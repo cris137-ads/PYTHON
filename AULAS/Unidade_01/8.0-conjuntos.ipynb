{
 "cells": [
  {
   "cell_type": "markdown",
   "id": "70e884f3",
   "metadata": {},
   "source": [
    "<h2>2.Conjuntos</h2>\n",
    "\n"
   ]
  },
  {
   "cell_type": "markdown",
   "id": "58c5b74c",
   "metadata": {},
   "source": [
    "**2.1 Motivação**\n",
    "\n",
    "Você trabalha como analista de dados de mídias  e precisa descobrir todas as *hashtags* que alcançam o top *trending* do twitter durante uma semana . Você já conseguiu as *hashtags* por dia da semana."
   ]
  },
  {
   "cell_type": "code",
   "execution_count": 1,
   "id": "7f1ac08e",
   "metadata": {},
   "outputs": [],
   "source": [
    "hashtags_seg  =  ['# tiago', '# joao', '#bbb']\n",
    "hashtags_terça =['#Sara','# bbb', '#fiuk']\n",
    "hashtags_quarta = ['#gil','#thelma','#lourdes']\n",
    "hashtags_quinta = ['#rafa','#fora', '#danilo']\n",
    "hashtags_sexta = ['#juliete','#artur','#bbb ']\n",
    "\n"
   ]
  },
  {
   "cell_type": "code",
   "execution_count": 2,
   "id": "9d85fa32",
   "metadata": {},
   "outputs": [
    {
     "name": "stdout",
     "output_type": "stream",
     "text": [
      "['# tiago', '# joao', '#bbb', '#Sara', '# bbb', '#fiuk', '#gil', '#thelma', '#lourdes', '#rafa', '#fora', '#danilo', '#juliete', '#artur', '#bbb ']\n"
     ]
    }
   ],
   "source": [
    "# Uma simples conccatenação fará com que hashtags # bbb, entre outras, apareça mais de uma vez.\n",
    "hashtags = hashtags_seg + hashtags_terça+ hashtags_quarta + hashtags_quinta + hashtags_sexta\n",
    "print(hashtags)"
   ]
  },
  {
   "cell_type": "markdown",
   "id": "de75c1fb",
   "metadata": {},
   "source": [
    "**2.3. definição**\n",
    "\n",
    "Armazenam seguências imutáveis e desordernadas de valores , sem repetição . são do tipo set :\n"
   ]
  },
  {
   "cell_type": "code",
   "execution_count": 3,
   "id": "e3ae7de6",
   "metadata": {},
   "outputs": [
    {
     "name": "stdout",
     "output_type": "stream",
     "text": [
      "{'banana', 'uva', 'maça'}\n",
      "<class 'set'>\n"
     ]
    }
   ],
   "source": [
    "frutas = {'banana','maça','uva','uva'}\n",
    "print(frutas)\n",
    "print(type(frutas))"
   ]
  },
  {
   "cell_type": "markdown",
   "id": "27b5e2ee",
   "metadata": {},
   "source": [
    "**2.3. Operações**\n",
    "As operações da estrutura set são :\n",
    "- -(diferença)"
   ]
  },
  {
   "cell_type": "markdown",
   "id": "f6a047bb",
   "metadata": {},
   "source": [
    "**Exemplo :** Países da europa "
   ]
  },
  {
   "cell_type": "code",
   "execution_count": 9,
   "id": "83564b5b",
   "metadata": {},
   "outputs": [],
   "source": [
    "norte_europa = {'reino unido', 'suecia','Russia','noruega', 'dinamarca'}\n",
    "escandinavia = {'noruega','dinamarca','suecia'}\n",
    "\n"
   ]
  },
  {
   "cell_type": "code",
   "execution_count": 7,
   "id": "986603ac",
   "metadata": {},
   "outputs": [
    {
     "name": "stdout",
     "output_type": "stream",
     "text": [
      "{'reino unido', 'Russia'}\n"
     ]
    }
   ],
   "source": [
    "norte_europa_nao_escandinavo = norte_europa - escandinavia\n",
    "print(norte_europa_nao_escandinavo)"
   ]
  },
  {
   "cell_type": "code",
   "execution_count": 10,
   "id": "5a429946",
   "metadata": {},
   "outputs": [
    {
     "name": "stdout",
     "output_type": "stream",
     "text": [
      "set()\n"
     ]
    }
   ],
   "source": [
    "norte_europa_nao_escandinavo = escandinavia - norte_europa\n",
    "print(norte_europa_nao_escandinavo)"
   ]
  },
  {
   "cell_type": "markdown",
   "id": "6ea4cb46",
   "metadata": {},
   "source": [
    "**2.4. Métodos**\n",
    "\n",
    "São métodos nativos do python que ajudam a trabalhar no dia a dia com conjuntos."
   ]
  },
  {
   "cell_type": "code",
   "execution_count": 11,
   "id": "e56b84ff",
   "metadata": {},
   "outputs": [
    {
     "name": "stdout",
     "output_type": "stream",
     "text": [
      "{'Biologicas', 'Exatas', 'Humana'}\n"
     ]
    }
   ],
   "source": [
    "cursos = {'Exatas', 'Humana', 'Biologicas'}\n",
    "print(cursos)\n",
    "\n"
   ]
  },
  {
   "cell_type": "code",
   "execution_count": 12,
   "id": "c7fdd7c8",
   "metadata": {},
   "outputs": [
    {
     "name": "stdout",
     "output_type": "stream",
     "text": [
      "{'Biologicas', 'Exatas', 'Humana', 'Saúde'}\n"
     ]
    }
   ],
   "source": [
    "# Inserir um elemento no conjunto : set.add()\n",
    "cursos.add('Saúde')\n",
    "print(cursos)"
   ]
  },
  {
   "cell_type": "code",
   "execution_count": 13,
   "id": "308a65c4",
   "metadata": {},
   "outputs": [
    {
     "name": "stdout",
     "output_type": "stream",
     "text": [
      "{'Biologicas', 'Exatas', 'Humana'}\n"
     ]
    }
   ],
   "source": [
    "# Remover um elemento no conjunto : set.remove()\n",
    "cursos.remove('Saúde')\n",
    "print (cursos)"
   ]
  },
  {
   "cell_type": "markdown",
   "id": "a7359841",
   "metadata": {},
   "source": [
    "**2.5. Conversão**\n",
    "\n",
    "Podemos converter conjuntos para lista e virce e versa."
   ]
  },
  {
   "cell_type": "code",
   "execution_count": 14,
   "id": "4528de3b",
   "metadata": {},
   "outputs": [
    {
     "name": "stdout",
     "output_type": "stream",
     "text": [
      "{'Cruzeiro', 'Ammerica-MG', 'Atlético-MG', 'Vila Nova'}\n",
      "<class 'set'>\n"
     ]
    }
   ],
   "source": [
    "times_mineiros = {'Atlético-MG','Cruzeiro','Ammerica-MG','Vila Nova'}\n",
    "print(times_mineiros)\n",
    "print(type(times_mineiros))"
   ]
  },
  {
   "cell_type": "code",
   "execution_count": 15,
   "id": "96a29d2e",
   "metadata": {},
   "outputs": [
    {
     "name": "stdout",
     "output_type": "stream",
     "text": [
      "['Cruzeiro', 'Ammerica-MG', 'Atlético-MG', 'Vila Nova']\n",
      "<class 'list'>\n"
     ]
    }
   ],
   "source": [
    "print(list(times_mineiros))\n",
    "print(type(list(times_mineiros)))"
   ]
  },
  {
   "cell_type": "markdown",
   "id": "640ecb79",
   "metadata": {},
   "source": [
    "**2.6.Revisando a motivação**"
   ]
  },
  {
   "cell_type": "code",
   "execution_count": 24,
   "id": "996617a3",
   "metadata": {},
   "outputs": [
    {
     "name": "stdout",
     "output_type": "stream",
     "text": [
      "['#Sara', '#fiuk', '#gil', '#rafa', '#fora', '#tiago', '#thelma', '#bbb', '#lourdes', '#artur', '# joao', '#juliete', '#danilo']\n",
      "13\n"
     ]
    }
   ],
   "source": [
    "hashtags_seg  =  ['#tiago', '# joao', '#bbb']\n",
    "hashtags_terça =['#Sara','#bbb', '#fiuk']\n",
    "hashtags_quarta = ['#gil','#thelma','#lourdes']\n",
    "hashtags_quinta = ['#rafa','#fora', '#danilo']\n",
    "hashtags_sexta = ['#juliete','#artur','#bbb']\n",
    "\n",
    "hashtags_semana = list(set(hashtags_seg + hashtags_terça + hashtags_quarta + hashtags_quinta + hashtags_sexta))\n",
    "\n",
    "print(hashtags_semana)\n",
    "print(len(hashtags_semana))\n"
   ]
  }
 ],
 "metadata": {
  "kernelspec": {
   "display_name": "Python 3",
   "language": "python",
   "name": "python3"
  },
  "language_info": {
   "codemirror_mode": {
    "name": "ipython",
    "version": 3
   },
   "file_extension": ".py",
   "mimetype": "text/x-python",
   "name": "python",
   "nbconvert_exporter": "python",
   "pygments_lexer": "ipython3",
   "version": "3.13.2"
  }
 },
 "nbformat": 4,
 "nbformat_minor": 5
}
