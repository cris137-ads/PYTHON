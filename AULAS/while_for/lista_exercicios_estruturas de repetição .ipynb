{
 "nbformat": 4,
 "nbformat_minor": 0,
 "metadata": {
  "colab": {
   "provenance": [],
   "authorship_tag": "ABX9TyNQEu+pRdG0JIrmN2Y7FMmJ"
  },
  "kernelspec": {
   "name": "python3",
   "display_name": "Python 3 (ipykernel)",
   "language": "python"
  },
  "language_info": {
   "name": "python"
  }
 },
 "cells": [
  {
   "cell_type": "markdown",
   "source": [
    "#**Lista de exercícios de estruturas de repetição**"
   ],
   "metadata": {
    "id": "5sEnMzZMW_eW"
   }
  },
  {
   "cell_type": "code",
   "source": [
    "from pkg_resources import non_empty_lines\n",
    "\n",
    "'''1) Faça um programa que peça uma nota, entre zero e dez. Mostre uma mensagem caso o\n",
    "      valor seja inválido e continue pedindo até que o usuário informe um valor válido.'''\n",
    "nota = float (input(\"Informe uma nota de 0 a 10\"))\n",
    "while nota < 0  or nota > 10:\n",
    "  print('nota invalida ! tente novamente...')\n",
    "  nota = float (input(\"Informe uma nota de 0 a 10\"))\n",
    "print(\"Nota válida:\", nota)\n",
    "\n",
    "\n",
    "\n",
    "\n"
   ],
   "metadata": {
    "id": "wOhMlD8bXbKL",
    "colab": {
     "base_uri": "https://localhost:8080/"
    },
    "executionInfo": {
     "status": "ok",
     "timestamp": 1755633086452,
     "user_tz": 180,
     "elapsed": 3858,
     "user": {
      "displayName": "Cris Machado",
      "userId": "04092651530964153593"
     }
    },
    "outputId": "d3867541-9ae8-47f8-8bdc-173ffc033be8"
   },
   "execution_count": null,
   "outputs": [
    {
     "output_type": "stream",
     "name": "stdout",
     "text": [
      "Informe uma nota de 0 a 105\n",
      "Nota válida: 5.0\n"
     ]
    }
   ]
  },
  {
   "cell_type": "code",
   "source": [
    "'''2) Faça um programa que leia um nome de usuário e a sua senha e não aceite a senha igual\n",
    "      ao nome do usuário, mostrando uma mensagem de erro e voltando a pedir as\n",
    "      informações.'''\n",
    "\n",
    "nome =input ('digite o seu nome')\n",
    "senha =input(\"digite a senha\")\n",
    "contador = 0\n",
    "while nome == senha:\n",
    "\n",
    "  print(\"Acesso Negado! Senha igual a nome. Tente outra senha e criei outra senha e login!\")\n",
    "  senha = input(\"Digite a nova senha: \")\n",
    "  contador += 1\n",
    "print (\"senha correta!\")\n",
    "\n",
    "\n"
   ],
   "metadata": {
    "colab": {
     "base_uri": "https://localhost:8080/"
    },
    "id": "9jdZFOdJ8S6m",
    "executionInfo": {
     "status": "ok",
     "timestamp": 1754585839307,
     "user_tz": 180,
     "elapsed": 22732,
     "user": {
      "displayName": "Cris Machado",
      "userId": "04092651530964153593"
     }
    },
    "outputId": "724d1337-5419-4360-b753-07e886117ed4"
   },
   "execution_count": null,
   "outputs": [
    {
     "output_type": "stream",
     "name": "stdout",
     "text": [
      "digite o seu nomejose\n",
      "digite a senhajose\n",
      "Acesso Negado! Senha igual a nome. Tente outra senha e criei outra senha e login!\n",
      "Digite a nova senha: jose\n",
      "senha correta!\n",
      "Acesso Negado! Senha igual a nome. Tente outra senha e criei outra senha e login!\n",
      "Digite a nova senha: cris\n",
      "senha correta!\n"
     ]
    }
   ]
  },
  {
   "cell_type": "code",
   "source": [
    "'''3) Faça um programa que leia e valide as seguintes informações:\n",
    "a) Nome: maior que 3 caracteres;\n",
    "b) Idade: entre 0 e 150;\n",
    "c) Salário: maior que zero;\n",
    "d) Sexo: 'f' ou 'm';\n",
    "e) Estado Civil: 's', 'c', 'v', 'd';'''\n",
    "\n",
    "\n",
    "nome = \" \"\n",
    "while len (nome) <=3:\n",
    "  nome = input(\"Digite o nome (deve ter mais de 3 caracteres): \")\n",
    "  if len(nome) <=3:\n",
    "    print('nome invalido!!! Tente Novamente!!!')\n",
    "print(\"nome validado com sucesso!!\")\n",
    "\n",
    "idade = 0\n",
    "\n",
    "while idade <=0 or  idade >=150:\n",
    "  idade = int(input('Informe a sua idade'))\n",
    "  if idade <=0 or idade >=150:\n",
    "      print('idade Invalida! Tente novamente!')\n",
    "print('Idade validada com sucesso')\n",
    "\n",
    "salario = 0\n",
    "while salario <=0 :\n",
    "  salario =float(input('Informe o seu salario'))\n",
    "  if idade <=0:\n",
    "    print('salario invalido!Tente novamente !')\n",
    "print ('Salario validado!!')\n",
    "\n",
    "sexo = \" \"\n",
    "while sexo !=\"F\" and sexo != \"M\":\n",
    "  sexo = input('Digito sexo')\n",
    "  if sexo != \"F\" and sexo != \"M\":\n",
    "    print('Sexo invalido! Tente novamente !')\n",
    "print('Sexo validado!!')\n",
    "estado_civil_valido = ['S','C','V','D']\n",
    "\n",
    "estado_civil=\"\"\n",
    "\n",
    "while estado_civil not in estado_civil_valido:\n",
    "  estado_civil = input(\"Informe Seu estado civil:S-solteiro (a),C-Casado (a),V-viuvo (a),D-Divorciado (a)\").upper()\n",
    "  if estado_civil not in estado_civil_valido:\n",
    "    print('opção Invalida !Tente Novamente !')\n",
    "print(\"Estado civil Validado!!!\")\n",
    "\n",
    "\n",
    "\n",
    "\n",
    "\n",
    "\n",
    "\n",
    "\n",
    "\n"
   ],
   "metadata": {
    "colab": {
     "base_uri": "https://localhost:8080/"
    },
    "id": "u51_ld71d7Kw",
    "executionInfo": {
     "status": "ok",
     "timestamp": 1755286711762,
     "user_tz": 180,
     "elapsed": 19673,
     "user": {
      "displayName": "Cris Machado",
      "userId": "04092651530964153593"
     }
    },
    "outputId": "5609feed-83f9-47b3-c5bb-cb4844a462a5"
   },
   "execution_count": null,
   "outputs": [
    {
     "output_type": "stream",
     "name": "stdout",
     "text": [
      "Digite o nome (deve ter mais de 3 caracteres): cris\n",
      "nome validado com sucesso!!\n",
      "Informe a sua idade45\n",
      "Idade validada com sucesso\n",
      "Informe o seu salario50\n",
      "Salario validado!!\n",
      "Digito sexoM\n",
      "Sexo validado!!\n",
      "Informe Seu estado civil:S-solteiro (a),C-Casado (a),V-viuvo (a),D-Divorciado (a)D\n",
      "Estado civil Validado!!!\n"
     ]
    }
   ]
  },
  {
   "cell_type": "code",
   "source": [
    "\n",
    "'''Supondo que a população de um país A seja da ordem de 80000 habitantes com uma\n",
    "taxa anual de crescimento de 3% e que a população de B seja 200000 habitantes com\n",
    "uma taxa de crescimento de 1.5%. Faça um programa que calcule e escreva o número de\n",
    "anos necessários para que a população do país A ultrapasse ou iguale a população do\n",
    "país B, mantidas as taxas de crescimento.'''\n",
    "\n",
    "população_A = 80000\n",
    "população_B = 200000\n",
    "\n",
    "anos = 0\n",
    "\n",
    "while população_A < população_B:\n",
    "  população_A=população_A+ (população_A*0.03)\n",
    "  população_B = população_B+(população_B* 0.015)\n",
    "\n",
    "  anos +=1\n",
    "\n",
    "print(f\"Serão necessários {anos} anos para o país A alcançar ou ultrapassar o país B.\")\n",
    "\n"
   ],
   "metadata": {
    "colab": {
     "base_uri": "https://localhost:8080/"
    },
    "id": "qkbj5xB5ObOq",
    "executionInfo": {
     "status": "ok",
     "timestamp": 1755607070921,
     "user_tz": 180,
     "elapsed": 34,
     "user": {
      "displayName": "Cris Machado",
      "userId": "04092651530964153593"
     }
    },
    "outputId": "f361f82c-a7fd-4953-d294-25604d26ebd7"
   },
   "execution_count": null,
   "outputs": [
    {
     "output_type": "stream",
     "name": "stdout",
     "text": [
      "Serão necessários 63 anos para o país A alcançar ou ultrapassar o país B.\n"
     ]
    }
   ]
  },
  {
   "cell_type": "code",
   "source": [
    "'''5) Altere o programa anterior permitindo ao usuário informar as populações e as taxas de\n",
    "crescimento iniciais. Valide a entrada e permita repetir a operação.'''\n",
    "\n",
    "\n",
    "while True:\n",
    "    print(\"\\n--- Comparação de Crescimento Populacional ---\")\n",
    "\n",
    "    # Entrada de dados e validação simples\n",
    "    populacao_A = int(input(\"Informe população do país A: \"))\n",
    "    while populacao_A <= 0:\n",
    "        populacao_A = int(input(\"População deve ser maior que 0. Informe novamente população A: \"))\n",
    "\n",
    "    taxa_a = float(input(\"Informe taxa de crescimento de A (%): \"))\n",
    "    while taxa_a < 0:\n",
    "        taxa_a = float(input(\"Taxa não pode ser negativa. Informe novamente taxa A (%): \"))\n",
    "\n",
    "    populacao_B = int(input(\"Informe população do país B: \"))\n",
    "    while populacao_B <= 0:\n",
    "        populacao_B = int(input(\"População deve ser maior que 0. Informe novamente população B: \"))\n",
    "\n",
    "    taxa_b = float(input(\"Informe taxa de crescimento de B (%): \"))\n",
    "    while taxa_b < 0:\n",
    "        taxa_b = float(input(\"Taxa não pode ser negativa. Informe novamente taxa B (%): \"))\n",
    "\n",
    "    # Converte as taxas de % para decimal\n",
    "    taxa_a /= 100\n",
    "    taxa_b /= 100\n",
    "\n",
    "    # Inicializa contador de anos\n",
    "    anos = 0\n",
    "\n",
    "    # Verifica casos especiais\n",
    "    if populacao_A >= populacao_B:\n",
    "        print(\"A população do país A já é maior ou igual à do país B. Anos necessários: 0\")\n",
    "    elif taxa_a <= taxa_b:\n",
    "        print(\"Com essas taxas de crescimento, o país A nunca alcançará o país B.\")\n",
    "    else:\n",
    "        # Cálculo ano a ano\n",
    "        while populacao_A < populacao_B:\n",
    "            populacao_A += populacao_A * taxa_a\n",
    "            populacao_B += populacao_B * taxa_b\n",
    "            anos += 1\n",
    "        print(f\"Serão necessários {anos} anos para o país A alcançar ou ultrapassar o país B.\")\n",
    "\n",
    "    # Pergunta se deseja repetir\n",
    "    resposta = input(\"\\nDeseja calcular novamente? (s/n): \").lower()\n",
    "    if resposta != 's':\n",
    "        print(\"Programa encerrado.\")\n",
    "        break\n",
    "'''se algoritmo resolve o problema de calcular em quantos anos a população do país A alcançará ou ultrapassará a população do país B, considerando taxas de\n",
    "crescimento anuais informadas pelo usuário.Primeiro, ele pede as populações iniciais e as taxas de crescimento de cada país, validando se os valores são\n",
    "positivos (populações maiores que zero e taxas não negativas). Em seguida, converte as taxas percentuais para decimais (dividindo por 100) para facilitar os\n",
    "cálculos. O programa trata dois casos especiais: se a população de A já é maior ou igual à de B, então não precisa esperar nenhum ano; se a taxa de\n",
    "crescimento de A for menor ou igual à de B, então A nunca conseguirá ultrapassar B, e o programa informa isso. Caso contrário, inicia um laço que simula ano\n",
    "a ano o crescimento populacional de ambos os países, incrementando o contador de anos até que a população de A seja maior ou igual à de B. No final, mostra\n",
    "quantos anos foram necessários e pergunta ao usuário se deseja repetir a operação. Caso o usuário digite algo diferente de \"s\", o programa encerra.'''\n",
    "\n",
    "\n",
    "\n",
    "\n",
    "\n"
   ],
   "metadata": {
    "colab": {
     "base_uri": "https://localhost:8080/",
     "height": 279
    },
    "id": "3EXy_5ckYn2N",
    "executionInfo": {
     "status": "ok",
     "timestamp": 1755618874928,
     "user_tz": 180,
     "elapsed": 45557,
     "user": {
      "displayName": "Cris Machado",
      "userId": "04092651530964153593"
     }
    },
    "outputId": "cae22191-dd70-4d60-99ad-27130c34c34c"
   },
   "execution_count": null,
   "outputs": [
    {
     "output_type": "stream",
     "name": "stdout",
     "text": [
      "\n",
      "--- Comparação de Crescimento Populacional ---\n",
      "Informe população do país A: 120000\n",
      "Informe taxa de crescimento de A (%): 8\n",
      "Informe população do país B: 500000\n",
      "Informe taxa de crescimento de B (%): 2\n",
      "Serão necessários 25 anos para o país A alcançar ou ultrapassar o país B.\n",
      "\n",
      "Deseja calcular novamente? (s/n): n\n",
      "Programa encerrado.\n"
     ]
    },
    {
     "output_type": "execute_result",
     "data": {
      "text/plain": [
       "'se algoritmo resolve o problema de calcular em quantos anos a população do país A alcançará ou ultrapassará a população do país B, considerando taxas de \\ncrescimento anuais informadas pelo usuário.Primeiro, ele pede as populações iniciais e as taxas de crescimento de cada país, validando se os valores são \\npositivos (populações maiores que zero e taxas não negativas). Em seguida, converte as taxas percentuais para decimais (dividindo por 100) para facilitar os \\ncálculos. O programa trata dois casos especiais: se a população de A já é maior ou igual à de B, então não precisa esperar nenhum ano; se a taxa de \\ncrescimento de A for menor ou igual à de B, então A nunca conseguirá ultrapassar B, e o programa informa isso. Caso contrário, inicia um laço que simula ano \\na ano o crescimento populacional de ambos os países, incrementando o contador de anos até que a população de A seja maior ou igual à de B. No final, mostra \\nquantos anos foram necessários e pergunta ao usuário se deseja repetir a operação. Caso o usuário digite algo diferente de \"s\", o programa encerra.'"
      ],
      "application/vnd.google.colaboratory.intrinsic+json": {
       "type": "string"
      }
     },
     "metadata": {},
     "execution_count": 8
    }
   ]
  },
  {
   "cell_type": "code",
   "source": [
    "'''Faça um programa que imprima na tela os números de 1 a 20, um abaixo do outro. Depois\n",
    "modifique o programa para que ele mostre os números um ao lado do outro.'''\n",
    "for numero in range(1,21):\n",
    "  print(numero)\n"
   ],
   "metadata": {
    "colab": {
     "base_uri": "https://localhost:8080/"
    },
    "id": "hOUXa3PoAbOQ",
    "executionInfo": {
     "status": "ok",
     "timestamp": 1755626908678,
     "user_tz": 180,
     "elapsed": 51,
     "user": {
      "displayName": "Cris Machado",
      "userId": "04092651530964153593"
     }
    },
    "outputId": "c14b3797-009d-4adb-9510-152f2b9403ef"
   },
   "execution_count": null,
   "outputs": [
    {
     "output_type": "stream",
     "name": "stdout",
     "text": [
      "1\n",
      "2\n",
      "3\n",
      "4\n",
      "5\n",
      "6\n",
      "7\n",
      "8\n",
      "9\n",
      "10\n",
      "11\n",
      "12\n",
      "13\n",
      "14\n",
      "15\n",
      "16\n",
      "17\n",
      "18\n",
      "19\n",
      "20\n"
     ]
    }
   ]
  },
  {
   "cell_type": "code",
   "source": [
    "\n",
    "\n",
    "for numero in range (1,21):\n",
    "  print(numero, end = ' ')"
   ],
   "metadata": {
    "colab": {
     "base_uri": "https://localhost:8080/"
    },
    "id": "9j1gfstkhKqt",
    "outputId": "9dab65e9-7902-4603-a139-4411c0cc58c6",
    "executionInfo": {
     "status": "ok",
     "timestamp": 1755627239051,
     "user_tz": 180,
     "elapsed": 16,
     "user": {
      "displayName": "Cris Machado",
      "userId": "04092651530964153593"
     }
    }
   },
   "execution_count": null,
   "outputs": [
    {
     "output_type": "stream",
     "name": "stdout",
     "text": [
      "1 2 3 4 5 6 7 8 9 10 11 12 13 14 15 16 17 18 19 20 "
     ]
    }
   ]
  },
  {
   "cell_type": "code",
   "source": [
    "maior = float()\n",
    "for i in range (5):\n",
    "  numero = float (input(f'Digite  o {i+1} numero: '))\n",
    "  if numero > maior:\n",
    "\n",
    "   maior = numero\n",
    "print (\"O maior número é :\" , maior)"
   ],
   "metadata": {
    "colab": {
     "base_uri": "https://localhost:8080/"
    },
    "id": "QhwYmeAribUu",
    "executionInfo": {
     "status": "ok",
     "timestamp": 1755629149536,
     "user_tz": 180,
     "elapsed": 11942,
     "user": {
      "displayName": "Cris Machado",
      "userId": "04092651530964153593"
     }
    },
    "outputId": "67bcf2e1-e1c0-4ee1-b035-cc26a19d2f7e"
   },
   "execution_count": null,
   "outputs": [
    {
     "output_type": "stream",
     "name": "stdout",
     "text": [
      "Digite  o 1 numero: 5\n",
      "Digite  o 2 numero: 2\n",
      "Digite  o 3 numero: 60\n",
      "Digite  o 4 numero: 125\n",
      "Digite  o 5 numero: 1040\n",
      "O maior número é : 1040.0\n"
     ]
    }
   ]
  },
  {
   "cell_type": "code",
   "source": [
    "soma = 0\n",
    "for i in range(5):\n",
    "  numero = float (input(f' \"digite 0 {i+1}'))\n",
    "  soma += numero\n",
    "  media= soma /5\n",
    "print(\"A media dos numeros é :\", media)\n",
    "\n"
   ],
   "metadata": {
    "colab": {
     "base_uri": "https://localhost:8080/"
    },
    "id": "1vB_LHzopgGt",
    "executionInfo": {
     "status": "ok",
     "timestamp": 1755629546788,
     "user_tz": 180,
     "elapsed": 13859,
     "user": {
      "displayName": "Cris Machado",
      "userId": "04092651530964153593"
     }
    },
    "outputId": "4d712c51-cc04-48d7-a3f2-adf3419042cc"
   },
   "execution_count": null,
   "outputs": [
    {
     "output_type": "stream",
     "name": "stdout",
     "text": [
      " \"digite 0 1150\n",
      " \"digite 0 22\n",
      " \"digite 0 399\n",
      " \"digite 0 420\n",
      " \"digite 0 51\n",
      "A media dos numeros é : 54.4\n"
     ]
    }
   ]
  },
  {
   "cell_type": "code",
   "source": [
    "# 9. Faça um programa que determine o mostre os cinco primeiro multiplos de 3, considerando numeros maior que 0.\n",
    "contador =0\n",
    "numero=1\n",
    "\n",
    "while contador < 5:\n",
    "  if numero % 3 ==0:\n",
    "    print(numero)\n",
    "    contador +=1\n",
    "  numero += 1\n",
    "\n",
    "\n",
    "\n",
    "\n"
   ],
   "metadata": {
    "id": "nWxH3z_br2fP",
    "colab": {
     "base_uri": "https://localhost:8080/"
    },
    "executionInfo": {
     "status": "ok",
     "timestamp": 1755696693621,
     "user_tz": 180,
     "elapsed": 16,
     "user": {
      "displayName": "Cris Machado",
      "userId": "04092651530964153593"
     }
    },
    "outputId": "30dca9f9-a000-49d9-b3e9-a3bfc0794c70"
   },
   "execution_count": null,
   "outputs": [
    {
     "output_type": "stream",
     "name": "stdout",
     "text": [
      "3\n",
      "6\n",
      "9\n",
      "12\n",
      "15\n"
     ]
    }
   ]
  },
  {
   "cell_type": "code",
   "source": [
    "'''10 Faça um algoritmo utilizando o comando while que mostra uma contagem regressiva\n",
    "na tela, iniciando em 10 e terminando em 0. Mostrar uma mensagem “FIM!” após a\n",
    "contagem.'''\n",
    "\n",
    "contador = 10\n",
    "while contador >0:\n",
    "  contador-=1\n",
    "  print(contador)\n",
    "print('fim')\n",
    "\n",
    "\n",
    "\n"
   ],
   "metadata": {
    "colab": {
     "base_uri": "https://localhost:8080/"
    },
    "id": "M7q3rrqNrYBh",
    "executionInfo": {
     "status": "ok",
     "timestamp": 1755697411130,
     "user_tz": 180,
     "elapsed": 27,
     "user": {
      "displayName": "Cris Machado",
      "userId": "04092651530964153593"
     }
    },
    "outputId": "bcad659f-360f-4105-f276-4337c9ee5b7a"
   },
   "execution_count": null,
   "outputs": [
    {
     "output_type": "stream",
     "name": "stdout",
     "text": [
      "9\n",
      "8\n",
      "7\n",
      "6\n",
      "5\n",
      "4\n",
      "3\n",
      "2\n",
      "1\n",
      "0\n",
      "fim\n"
     ]
    }
   ]
  },
  {
   "cell_type": "code",
   "source": [
    "'''11.Escreva um programa que escreva na tela, de 1 até 100, de 1 em 1, 2 vezes. A primeira\n",
    "vez deve usar a estrutura de repeticão for e a segunda while.'''\n",
    "\n",
    "for numero in range(1,100):\n",
    "  print(numero)\n",
    "\n",
    "for numero in range(2,100,2):\n",
    "  print(numero)\n",
    "\n",
    "contador=0\n",
    "while contador < 100:\n",
    "  contador +=1\n",
    "  print(contador)\n",
    "\n",
    "contador=0\n",
    "while contador < 100:\n",
    "  contador +=2\n",
    "  print(contador)\n",
    "\n",
    "\n",
    "\n",
    "\n",
    "\n",
    "\n",
    "\n",
    "\n"
   ],
   "metadata": {
    "colab": {
     "base_uri": "https://localhost:8080/"
    },
    "id": "BzA2iyu8uHMF",
    "executionInfo": {
     "status": "ok",
     "timestamp": 1755701138790,
     "user_tz": 180,
     "elapsed": 48,
     "user": {
      "displayName": "Cris Machado",
      "userId": "04092651530964153593"
     }
    },
    "outputId": "c35bdd9a-7693-48e1-d43f-1ad6d451a097"
   },
   "execution_count": null,
   "outputs": [
    {
     "output_type": "stream",
     "name": "stdout",
     "text": [
      "1\n",
      "2\n",
      "3\n",
      "4\n",
      "5\n",
      "6\n",
      "7\n",
      "8\n",
      "9\n",
      "10\n",
      "11\n",
      "12\n",
      "13\n",
      "14\n",
      "15\n",
      "16\n",
      "17\n",
      "18\n",
      "19\n",
      "20\n",
      "21\n",
      "22\n",
      "23\n",
      "24\n",
      "25\n",
      "26\n",
      "27\n",
      "28\n",
      "29\n",
      "30\n",
      "31\n",
      "32\n",
      "33\n",
      "34\n",
      "35\n",
      "36\n",
      "37\n",
      "38\n",
      "39\n",
      "40\n",
      "41\n",
      "42\n",
      "43\n",
      "44\n",
      "45\n",
      "46\n",
      "47\n",
      "48\n",
      "49\n",
      "50\n",
      "51\n",
      "52\n",
      "53\n",
      "54\n",
      "55\n",
      "56\n",
      "57\n",
      "58\n",
      "59\n",
      "60\n",
      "61\n",
      "62\n",
      "63\n",
      "64\n",
      "65\n",
      "66\n",
      "67\n",
      "68\n",
      "69\n",
      "70\n",
      "71\n",
      "72\n",
      "73\n",
      "74\n",
      "75\n",
      "76\n",
      "77\n",
      "78\n",
      "79\n",
      "80\n",
      "81\n",
      "82\n",
      "83\n",
      "84\n",
      "85\n",
      "86\n",
      "87\n",
      "88\n",
      "89\n",
      "90\n",
      "91\n",
      "92\n",
      "93\n",
      "94\n",
      "95\n",
      "96\n",
      "97\n",
      "98\n",
      "99\n",
      "2\n",
      "4\n",
      "6\n",
      "8\n",
      "10\n",
      "12\n",
      "14\n",
      "16\n",
      "18\n",
      "20\n",
      "22\n",
      "24\n",
      "26\n",
      "28\n",
      "30\n",
      "32\n",
      "34\n",
      "36\n",
      "38\n",
      "40\n",
      "42\n",
      "44\n",
      "46\n",
      "48\n",
      "50\n",
      "52\n",
      "54\n",
      "56\n",
      "58\n",
      "60\n",
      "62\n",
      "64\n",
      "66\n",
      "68\n",
      "70\n",
      "72\n",
      "74\n",
      "76\n",
      "78\n",
      "80\n",
      "82\n",
      "84\n",
      "86\n",
      "88\n",
      "90\n",
      "92\n",
      "94\n",
      "96\n",
      "98\n",
      "1\n",
      "2\n",
      "3\n",
      "4\n",
      "5\n",
      "6\n",
      "7\n",
      "8\n",
      "9\n",
      "10\n",
      "11\n",
      "12\n",
      "13\n",
      "14\n",
      "15\n",
      "16\n",
      "17\n",
      "18\n",
      "19\n",
      "20\n",
      "21\n",
      "22\n",
      "23\n",
      "24\n",
      "25\n",
      "26\n",
      "27\n",
      "28\n",
      "29\n",
      "30\n",
      "31\n",
      "32\n",
      "33\n",
      "34\n",
      "35\n",
      "36\n",
      "37\n",
      "38\n",
      "39\n",
      "40\n",
      "41\n",
      "42\n",
      "43\n",
      "44\n",
      "45\n",
      "46\n",
      "47\n",
      "48\n",
      "49\n",
      "50\n",
      "51\n",
      "52\n",
      "53\n",
      "54\n",
      "55\n",
      "56\n",
      "57\n",
      "58\n",
      "59\n",
      "60\n",
      "61\n",
      "62\n",
      "63\n",
      "64\n",
      "65\n",
      "66\n",
      "67\n",
      "68\n",
      "69\n",
      "70\n",
      "71\n",
      "72\n",
      "73\n",
      "74\n",
      "75\n",
      "76\n",
      "77\n",
      "78\n",
      "79\n",
      "80\n",
      "81\n",
      "82\n",
      "83\n",
      "84\n",
      "85\n",
      "86\n",
      "87\n",
      "88\n",
      "89\n",
      "90\n",
      "91\n",
      "92\n",
      "93\n",
      "94\n",
      "95\n",
      "96\n",
      "97\n",
      "98\n",
      "99\n",
      "100\n",
      "2\n",
      "4\n",
      "6\n",
      "8\n",
      "10\n",
      "12\n",
      "14\n",
      "16\n",
      "18\n",
      "20\n",
      "22\n",
      "24\n",
      "26\n",
      "28\n",
      "30\n",
      "32\n",
      "34\n",
      "36\n",
      "38\n",
      "40\n",
      "42\n",
      "44\n",
      "46\n",
      "48\n",
      "50\n",
      "52\n",
      "54\n",
      "56\n",
      "58\n",
      "60\n",
      "62\n",
      "64\n",
      "66\n",
      "68\n",
      "70\n",
      "72\n",
      "74\n",
      "76\n",
      "78\n",
      "80\n",
      "82\n",
      "84\n",
      "86\n",
      "88\n",
      "90\n",
      "92\n",
      "94\n",
      "96\n",
      "98\n",
      "100\n"
     ]
    }
   ]
  },
  {
   "cell_type": "code",
   "source": [
    "'''12.Escreva um programa que declare um inteiro, inicialize-o com 0, e incremente-o de 1000\n",
    "em 1000, imprimindo seu valor na tela, at ´e que seu valor seja 100000 (cem mil).'''\n",
    "\n",
    "\n",
    "\n",
    "numero = 0\n",
    "\n",
    "while numero <100000:\n",
    "  print(numero)\n",
    "  numero+= 1000\n",
    "\n",
    "\n"
   ],
   "metadata": {
    "colab": {
     "base_uri": "https://localhost:8080/"
    },
    "id": "YRNj460K8ipI",
    "executionInfo": {
     "status": "ok",
     "timestamp": 1755710306570,
     "user_tz": 180,
     "elapsed": 11,
     "user": {
      "displayName": "Cris Machado",
      "userId": "04092651530964153593"
     }
    },
    "outputId": "c1fbd1c7-efa8-4188-e47c-6bee4daf1f3a"
   },
   "execution_count": null,
   "outputs": [
    {
     "output_type": "stream",
     "name": "stdout",
     "text": [
      "0\n",
      "1000\n",
      "2000\n",
      "3000\n",
      "4000\n",
      "5000\n",
      "6000\n",
      "7000\n",
      "8000\n",
      "9000\n",
      "10000\n",
      "11000\n",
      "12000\n",
      "13000\n",
      "14000\n",
      "15000\n",
      "16000\n",
      "17000\n",
      "18000\n",
      "19000\n",
      "20000\n",
      "21000\n",
      "22000\n",
      "23000\n",
      "24000\n",
      "25000\n",
      "26000\n",
      "27000\n",
      "28000\n",
      "29000\n",
      "30000\n",
      "31000\n",
      "32000\n",
      "33000\n",
      "34000\n",
      "35000\n",
      "36000\n",
      "37000\n",
      "38000\n",
      "39000\n",
      "40000\n",
      "41000\n",
      "42000\n",
      "43000\n",
      "44000\n",
      "45000\n",
      "46000\n",
      "47000\n",
      "48000\n",
      "49000\n",
      "50000\n",
      "51000\n",
      "52000\n",
      "53000\n",
      "54000\n",
      "55000\n",
      "56000\n",
      "57000\n",
      "58000\n",
      "59000\n",
      "60000\n",
      "61000\n",
      "62000\n",
      "63000\n",
      "64000\n",
      "65000\n",
      "66000\n",
      "67000\n",
      "68000\n",
      "69000\n",
      "70000\n",
      "71000\n",
      "72000\n",
      "73000\n",
      "74000\n",
      "75000\n",
      "76000\n",
      "77000\n",
      "78000\n",
      "79000\n",
      "80000\n",
      "81000\n",
      "82000\n",
      "83000\n",
      "84000\n",
      "85000\n",
      "86000\n",
      "87000\n",
      "88000\n",
      "89000\n",
      "90000\n",
      "91000\n",
      "92000\n",
      "93000\n",
      "94000\n",
      "95000\n",
      "96000\n",
      "97000\n",
      "98000\n",
      "99000\n"
     ]
    }
   ]
  },
  {
   "cell_type": "code",
   "source": [
    "'''13.Faça um programa que pec¸a ao usu´ ario para digitar 10 valores e some-os.'''\n",
    "soma = 0\n",
    "\n",
    "for i in range(10):\n",
    "  numero = int (input(f'digite um numero{i+1} :'))\n",
    "  soma +=numero\n",
    "print(soma)\n"
   ],
   "metadata": {
    "colab": {
     "base_uri": "https://localhost:8080/"
    },
    "id": "y4LgevItfW6T",
    "executionInfo": {
     "status": "ok",
     "timestamp": 1755711793992,
     "user_tz": 180,
     "elapsed": 24202,
     "user": {
      "displayName": "Cris Machado",
      "userId": "04092651530964153593"
     }
    },
    "outputId": "945b2677-73d4-4b7d-fb16-77d7b6e9cc76"
   },
   "execution_count": null,
   "outputs": [
    {
     "output_type": "stream",
     "name": "stdout",
     "text": [
      "digite um numero1 :18\n",
      "digite um numero2 :18\n",
      "digite um numero3 :18\n",
      "digite um numero4 :16\n",
      "digite um numero5 :12\n",
      "digite um numero6 :12\n",
      "digite um numero7 :12\n",
      "digite um numero8 :16\n",
      "digite um numero9 :19\n",
      "digite um numero10 :19\n",
      "60\n"
     ]
    }
   ]
  },
  {
   "cell_type": "code",
   "source": [
    "'''14.Faça um programa que leia 10 inteiros e imprima sua média.'''\n",
    "soma = 0\n",
    "for i in range(10):\n",
    "  numero = float (input(f' \"digite 0 {i+1} :'))\n",
    "  soma += numero\n",
    "  media= soma /10\n",
    "print(\"A media dos numeros é :\", media)\n"
   ],
   "metadata": {
    "colab": {
     "base_uri": "https://localhost:8080/"
    },
    "id": "Qi7fxhP6kjBG",
    "executionInfo": {
     "status": "ok",
     "timestamp": 1755712028235,
     "user_tz": 180,
     "elapsed": 19541,
     "user": {
      "displayName": "Cris Machado",
      "userId": "04092651530964153593"
     }
    },
    "outputId": "0dbbc45c-69ef-4857-cd35-79eaa7f9481b"
   },
   "execution_count": null,
   "outputs": [
    {
     "output_type": "stream",
     "name": "stdout",
     "text": [
      " \"digite 0 1 :10\n",
      " \"digite 0 2 :10\n",
      " \"digite 0 3 :10\n",
      " \"digite 0 4 :10\n",
      " \"digite 0 5 :10\n",
      " \"digite 0 6 :10\n",
      " \"digite 0 7 :10\n",
      " \"digite 0 8 :10\n",
      " \"digite 0 9 :10\n",
      " \"digite 0 10 :10\n",
      "A media dos numeros é : 10.0\n"
     ]
    }
   ]
  },
  {
   "cell_type": "code",
   "source": [
    "'''15.Faça um programa que leia 10 inteiros positivos, ignorando n˜ao positivos, e imprima sua\n",
    "média.'''\n",
    "\n",
    "contador = 0\n",
    "soma = 0\n",
    "while contador < 10:\n",
    "  numero=int(input('Digite um numero inteiro positivo :'))\n",
    "  if numero >0:\n",
    "    soma+=numero\n",
    "    contador +=1\n",
    "  else:\n",
    "    print('Numero invalido.Tente novamente.')\n",
    "media= soma/10\n",
    "print('A média dos numerospositivos é' ,media)\n"
   ],
   "metadata": {
    "colab": {
     "base_uri": "https://localhost:8080/"
    },
    "id": "hgrodAyKmCTs",
    "executionInfo": {
     "status": "ok",
     "timestamp": 1755713728547,
     "user_tz": 180,
     "elapsed": 31033,
     "user": {
      "displayName": "Cris Machado",
      "userId": "04092651530964153593"
     }
    },
    "outputId": "bc61f2d7-a934-4b61-cb93-5e8c035cdb49"
   },
   "execution_count": null,
   "outputs": [
    {
     "output_type": "stream",
     "name": "stdout",
     "text": [
      "Digite um numero inteiro positivo :5\n",
      "Digite um numero inteiro positivo :9\n",
      "Digite um numero inteiro positivo :10\n",
      "Digite um numero inteiro positivo :3\n",
      "Digite um numero inteiro positivo :1\n",
      "Digite um numero inteiro positivo :45\n",
      "Digite um numero inteiro positivo :18\n",
      "Digite um numero inteiro positivo :26\n",
      "Digite um numero inteiro positivo :28\n",
      "Digite um numero inteiro positivo :46\n",
      "A média dos numerospositivos é 19.1\n"
     ]
    }
   ]
  },
  {
   "cell_type": "code",
   "source": [
    "'''16. Escreva um programa que leia 10 n´umeros e escreva o menor valor lido e o maior valor\n",
    "lido.'''\n",
    "numero = float(input(\"Digite o 1º número: \"))\n",
    "maior = numero\n",
    "menor = numero\n",
    "\n",
    "for i in range(2, 11):\n",
    "    numero = float(input(f\"Digite o {i}º número: \"))\n",
    "    if numero > maior:\n",
    "        maior = numero\n",
    "    if numero < menor:\n",
    "        menor = numero\n",
    "\n",
    "print(\"O maior número é:\", maior)\n",
    "print(\"O menor número é:\", menor)\n"
   ],
   "metadata": {
    "colab": {
     "base_uri": "https://localhost:8080/"
    },
    "id": "D2D6fB52s5yh",
    "executionInfo": {
     "status": "ok",
     "timestamp": 1755715402706,
     "user_tz": 180,
     "elapsed": 37336,
     "user": {
      "displayName": "Cris Machado",
      "userId": "04092651530964153593"
     }
    },
    "outputId": "b1aff7a6-2533-4ffc-ef89-5f06c065970a"
   },
   "execution_count": null,
   "outputs": [
    {
     "output_type": "stream",
     "name": "stdout",
     "text": [
      "Digite o 1º número: 10\n",
      "Digite o 2º número: 8\n",
      "Digite o 3º número: 1\n",
      "Digite o 4º número: 9\n",
      "Digite o 5º número: 30\n",
      "Digite o 6º número: 9\n",
      "Digite o 7º número: 15\n",
      "Digite o 8º número: 3\n",
      "Digite o 9º número: 9\n",
      "Digite o 10º número: 70\n",
      "O maior número é: 70.0\n",
      "O menor número é: 1.0\n"
     ]
    }
   ]
  },
  {
   "cell_type": "code",
   "source": [
    "'''17.Faça um programa que leia um n´umero inteiro N e depois imprima os N primeiros\n",
    "números naturais ´ımpares.'''\n",
    "\n",
    "n = int(input(\"Informe N: \"))\n",
    "\n",
    "while True:\n",
    "    if n < 0:\n",
    "        print(\"Número negativo. Programa encerrado.\")\n",
    "        break\n",
    "    elif n == 0:\n",
    "        print(\"Zero não é válido. Informe novamente.\")\n",
    "    else:\n",
    "        for i in range(1, n+1):\n",
    "            print(2*i - 1)\n",
    "        break\n",
    "\n",
    "    n = int(input(\"Informe N: \"))\n",
    "\n",
    "\n",
    "\n"
   ],
   "metadata": {
    "colab": {
     "base_uri": "https://localhost:8080/",
     "height": 356
    },
    "id": "BZpI9cXdzUln",
    "executionInfo": {
     "status": "error",
     "timestamp": 1755886344361,
     "user_tz": 180,
     "elapsed": 44954,
     "user": {
      "displayName": "Cris Machado",
      "userId": "04092651530964153593"
     }
    },
    "outputId": "1f6bd679-2559-4462-8b6b-942b54da04f2",
    "ExecuteTime": {
     "end_time": "2025-08-26T18:02:28.298117Z",
     "start_time": "2025-08-26T18:02:16.116836Z"
    }
   },
   "outputs": [
    {
     "name": "stdout",
     "output_type": "stream",
     "text": [
      "1\n",
      "3\n",
      "5\n",
      "7\n",
      "9\n",
      "11\n",
      "13\n",
      "15\n",
      "17\n",
      "19\n"
     ]
    }
   ],
   "execution_count": 17
  },
  {
   "cell_type": "code",
   "source": [
    "'''18. Faça um programa que calcule e mostre a soma dos 50 primeiros números pares.'''\n",
    "soma = 0\n",
    "numero =0\n",
    "\n",
    "for i in range(50):\n",
    "  soma+=numero\n",
    "  numero+=2\n",
    "  media = soma /50\n",
    "print(soma)\n",
    "\n",
    "\n",
    "\n",
    "\n",
    "\n",
    "\n",
    ""
   ],
   "metadata": {
    "colab": {
     "base_uri": "https://localhost:8080/"
    },
    "id": "20yo2fpE-ovy",
    "executionInfo": {
     "status": "ok",
     "timestamp": 1755888785303,
     "user_tz": 180,
     "elapsed": 12,
     "user": {
      "displayName": "Cris Machado",
      "userId": "04092651530964153593"
     }
    },
    "outputId": "2df942bc-0c25-4373-8051-d3bbf20e0e87"
   },
   "execution_count": 18,
   "outputs": [
    {
     "output_type": "stream",
     "name": "stdout",
     "text": [
      "2450\n"
     ]
    }
   ]
  },
  {
   "cell_type": "code",
   "source": [
    "'''19.Faça um programa que leia um número inteiro positivo N e imprima todos os números\n",
    "naturais de 0 at ´e N em ordem crescente.'''\n",
    "\n",
    "n = int(input('Digite um numero '))\n",
    "while n < 0:\n",
    "  n = int(input('NUmero invalido!Digite um numero positivo:'))\n",
    "i= 0\n",
    "while i <= n:\n",
    "  print(i)\n",
    "  i+=1\n",
    "\n",
    "\n",
    "\n",
    ""
   ],
   "metadata": {
    "colab": {
     "base_uri": "https://localhost:8080/"
    },
    "id": "gYBymueTISuZ",
    "executionInfo": {
     "status": "ok",
     "timestamp": 1755894023326,
     "user_tz": 180,
     "elapsed": 2469,
     "user": {
      "displayName": "Cris Machado",
      "userId": "04092651530964153593"
     }
    },
    "outputId": "f00c2a92-5f77-4713-ac85-3f9d2728988a"
   },
   "execution_count": 9,
   "outputs": [
    {
     "output_type": "stream",
     "name": "stdout",
     "text": [
      "Digite um numero 10\n",
      "10\n"
     ]
    }
   ]
  },
  {
   "cell_type": "code",
   "source": [
    "'''20.Faça um programa que leia um n´umero inteiro positivo N e imprima todos os números\n",
    "naturais de 0 at ´e N em ordem decrescente.'''\n",
    "\n",
    "n = int(input('Digite um numero '))\n",
    "while n < 0:\n",
    "  n = int(input('NUmero invalido!Digite um numero positivo:'))\n",
    "i= n\n",
    "while i >=0:\n",
    "\n",
    "  print(i)\n",
    "  i-= 1\n",
    "\n",
    "\n"
   ],
   "metadata": {
    "colab": {
     "base_uri": "https://localhost:8080/"
    },
    "id": "3QYU2LfpX42v",
    "executionInfo": {
     "status": "ok",
     "timestamp": 1755895104101,
     "user_tz": 180,
     "elapsed": 10461,
     "user": {
      "displayName": "Cris Machado",
      "userId": "04092651530964153593"
     }
    },
    "outputId": "b5c35ed0-ab3a-4e21-cac0-32d250acc9a4"
   },
   "execution_count": 18,
   "outputs": [
    {
     "output_type": "stream",
     "name": "stdout",
     "text": [
      "Digite um numero 5\n",
      "5\n",
      "4\n",
      "3\n",
      "2\n",
      "1\n",
      "0\n"
     ]
    }
   ]
  },
  {
   "cell_type": "code",
   "source": [
    "'''21.Faça um programa que leia um número inteiro positivo par N e imprima todos os números\n",
    "pares de 0 até N em ordem crescente.'''\n",
    "\n",
    "n = int(input('Digite um numero '))\n",
    "while n < 0 or n % 2!=0:\n",
    "  n = int(input('NUmero invalido!Digite um numero par , positivo:'))\n",
    "i= 0\n",
    "for i in  range(0,n+1,2):\n",
    "  print(i)\n",
    "\n"
   ],
   "metadata": {
    "colab": {
     "base_uri": "https://localhost:8080/"
    },
    "id": "Xsrlfo4rce_X",
    "executionInfo": {
     "status": "ok",
     "timestamp": 1755896238071,
     "user_tz": 180,
     "elapsed": 10079,
     "user": {
      "displayName": "Cris Machado",
      "userId": "04092651530964153593"
     }
    },
    "outputId": "38ace6a0-cc04-475f-8760-cd15522a6b0f",
    "ExecuteTime": {
     "end_time": "2025-08-26T17:11:29.973542Z",
     "start_time": "2025-08-26T17:11:10.680568Z"
    }
   },
   "outputs": [
    {
     "name": "stdout",
     "output_type": "stream",
     "text": [
      "0\n",
      "2\n",
      "4\n",
      "6\n",
      "8\n"
     ]
    }
   ],
   "execution_count": 4
  },
  {
   "metadata": {
    "ExecuteTime": {
     "end_time": "2025-08-26T17:25:37.719137Z",
     "start_time": "2025-08-26T17:25:34.041805Z"
    }
   },
   "cell_type": "code",
   "source": [
    "'''22.Faça um programa que leia um n´umero inteiro positivo par N e imprima todos os números\n",
    "pares de 0 at ´e N em ordem decrescente.'''\n",
    "n = int(input('Digite um numero '))\n",
    "while n < 0 or n % 2!=0:\n",
    "  n = int(input('NUmero invalido!Digite um numero par , positivo:'))\n",
    "i= n\n",
    "for i in  range(n,-1,-2):\n",
    "  print(i)\n"
   ],
   "outputs": [
    {
     "name": "stdout",
     "output_type": "stream",
     "text": [
      "10\n",
      "8\n",
      "6\n",
      "4\n",
      "2\n",
      "0\n"
     ]
    }
   ],
   "execution_count": 7
  },
  {
   "metadata": {
    "ExecuteTime": {
     "end_time": "2025-08-26T17:34:36.603774Z",
     "start_time": "2025-08-26T17:34:27.604784Z"
    }
   },
   "cell_type": "code",
   "source": [
    "'''23.Faça um programa que leia um número inteiro positivo ´ımpar N e imprima todos os\n",
    "números ´ımpares de 1 at ´e N em ordem crescente.'''\n",
    "\n",
    "n = int(input('Digite um numero '))\n",
    "while n < 0 or n % 2==0:\n",
    "  n = int(input('NUmero invalido!Digite um numero par , positivo:'))\n",
    "i= 0\n",
    "for i in  range(1,n+1,2):\n",
    "  print(i)"
   ],
   "outputs": [
    {
     "name": "stdout",
     "output_type": "stream",
     "text": [
      "1\n",
      "3\n",
      "5\n",
      "7\n",
      "9\n"
     ]
    }
   ],
   "execution_count": 9
  },
  {
   "metadata": {
    "ExecuteTime": {
     "end_time": "2025-08-26T17:51:56.860585Z",
     "start_time": "2025-08-26T17:51:52.807259Z"
    }
   },
   "cell_type": "code",
   "source": [
    "'''24.Faça um programa que leia um número inteiro positivo ´ımpar N e imprima todos os\n",
    "números ´ımpares de 1 at ´e N em ordem decrescente.'''\n",
    "\n",
    "n = int(input('Digite um numero '))\n",
    "while n < 0 or n % 2==0:\n",
    "  n = int(input('NUmero invalido!Digite um numero par , positivo:'))\n",
    "i= n\n",
    "for i in  range(n,0,-2):\n",
    "  print(i)\n",
    "\n"
   ],
   "outputs": [
    {
     "name": "stdout",
     "output_type": "stream",
     "text": [
      "15\n",
      "13\n",
      "11\n",
      "9\n",
      "7\n",
      "5\n",
      "3\n",
      "1\n"
     ]
    }
   ],
   "execution_count": 16
  },
  {
   "metadata": {
    "ExecuteTime": {
     "end_time": "2025-08-26T18:28:13.027893Z",
     "start_time": "2025-08-26T18:28:06.589480Z"
    }
   },
   "cell_type": "code",
   "source": [
    "'''25.Faça um programa que leia um n´umero inteiro positivo n e calcule a soma dos n primeiros\n",
    "números naturais.'''\n",
    "\n",
    "n = int(input('Digite um numero '))\n",
    "while n <= 0:\n",
    "    print('O numero deve ser inteiro positivo! Tente novamente.')\n",
    "soma = 0\n",
    "contador = 0\n",
    "\n",
    "while contador <=n:\n",
    "    soma += contador\n",
    "    contador += 1\n",
    "print('A soma dos ' , n, ' primeiros numeros natuarais  é  :', soma)\n",
    "\n",
    "\n",
    "\n",
    "\n"
   ],
   "outputs": [
    {
     "name": "stdout",
     "output_type": "stream",
     "text": [
      "A soma dos  200  primeiros numeros natuarais  é  : 20100\n"
     ]
    }
   ],
   "execution_count": 20
  },
  {
   "metadata": {
    "ExecuteTime": {
     "end_time": "2025-08-26T21:35:08.612220Z",
     "start_time": "2025-08-26T21:34:53.707761Z"
    }
   },
   "cell_type": "code",
   "source": [
    "'''26. Escreva um algoritmo que leia certa quantidade de numeros e imprima o maior deles e\n",
    "quantas vezes o maior n´umero foi lido. A quantidade de n´umeros a serem lidos deve ser\n",
    "fornecida pelo usuario.'''\n",
    "\n",
    "n = int (input('Quantos numeros deseja digitar  '))\n",
    "\n",
    "maior = None\n",
    "vezes = 0\n",
    "\n",
    "for i in range (n):\n",
    "    num = int(input('Digite um {i+1}°numero '))\n",
    "    if maior is None or num > maior:\n",
    "        maior= num\n",
    "        vezes = vezes + 1\n",
    "    elif num == maior:\n",
    "        vezes +=1\n",
    "\n",
    "print(\"O maior número é:\", maior)\n",
    "print(\"Ele foi lido\", vezes, \"vez(es).\")\n",
    "\n"
   ],
   "outputs": [
    {
     "name": "stdout",
     "output_type": "stream",
     "text": [
      "O maior número é: 50\n",
      "Ele foi lido 2 vez(es).\n"
     ]
    }
   ],
   "execution_count": 5
  },
  {
   "metadata": {
    "ExecuteTime": {
     "end_time": "2025-08-27T14:06:37.555357Z",
     "start_time": "2025-08-27T14:06:32.082861Z"
    }
   },
   "cell_type": "code",
   "source": [
    "'''Escreva um algoritmo que leia um numero inteiro entre 100 e 999 e imprima na saıda\n",
    "cada um dos algarismos que compoem o numero'''\n",
    "\n",
    "n = int (input('Digite  um numero'))\n",
    "while n <100 or n> 999:\n",
    "    n = int (input('valor invalido! tem um valor que esteja entre 100 e 999'))\n",
    "unidade = n % 10\n",
    "dezena = (n //10)%10\n",
    "centena  = n //100\n",
    "\n",
    "print('Unidade:', unidade)\n",
    "print('Dezena:', dezena)\n",
    "print('centena:', centena)\n"
   ],
   "outputs": [
    {
     "name": "stdout",
     "output_type": "stream",
     "text": [
      "Unidade: 0\n",
      "Dezena: 1\n",
      "centena: 5\n"
     ]
    }
   ],
   "execution_count": 5
  }
 ]
}
