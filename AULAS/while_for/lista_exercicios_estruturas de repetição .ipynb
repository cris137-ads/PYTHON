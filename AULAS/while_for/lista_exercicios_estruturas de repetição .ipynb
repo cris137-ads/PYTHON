{
 "nbformat": 4,
 "nbformat_minor": 0,
 "metadata": {
  "colab": {
   "provenance": [],
   "authorship_tag": "ABX9TyNQEu+pRdG0JIrmN2Y7FMmJ"
  },
  "kernelspec": {
   "name": "python3",
   "display_name": "Python 3 (ipykernel)",
   "language": "python"
  },
  "language_info": {
   "name": "python"
  }
 },
 "cells": [
  {
   "cell_type": "markdown",
   "source": [
    "#**Lista de exercícios de estruturas de repetição**"
   ],
   "metadata": {
    "id": "5sEnMzZMW_eW"
   }
  },
  {
   "cell_type": "code",
   "source": [
    "from pkg_resources import non_empty_lines\n",
    "\n",
    "'''1) Faça um programa que peça uma nota, entre zero e dez. Mostre uma mensagem caso o\n",
    "      valor seja inválido e continue pedindo até que o usuário informe um valor válido.'''\n",
    "nota = float (input(\"Informe uma nota de 0 a 10\"))\n",
    "while nota < 0  or nota > 10:\n",
    "  print('nota invalida ! tente novamente...')\n",
    "  nota = float (input(\"Informe uma nota de 0 a 10\"))\n",
    "print(\"Nota válida:\", nota)\n",
    "\n",
    "\n",
    "\n",
    "\n"
   ],
   "metadata": {
    "id": "wOhMlD8bXbKL",
    "colab": {
     "base_uri": "https://localhost:8080/"
    },
    "executionInfo": {
     "status": "ok",
     "timestamp": 1755633086452,
     "user_tz": 180,
     "elapsed": 3858,
     "user": {
      "displayName": "Cris Machado",
      "userId": "04092651530964153593"
     }
    },
    "outputId": "d3867541-9ae8-47f8-8bdc-173ffc033be8"
   },
   "outputs": [],
   "execution_count": null
  },
  {
   "cell_type": "code",
   "source": [
    "'''2) Faça um programa que leia um nome de usuário e a sua senha e não aceite a senha igual\n",
    "      ao nome do usuário, mostrando uma mensagem de erro e voltando a pedir as\n",
    "      informações.'''\n",
    "\n",
    "nome =input ('digite o seu nome')\n",
    "senha =input(\"digite a senha\")\n",
    "contador = 0\n",
    "while nome == senha:\n",
    "\n",
    "  print(\"Acesso Negado! Senha igual a nome. Tente outra senha e criei outra senha e login!\")\n",
    "  senha = input(\"Digite a nova senha: \")\n",
    "  contador += 1\n",
    "print (\"senha correta!\")\n",
    "\n",
    "\n"
   ],
   "metadata": {
    "colab": {
     "base_uri": "https://localhost:8080/"
    },
    "id": "9jdZFOdJ8S6m",
    "executionInfo": {
     "status": "ok",
     "timestamp": 1754585839307,
     "user_tz": 180,
     "elapsed": 22732,
     "user": {
      "displayName": "Cris Machado",
      "userId": "04092651530964153593"
     }
    },
    "outputId": "724d1337-5419-4360-b753-07e886117ed4"
   },
   "outputs": [],
   "execution_count": null
  },
  {
   "cell_type": "code",
   "source": [
    "'''3) Faça um programa que leia e valide as seguintes informações:\n",
    "a) Nome: maior que 3 caracteres;\n",
    "b) Idade: entre 0 e 150;\n",
    "c) Salário: maior que zero;\n",
    "d) Sexo: 'f' ou 'm';\n",
    "e) Estado Civil: 's', 'c', 'v', 'd';'''\n",
    "\n",
    "\n",
    "nome = \" \"\n",
    "while len (nome) <=3:\n",
    "  nome = input(\"Digite o nome (deve ter mais de 3 caracteres): \")\n",
    "  if len(nome) <=3:\n",
    "    print('nome invalido!!! Tente Novamente!!!')\n",
    "print(\"nome validado com sucesso!!\")\n",
    "\n",
    "idade = 0\n",
    "\n",
    "while idade <=0 or  idade >=150:\n",
    "  idade = int(input('Informe a sua idade'))\n",
    "  if idade <=0 or idade >=150:\n",
    "      print('idade Invalida! Tente novamente!')\n",
    "print('Idade validada com sucesso')\n",
    "\n",
    "salario = 0\n",
    "while salario <=0 :\n",
    "  salario =float(input('Informe o seu salario'))\n",
    "  if idade <=0:\n",
    "    print('salario invalido!Tente novamente !')\n",
    "print ('Salario validado!!')\n",
    "\n",
    "sexo = \" \"\n",
    "while sexo !=\"F\" and sexo != \"M\":\n",
    "  sexo = input('Digito sexo')\n",
    "  if sexo != \"F\" and sexo != \"M\":\n",
    "    print('Sexo invalido! Tente novamente !')\n",
    "print('Sexo validado!!')\n",
    "estado_civil_valido = ['S','C','V','D']\n",
    "\n",
    "estado_civil=\"\"\n",
    "\n",
    "while estado_civil not in estado_civil_valido:\n",
    "  estado_civil = input(\"Informe Seu estado civil:S-solteiro (a),C-Casado (a),V-viuvo (a),D-Divorciado (a)\").upper()\n",
    "  if estado_civil not in estado_civil_valido:\n",
    "    print('opção Invalida !Tente Novamente !')\n",
    "print(\"Estado civil Validado!!!\")\n",
    "\n",
    "\n",
    "\n",
    "\n",
    "\n",
    "\n",
    "\n",
    "\n",
    "\n"
   ],
   "metadata": {
    "colab": {
     "base_uri": "https://localhost:8080/"
    },
    "id": "u51_ld71d7Kw",
    "executionInfo": {
     "status": "ok",
     "timestamp": 1755286711762,
     "user_tz": 180,
     "elapsed": 19673,
     "user": {
      "displayName": "Cris Machado",
      "userId": "04092651530964153593"
     }
    },
    "outputId": "5609feed-83f9-47b3-c5bb-cb4844a462a5"
   },
   "outputs": [],
   "execution_count": null
  },
  {
   "cell_type": "code",
   "source": [
    "\n",
    "'''Supondo que a população de um país A seja da ordem de 80000 habitantes com uma\n",
    "taxa anual de crescimento de 3% e que a população de B seja 200000 habitantes com\n",
    "uma taxa de crescimento de 1.5%. Faça um programa que calcule e escreva o número de\n",
    "anos necessários para que a população do país A ultrapasse ou iguale a população do\n",
    "país B, mantidas as taxas de crescimento.'''\n",
    "\n",
    "população_A = 80000\n",
    "população_B = 200000\n",
    "\n",
    "anos = 0\n",
    "\n",
    "while população_A < população_B:\n",
    "  população_A=população_A+ (população_A*0.03)\n",
    "  população_B = população_B+(população_B* 0.015)\n",
    "\n",
    "  anos +=1\n",
    "\n",
    "print(f\"Serão necessários {anos} anos para o país A alcançar ou ultrapassar o país B.\")\n",
    "\n"
   ],
   "metadata": {
    "colab": {
     "base_uri": "https://localhost:8080/"
    },
    "id": "qkbj5xB5ObOq",
    "executionInfo": {
     "status": "ok",
     "timestamp": 1755607070921,
     "user_tz": 180,
     "elapsed": 34,
     "user": {
      "displayName": "Cris Machado",
      "userId": "04092651530964153593"
     }
    },
    "outputId": "f361f82c-a7fd-4953-d294-25604d26ebd7"
   },
   "outputs": [],
   "execution_count": null
  },
  {
   "cell_type": "code",
   "source": [
    "'''5) Altere o programa anterior permitindo ao usuário informar as populações e as taxas de\n",
    "crescimento iniciais. Valide a entrada e permita repetir a operação.'''\n",
    "\n",
    "\n",
    "while True:\n",
    "    print(\"\\n--- Comparação de Crescimento Populacional ---\")\n",
    "\n",
    "    # Entrada de dados e validação simples\n",
    "    populacao_A = int(input(\"Informe população do país A: \"))\n",
    "    while populacao_A <= 0:\n",
    "        populacao_A = int(input(\"População deve ser maior que 0. Informe novamente população A: \"))\n",
    "\n",
    "    taxa_a = float(input(\"Informe taxa de crescimento de A (%): \"))\n",
    "    while taxa_a < 0:\n",
    "        taxa_a = float(input(\"Taxa não pode ser negativa. Informe novamente taxa A (%): \"))\n",
    "\n",
    "    populacao_B = int(input(\"Informe população do país B: \"))\n",
    "    while populacao_B <= 0:\n",
    "        populacao_B = int(input(\"População deve ser maior que 0. Informe novamente população B: \"))\n",
    "\n",
    "    taxa_b = float(input(\"Informe taxa de crescimento de B (%): \"))\n",
    "    while taxa_b < 0:\n",
    "        taxa_b = float(input(\"Taxa não pode ser negativa. Informe novamente taxa B (%): \"))\n",
    "\n",
    "    # Converte as taxas de % para decimal\n",
    "    taxa_a /= 100\n",
    "    taxa_b /= 100\n",
    "\n",
    "    # Inicializa contador de anos\n",
    "    anos = 0\n",
    "\n",
    "    # Verifica casos especiais\n",
    "    if populacao_A >= populacao_B:\n",
    "        print(\"A população do país A já é maior ou igual à do país B. Anos necessários: 0\")\n",
    "    elif taxa_a <= taxa_b:\n",
    "        print(\"Com essas taxas de crescimento, o país A nunca alcançará o país B.\")\n",
    "    else:\n",
    "        # Cálculo ano a ano\n",
    "        while populacao_A < populacao_B:\n",
    "            populacao_A += populacao_A * taxa_a\n",
    "            populacao_B += populacao_B * taxa_b\n",
    "            anos += 1\n",
    "        print(f\"Serão necessários {anos} anos para o país A alcançar ou ultrapassar o país B.\")\n",
    "\n",
    "    # Pergunta se deseja repetir\n",
    "    resposta = input(\"\\nDeseja calcular novamente? (s/n): \").lower()\n",
    "    if resposta != 's':\n",
    "        print(\"Programa encerrado.\")\n",
    "        break\n",
    "'''se algoritmo resolve o problema de calcular em quantos anos a população do país A alcançará ou ultrapassará a população do país B, considerando taxas de\n",
    "crescimento anuais informadas pelo usuário.Primeiro, ele pede as populações iniciais e as taxas de crescimento de cada país, validando se os valores são\n",
    "positivos (populações maiores que zero e taxas não negativas). Em seguida, converte as taxas percentuais para decimais (dividindo por 100) para facilitar os\n",
    "cálculos. O programa trata dois casos especiais: se a população de A já é maior ou igual à de B, então não precisa esperar nenhum ano; se a taxa de\n",
    "crescimento de A for menor ou igual à de B, então A nunca conseguirá ultrapassar B, e o programa informa isso. Caso contrário, inicia um laço que simula ano\n",
    "a ano o crescimento populacional de ambos os países, incrementando o contador de anos até que a população de A seja maior ou igual à de B. No final, mostra\n",
    "quantos anos foram necessários e pergunta ao usuário se deseja repetir a operação. Caso o usuário digite algo diferente de \"s\", o programa encerra.'''\n",
    "\n",
    "\n",
    "\n",
    "\n",
    "\n"
   ],
   "metadata": {
    "colab": {
     "base_uri": "https://localhost:8080/",
     "height": 279
    },
    "id": "3EXy_5ckYn2N",
    "executionInfo": {
     "status": "ok",
     "timestamp": 1755618874928,
     "user_tz": 180,
     "elapsed": 45557,
     "user": {
      "displayName": "Cris Machado",
      "userId": "04092651530964153593"
     }
    },
    "outputId": "cae22191-dd70-4d60-99ad-27130c34c34c"
   },
   "outputs": [],
   "execution_count": null
  },
  {
   "cell_type": "code",
   "source": [
    "'''Faça um programa que imprima na tela os números de 1 a 20, um abaixo do outro. Depois\n",
    "modifique o programa para que ele mostre os números um ao lado do outro.'''\n",
    "for numero in range(1,21):\n",
    "  print(numero)\n"
   ],
   "metadata": {
    "colab": {
     "base_uri": "https://localhost:8080/"
    },
    "id": "hOUXa3PoAbOQ",
    "executionInfo": {
     "status": "ok",
     "timestamp": 1755626908678,
     "user_tz": 180,
     "elapsed": 51,
     "user": {
      "displayName": "Cris Machado",
      "userId": "04092651530964153593"
     }
    },
    "outputId": "c14b3797-009d-4adb-9510-152f2b9403ef"
   },
   "outputs": [],
   "execution_count": null
  },
  {
   "cell_type": "code",
   "source": [
    "\n",
    "\n",
    "for numero in range (1,21):\n",
    "  print(numero, end = ' ')"
   ],
   "metadata": {
    "colab": {
     "base_uri": "https://localhost:8080/"
    },
    "id": "9j1gfstkhKqt",
    "outputId": "9dab65e9-7902-4603-a139-4411c0cc58c6",
    "executionInfo": {
     "status": "ok",
     "timestamp": 1755627239051,
     "user_tz": 180,
     "elapsed": 16,
     "user": {
      "displayName": "Cris Machado",
      "userId": "04092651530964153593"
     }
    }
   },
   "outputs": [],
   "execution_count": null
  },
  {
   "cell_type": "code",
   "source": [
    "maior = float()\n",
    "for i in range (5):\n",
    "  numero = float (input(f'Digite  o {i+1} numero: '))\n",
    "  if numero > maior:\n",
    "\n",
    "   maior = numero\n",
    "print (\"O maior número é :\" , maior)"
   ],
   "metadata": {
    "colab": {
     "base_uri": "https://localhost:8080/"
    },
    "id": "QhwYmeAribUu",
    "executionInfo": {
     "status": "ok",
     "timestamp": 1755629149536,
     "user_tz": 180,
     "elapsed": 11942,
     "user": {
      "displayName": "Cris Machado",
      "userId": "04092651530964153593"
     }
    },
    "outputId": "67bcf2e1-e1c0-4ee1-b035-cc26a19d2f7e"
   },
   "outputs": [],
   "execution_count": null
  },
  {
   "cell_type": "code",
   "source": [
    "soma = 0\n",
    "for i in range(5):\n",
    "  numero = float (input(f' \"digite 0 {i+1}'))\n",
    "  soma += numero\n",
    "  media= soma /5\n",
    "print(\"A media dos numeros é :\", media)\n",
    "\n"
   ],
   "metadata": {
    "colab": {
     "base_uri": "https://localhost:8080/"
    },
    "id": "1vB_LHzopgGt",
    "executionInfo": {
     "status": "ok",
     "timestamp": 1755629546788,
     "user_tz": 180,
     "elapsed": 13859,
     "user": {
      "displayName": "Cris Machado",
      "userId": "04092651530964153593"
     }
    },
    "outputId": "4d712c51-cc04-48d7-a3f2-adf3419042cc"
   },
   "outputs": [],
   "execution_count": null
  },
  {
   "cell_type": "code",
   "source": [
    "# 9. Faça um programa que determine o mostre os cinco primeiro multiplos de 3, considerando numeros maior que 0.\n",
    "contador =0\n",
    "numero=1\n",
    "\n",
    "while contador < 5:\n",
    "  if numero % 3 ==0:\n",
    "    print(numero)\n",
    "    contador +=1\n",
    "  numero += 1\n",
    "\n",
    "\n",
    "\n",
    "\n"
   ],
   "metadata": {
    "id": "nWxH3z_br2fP",
    "colab": {
     "base_uri": "https://localhost:8080/"
    },
    "executionInfo": {
     "status": "ok",
     "timestamp": 1755696693621,
     "user_tz": 180,
     "elapsed": 16,
     "user": {
      "displayName": "Cris Machado",
      "userId": "04092651530964153593"
     }
    },
    "outputId": "30dca9f9-a000-49d9-b3e9-a3bfc0794c70"
   },
   "outputs": [],
   "execution_count": null
  },
  {
   "cell_type": "code",
   "source": [
    "'''10 Faça um algoritmo utilizando o comando while que mostra uma contagem regressiva\n",
    "na tela, iniciando em 10 e terminando em 0. Mostrar uma mensagem “FIM!” após a\n",
    "contagem.'''\n",
    "\n",
    "contador = 10\n",
    "while contador >0:\n",
    "  contador-=1\n",
    "  print(contador)\n",
    "print('fim')\n",
    "\n",
    "\n",
    "\n"
   ],
   "metadata": {
    "colab": {
     "base_uri": "https://localhost:8080/"
    },
    "id": "M7q3rrqNrYBh",
    "executionInfo": {
     "status": "ok",
     "timestamp": 1755697411130,
     "user_tz": 180,
     "elapsed": 27,
     "user": {
      "displayName": "Cris Machado",
      "userId": "04092651530964153593"
     }
    },
    "outputId": "bcad659f-360f-4105-f276-4337c9ee5b7a"
   },
   "outputs": [],
   "execution_count": null
  },
  {
   "cell_type": "code",
   "source": [
    "'''11.Escreva um programa que escreva na tela, de 1 até 100, de 1 em 1, 2 vezes. A primeira\n",
    "vez deve usar a estrutura de repeticão for e a segunda while.'''\n",
    "\n",
    "for numero in range(1,100):\n",
    "  print(numero)\n",
    "\n",
    "for numero in range(2,100,2):\n",
    "  print(numero)\n",
    "\n",
    "contador=0\n",
    "while contador < 100:\n",
    "  contador +=1\n",
    "  print(contador)\n",
    "\n",
    "contador=0\n",
    "while contador < 100:\n",
    "  contador +=2\n",
    "  print(contador)\n",
    "\n",
    "\n",
    "\n",
    "\n",
    "\n",
    "\n",
    "\n",
    "\n"
   ],
   "metadata": {
    "colab": {
     "base_uri": "https://localhost:8080/"
    },
    "id": "BzA2iyu8uHMF",
    "executionInfo": {
     "status": "ok",
     "timestamp": 1755701138790,
     "user_tz": 180,
     "elapsed": 48,
     "user": {
      "displayName": "Cris Machado",
      "userId": "04092651530964153593"
     }
    },
    "outputId": "c35bdd9a-7693-48e1-d43f-1ad6d451a097"
   },
   "outputs": [],
   "execution_count": null
  },
  {
   "cell_type": "code",
   "source": [
    "'''12.Escreva um programa que declare um inteiro, inicialize-o com 0, e incremente-o de 1000\n",
    "em 1000, imprimindo seu valor na tela, at ´e que seu valor seja 100000 (cem mil).'''\n",
    "\n",
    "\n",
    "\n",
    "numero = 0\n",
    "\n",
    "while numero <100000:\n",
    "  print(numero)\n",
    "  numero+= 1000\n",
    "\n",
    "\n"
   ],
   "metadata": {
    "colab": {
     "base_uri": "https://localhost:8080/"
    },
    "id": "YRNj460K8ipI",
    "executionInfo": {
     "status": "ok",
     "timestamp": 1755710306570,
     "user_tz": 180,
     "elapsed": 11,
     "user": {
      "displayName": "Cris Machado",
      "userId": "04092651530964153593"
     }
    },
    "outputId": "c1fbd1c7-efa8-4188-e47c-6bee4daf1f3a"
   },
   "outputs": [],
   "execution_count": null
  },
  {
   "cell_type": "code",
   "source": [
    "'''13.Faça um programa que pec¸a ao usu´ ario para digitar 10 valores e some-os.'''\n",
    "soma = 0\n",
    "\n",
    "for i in range(10):\n",
    "  numero = int (input(f'digite um numero{i+1} :'))\n",
    "  soma +=numero\n",
    "print(soma)\n"
   ],
   "metadata": {
    "colab": {
     "base_uri": "https://localhost:8080/"
    },
    "id": "y4LgevItfW6T",
    "executionInfo": {
     "status": "ok",
     "timestamp": 1755711793992,
     "user_tz": 180,
     "elapsed": 24202,
     "user": {
      "displayName": "Cris Machado",
      "userId": "04092651530964153593"
     }
    },
    "outputId": "945b2677-73d4-4b7d-fb16-77d7b6e9cc76"
   },
   "outputs": [],
   "execution_count": null
  },
  {
   "cell_type": "code",
   "source": [
    "'''14.Faça um programa que leia 10 inteiros e imprima sua média.'''\n",
    "soma = 0\n",
    "for i in range(10):\n",
    "  numero = float (input(f' \"digite 0 {i+1} :'))\n",
    "  soma += numero\n",
    "  media= soma /10\n",
    "print(\"A media dos numeros é :\", media)\n"
   ],
   "metadata": {
    "colab": {
     "base_uri": "https://localhost:8080/"
    },
    "id": "Qi7fxhP6kjBG",
    "executionInfo": {
     "status": "ok",
     "timestamp": 1755712028235,
     "user_tz": 180,
     "elapsed": 19541,
     "user": {
      "displayName": "Cris Machado",
      "userId": "04092651530964153593"
     }
    },
    "outputId": "0dbbc45c-69ef-4857-cd35-79eaa7f9481b"
   },
   "outputs": [],
   "execution_count": null
  },
  {
   "cell_type": "code",
   "source": [
    "'''15.Faça um programa que leia 10 inteiros positivos, ignorando n˜ao positivos, e imprima sua\n",
    "média.'''\n",
    "\n",
    "contador = 0\n",
    "soma = 0\n",
    "while contador < 10:\n",
    "  numero=int(input('Digite um numero inteiro positivo :'))\n",
    "  if numero >0:\n",
    "    soma+=numero\n",
    "    contador +=1\n",
    "  else:\n",
    "    print('Numero invalido.Tente novamente.')\n",
    "media= soma/10\n",
    "print('A média dos numerospositivos é' ,media)\n"
   ],
   "metadata": {
    "colab": {
     "base_uri": "https://localhost:8080/"
    },
    "id": "hgrodAyKmCTs",
    "executionInfo": {
     "status": "ok",
     "timestamp": 1755713728547,
     "user_tz": 180,
     "elapsed": 31033,
     "user": {
      "displayName": "Cris Machado",
      "userId": "04092651530964153593"
     }
    },
    "outputId": "bc61f2d7-a934-4b61-cb93-5e8c035cdb49"
   },
   "outputs": [],
   "execution_count": null
  },
  {
   "cell_type": "code",
   "source": [
    "'''16. Escreva um programa que leia 10 n´umeros e escreva o menor valor lido e o maior valor\n",
    "lido.'''\n",
    "numero = float(input(\"Digite o 1º número: \"))\n",
    "maior = numero\n",
    "menor = numero\n",
    "\n",
    "for i in range(2, 11):\n",
    "    numero = float(input(f\"Digite o {i}º número: \"))\n",
    "    if numero > maior:\n",
    "        maior = numero\n",
    "    if numero < menor:\n",
    "        menor = numero\n",
    "\n",
    "print(\"O maior número é:\", maior)\n",
    "print(\"O menor número é:\", menor)\n"
   ],
   "metadata": {
    "colab": {
     "base_uri": "https://localhost:8080/"
    },
    "id": "D2D6fB52s5yh",
    "executionInfo": {
     "status": "ok",
     "timestamp": 1755715402706,
     "user_tz": 180,
     "elapsed": 37336,
     "user": {
      "displayName": "Cris Machado",
      "userId": "04092651530964153593"
     }
    },
    "outputId": "b1aff7a6-2533-4ffc-ef89-5f06c065970a"
   },
   "outputs": [],
   "execution_count": null
  },
  {
   "cell_type": "code",
   "source": [
    "'''17.Faça um programa que leia um n´umero inteiro N e depois imprima os N primeiros\n",
    "números naturais ´ımpares.'''\n",
    "\n",
    "n = int(input(\"Informe N: \"))\n",
    "\n",
    "while True:\n",
    "    if n < 0:\n",
    "        print(\"Número negativo. Programa encerrado.\")\n",
    "        break\n",
    "    elif n == 0:\n",
    "        print(\"Zero não é válido. Informe novamente.\")\n",
    "    else:\n",
    "        for i in range(1, n+1):\n",
    "            print(2*i - 1)\n",
    "        break\n",
    "\n",
    "    n = int(input(\"Informe N: \"))\n",
    "\n",
    "\n",
    "\n"
   ],
   "metadata": {
    "colab": {
     "base_uri": "https://localhost:8080/",
     "height": 356
    },
    "id": "BZpI9cXdzUln",
    "executionInfo": {
     "status": "error",
     "timestamp": 1755886344361,
     "user_tz": 180,
     "elapsed": 44954,
     "user": {
      "displayName": "Cris Machado",
      "userId": "04092651530964153593"
     }
    },
    "outputId": "1f6bd679-2559-4462-8b6b-942b54da04f2"
   },
   "outputs": [],
   "execution_count": null
  },
  {
   "cell_type": "code",
   "source": [
    "'''18. Faça um programa que calcule e mostre a soma dos 50 primeiros números pares.'''\n",
    "soma = 0\n",
    "numero =0\n",
    "\n",
    "for i in range(50):\n",
    "  soma+=numero\n",
    "  numero+=2\n",
    "  media = soma /50\n",
    "print(soma)\n",
    "\n",
    "\n",
    "\n",
    "\n",
    "\n",
    "\n",
    ""
   ],
   "metadata": {
    "colab": {
     "base_uri": "https://localhost:8080/"
    },
    "id": "20yo2fpE-ovy",
    "executionInfo": {
     "status": "ok",
     "timestamp": 1755888785303,
     "user_tz": 180,
     "elapsed": 12,
     "user": {
      "displayName": "Cris Machado",
      "userId": "04092651530964153593"
     }
    },
    "outputId": "2df942bc-0c25-4373-8051-d3bbf20e0e87",
    "jupyter": {
     "is_executing": true
    }
   },
   "outputs": [],
   "execution_count": null
  },
  {
   "cell_type": "code",
   "source": [
    "'''19.Faça um programa que leia um número inteiro positivo N e imprima todos os números\n",
    "naturais de 0 at ´e N em ordem crescente.'''\n",
    "\n",
    "n = int(input('Digite um numero '))\n",
    "while n < 0:\n",
    "  n = int(input('NUmero invalido!Digite um numero positivo:'))\n",
    "i= 0\n",
    "while i <= n:\n",
    "  print(i)\n",
    "  i+=1\n",
    "\n",
    "\n",
    "\n",
    ""
   ],
   "metadata": {
    "colab": {
     "base_uri": "https://localhost:8080/"
    },
    "id": "gYBymueTISuZ",
    "executionInfo": {
     "status": "ok",
     "timestamp": 1755894023326,
     "user_tz": 180,
     "elapsed": 2469,
     "user": {
      "displayName": "Cris Machado",
      "userId": "04092651530964153593"
     }
    },
    "outputId": "f00c2a92-5f77-4713-ac85-3f9d2728988a",
    "jupyter": {
     "is_executing": true
    }
   },
   "outputs": [],
   "execution_count": null
  },
  {
   "cell_type": "code",
   "source": [
    "'''20.Faça um programa que leia um n´umero inteiro positivo N e imprima todos os números\n",
    "naturais de 0 at ´e N em ordem decrescente.'''\n",
    "\n",
    "n = int(input('Digite um numero '))\n",
    "while n < 0:\n",
    "  n = int(input('NUmero invalido!Digite um numero positivo:'))\n",
    "i= n\n",
    "while i >=0:\n",
    "\n",
    "  print(i)\n",
    "  i-= 1\n",
    "\n",
    "\n"
   ],
   "metadata": {
    "colab": {
     "base_uri": "https://localhost:8080/"
    },
    "id": "3QYU2LfpX42v",
    "executionInfo": {
     "status": "ok",
     "timestamp": 1755895104101,
     "user_tz": 180,
     "elapsed": 10461,
     "user": {
      "displayName": "Cris Machado",
      "userId": "04092651530964153593"
     }
    },
    "outputId": "b5c35ed0-ab3a-4e21-cac0-32d250acc9a4"
   },
   "outputs": [],
   "execution_count": null
  },
  {
   "cell_type": "code",
   "source": [
    "'''21.Faça um programa que leia um número inteiro positivo par N e imprima todos os números\n",
    "pares de 0 até N em ordem crescente.'''\n",
    "\n",
    "n = int(input('Digite um numero '))\n",
    "while n < 0 or n % 2!=0:\n",
    "  n = int(input('NUmero invalido!Digite um numero par , positivo:'))\n",
    "i= 0\n",
    "for i in  range(0,n+1,2):\n",
    "  print(i)\n",
    "\n"
   ],
   "metadata": {
    "colab": {
     "base_uri": "https://localhost:8080/"
    },
    "id": "Xsrlfo4rce_X",
    "executionInfo": {
     "status": "ok",
     "timestamp": 1755896238071,
     "user_tz": 180,
     "elapsed": 10079,
     "user": {
      "displayName": "Cris Machado",
      "userId": "04092651530964153593"
     }
    },
    "outputId": "38ace6a0-cc04-475f-8760-cd15522a6b0f"
   },
   "outputs": [],
   "execution_count": null
  },
  {
   "metadata": {},
   "cell_type": "code",
   "source": [
    "'''22.Faça um programa que leia um n´umero inteiro positivo par N e imprima todos os números\n",
    "pares de 0 at ´e N em ordem decrescente.'''\n",
    "n = int(input('Digite um numero '))\n",
    "while n < 0 or n % 2!=0:\n",
    "  n = int(input('NUmero invalido!Digite um numero par , positivo:'))\n",
    "i= n\n",
    "for i in  range(n,-1,-2):\n",
    "  print(i)\n"
   ],
   "outputs": [],
   "execution_count": null
  },
  {
   "metadata": {},
   "cell_type": "code",
   "source": [
    "'''23.Faça um programa que leia um número inteiro positivo ´ımpar N e imprima todos os\n",
    "números ´ımpares de 1 at ´e N em ordem crescente.'''\n",
    "\n",
    "n = int(input('Digite um numero '))\n",
    "while n < 0 or n % 2==0:\n",
    "  n = int(input('NUmero invalido!Digite um numero par , positivo:'))\n",
    "i= 0\n",
    "for i in  range(1,n+1,2):\n",
    "  print(i)"
   ],
   "outputs": [],
   "execution_count": null
  },
  {
   "metadata": {},
   "cell_type": "code",
   "source": [
    "'''24.Faça um programa que leia um número inteiro positivo ´ımpar N e imprima todos os\n",
    "números ´ımpares de 1 at ´e N em ordem decrescente.'''\n",
    "\n",
    "n = int(input('Digite um numero '))\n",
    "while n < 0 or n % 2==0:\n",
    "  n = int(input('NUmero invalido!Digite um numero par , positivo:'))\n",
    "i= n\n",
    "for i in  range(n,0,-2):\n",
    "  print(i)\n",
    "\n"
   ],
   "outputs": [],
   "execution_count": null
  },
  {
   "metadata": {},
   "cell_type": "code",
   "source": [
    "'''25.Faça um programa que leia um n´umero inteiro positivo n e calcule a soma dos n primeiros\n",
    "números naturais.'''\n",
    "\n",
    "n = int(input('Digite um numero '))\n",
    "while n <= 0:\n",
    "    print('O numero deve ser inteiro positivo! Tente novamente.')\n",
    "soma = 0\n",
    "contador = 0\n",
    "\n",
    "while contador <=n:\n",
    "    soma += contador\n",
    "    contador += 1\n",
    "print('A soma dos ' , n, ' primeiros numeros natuarais  é  :', soma)\n",
    "\n",
    "\n",
    "\n",
    "\n"
   ],
   "outputs": [],
   "execution_count": null
  },
  {
   "metadata": {
    "jupyter": {
     "is_executing": true
    }
   },
   "cell_type": "code",
   "source": [
    "'''26. Escreva um algoritmo que leia certa quantidade de numeros e imprima o maior deles e\n",
    "quantas vezes o maior n´umero foi lido. A quantidade de n´umeros a serem lidos deve ser\n",
    "fornecida pelo usuario.'''\n",
    "\n",
    "n = int (input('Quantos numeros deseja digitar  '))\n",
    "\n",
    "maior = None\n",
    "vezes = 0\n",
    "\n",
    "for i in range (n):\n",
    "    num = int(input('Digite um {i+1}°numero '))\n",
    "    if maior is None or num > maior:\n",
    "        maior= num\n",
    "        vezes = vezes + 1\n",
    "    elif num == maior:\n",
    "        vezes +=1\n",
    "\n",
    "print(\"O maior número é:\", maior)\n",
    "print(\"Ele foi lido\", vezes, \"vez(es).\")\n",
    "\n"
   ],
   "outputs": [],
   "execution_count": null
  },
  {
   "metadata": {},
   "cell_type": "code",
   "source": [
    "'''27.Escreva um algoritmo que leia um numero inteiro entre 100 e 999 e imprima na saıda\n",
    "cada um dos algarismos que compoem o numero'''\n",
    "\n",
    "n = int (input('Digite  um numero'))\n",
    "while n <100 or n> 999:\n",
    "    n = int (input('valor invalido! tem um valor que esteja entre 100 e 999'))\n",
    "unidade = n % 10\n",
    "dezena = (n //10)%10\n",
    "centena  = n //100\n",
    "\n",
    "print('Unidade:', unidade)\n",
    "print('Dezena:', dezena)\n",
    "print('centena:', centena)\n"
   ],
   "outputs": [],
   "execution_count": null
  },
  {
   "metadata": {
    "jupyter": {
     "is_executing": true
    }
   },
   "cell_type": "code",
   "source": [
    "''' 18.Ler uma sequˆencia de n´umeros inteiros e determinar se eles s˜ao pares ou n˜ao. Dever ´a\n",
    "ser informado o n´umero de dados lidos e n´umero de valores pares. O processo termina\n",
    "quando for digitado o n´umero 1000.'''\n",
    "\n",
    "n = int (input('Digite um numero '))\n",
    "while n < 1000:\n",
    "    n = int(input(\"Valor invalido ! Digite novamente.(Valores validos deve estar entre 0 e 1000)\"))"
   ],
   "outputs": [],
   "execution_count": null
  }
 ]
}
