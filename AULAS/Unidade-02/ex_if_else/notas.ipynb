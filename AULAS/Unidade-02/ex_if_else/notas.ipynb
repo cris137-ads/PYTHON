{
 "cells": [
  {
   "cell_type": "code",
   "execution_count": 2,
   "id": "d787d941",
   "metadata": {},
   "outputs": [
    {
     "name": "stdout",
     "output_type": "stream",
     "text": [
      "Aprovado\n"
     ]
    }
   ],
   "source": [
    "'''1) Desenvolva um algoritmo em Python para verificar se um aluno foi aprovado em uma\n",
    "    disciplina. O algoritmo deve solicitar ao usuário que digite a nota do aluno e verificar se a\n",
    "    nota é maior ou igual a 7. Caso a nota seja maior ou igual a 7, o algoritmo deve exibir a\n",
    "    81\n",
    "    mensagem \"Aluno aprovado\". Caso contrário, o algoritmo deve exibir a mensagem \"Aluno\n",
    "    reprovado\". '''\n",
    "nota  = float(input('Informe a sua nota:'))\n",
    "if nota >= 7:\n",
    "    print('Aprovado')\n",
    "else:\n",
    "    print ('reprovado')    \n",
    "\n"
   ]
  },
  {
   "cell_type": "code",
   "execution_count": 7,
   "id": "9fd9f9c2",
   "metadata": {},
   "outputs": [
    {
     "name": "stdout",
     "output_type": "stream",
     "text": [
      "ano não é bissexto \n"
     ]
    }
   ],
   "source": [
    "'''2) Desenvolva um algoritmo em Python para determinar se um ano é bissexto. O algoritmo\n",
    "    deve solicitar ao usuário que digite um ano e verificar se o ano é bissexto. Um ano é\n",
    "    bissexto se for divisível por 4, mas não por 100, exceto se for divisível por 400. Caso o\n",
    "    ano seja bissexto, o algoritmo deve exibir a mensagem \"Ano bissexto\". Caso contrário, o\n",
    "    algoritmo deve exibir a mensagem \"Ano não bissexto\". '''\n",
    "ano= int(input('Informe um ano:'))\n",
    "if ano %4 ==0 and ano % 100 != 0 or ano % 400 == 0:\n",
    "    print('ano bissexto')\n",
    "else:\n",
    "    print ('ano não é bissexto ')    "
   ]
  }
 ],
 "metadata": {
  "kernelspec": {
   "display_name": "Python 3",
   "language": "python",
   "name": "python3"
  },
  "language_info": {
   "codemirror_mode": {
    "name": "ipython",
    "version": 3
   },
   "file_extension": ".py",
   "mimetype": "text/x-python",
   "name": "python",
   "nbconvert_exporter": "python",
   "pygments_lexer": "ipython3",
   "version": "3.13.2"
  }
 },
 "nbformat": 4,
 "nbformat_minor": 5
}
