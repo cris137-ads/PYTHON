{
 "cells": [
  {
   "cell_type": "code",
   "execution_count": null,
   "id": "99209641",
   "metadata": {},
   "outputs": [],
   "source": [
    "\"\"\"Desenvolva um algoritmo em Python para verificar se um número digitado pelo\n",
    "usuário é par ou ímpar. O algoritmo deve solicitar ao usuário que digite um\n",
    "número inteiro e, em seguida, verificar se o número é par ou ímpar. Caso seja par,\n",
    "o algoritmo deve exibir a mensagem \"O número é par\". Caso seja ímpar, o\n",
    "algoritmo deve exibir a mensagem \"O número é ímpar\".\"\"\"\n",
    "\n",
    "num = int(input('digite um numero inteiro:'))\n",
    "if num % 2 == 0:\n",
    "    print('O número é par')\n",
    "else:\n",
    "    print('O número é ímpar')"
   ]
  }
 ],
 "metadata": {
  "kernelspec": {
   "display_name": "Python 3",
   "language": "python",
   "name": "python3"
  },
  "language_info": {
   "codemirror_mode": {
    "name": "ipython",
    "version": 3
   },
   "file_extension": ".py",
   "mimetype": "text/x-python",
   "name": "python",
   "nbconvert_exporter": "python",
   "pygments_lexer": "ipython3",
   "version": "3.13.2"
  }
 },
 "nbformat": 4,
 "nbformat_minor": 5
}
