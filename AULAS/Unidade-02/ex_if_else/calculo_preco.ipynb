{
 "cells": [
  {
   "cell_type": "code",
   "execution_count": 18,
   "id": "a36e05ed",
   "metadata": {},
   "outputs": [
    {
     "name": "stdout",
     "output_type": "stream",
     "text": [
      "O valor do produto sem desconto é: R$ 80.00\n"
     ]
    }
   ],
   "source": [
    "'''  Desenvolva um algoritmo em Python para calcular o preço final de um produto em\n",
    "uma loja, considerando os seguintes critérios:\n",
    "83\n",
    "Se o preço do produto for maior que R$ 100,00 e o cliente for VIP, aplique um desconto de 10%\n",
    "no preço final.\n",
    "Se o preço do produto for maior que R$ 100,00 e o cliente não for VIP, aplique um desconto de\n",
    "5% no preço final.\n",
    "Se o preço do produto for menor ou igual a R$ 100,00, não aplique nenhum desconto.\n",
    "O algoritmo deve solicitar o preço do produto e se o cliente é VIP ou não. Em seguida, ele deve\n",
    "calcular e exibir o preço final após aplicar o desconto, se aplicável.\n",
    "Dica: Utilize a função input() para receber os valores digitados pelo usuário e a função float() para\n",
    "converter os valores para números decimais.\n",
    "Sua tarefa é escrever o algoritmo completo, incluindo as estruturas condicionais if e else.\n",
    "Certifique-se de testar seu algoritmo com diferentes valores de entrada para garantir que ele\n",
    "esteja funcionando corretamente.'''\n",
    "\n",
    "valor_inicial = float (input(\"Digite o Valor do Produto:R$ \"))\n",
    "\n",
    "cliente_vip = input(\"O cliente è VIP Sim ou Não? \").strip().lower()\n",
    "\n",
    "dec_vip = valor_inicial* 0.10\n",
    "dec_não_vip = valor_inicial* 0.05\n",
    "\n",
    "valor_Vip = valor_inicial - dec_vip\n",
    "valor_não_vip = valor_inicial - dec_não_vip\n",
    "\n",
    "if valor_inicial > 100.00 and cliente_vip == \"sim\":\n",
    "    print(f\"O valor do produto com desconto VIP é: R$ {valor_Vip:.2f}\")\n",
    "elif valor_inicial > 100.00 and cliente_vip == \"não\":\n",
    "    print(f\"O valor do produto com desconto não VIP é: R$ {valor_não_vip:.2f}\")\n",
    "else:\n",
    "    print(f\"O valor do produto sem desconto é: R$ {valor_inicial:.2f}\")         \n",
    "\n",
    "\n",
    " \n",
    "\n",
    "\n",
    "\n",
    "\n",
    "\n",
    "    \n",
    "\n",
    "    "
   ]
  }
 ],
 "metadata": {
  "kernelspec": {
   "display_name": "Python 3",
   "language": "python",
   "name": "python3"
  },
  "language_info": {
   "codemirror_mode": {
    "name": "ipython",
    "version": 3
   },
   "file_extension": ".py",
   "mimetype": "text/x-python",
   "name": "python",
   "nbconvert_exporter": "python",
   "pygments_lexer": "ipython3",
   "version": "3.13.2"
  }
 },
 "nbformat": 4,
 "nbformat_minor": 5
}
