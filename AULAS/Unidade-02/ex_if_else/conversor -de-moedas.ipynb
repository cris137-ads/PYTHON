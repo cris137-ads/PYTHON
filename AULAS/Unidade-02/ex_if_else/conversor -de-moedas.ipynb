{
 "cells": [
  {
   "cell_type": "code",
   "execution_count": 3,
   "id": "364e6ac4",
   "metadata": {},
   "outputs": [
    {
     "name": "stdout",
     "output_type": "stream",
     "text": [
      "Valor em Euros(€): 15.43\n"
     ]
    }
   ],
   "source": [
    "'''Desenvolva um algoritmo em Python para criar um conversor de moedas que permita ao usuário\n",
    "converter valores entre diferentes moedas. O algoritmo deve utilizar os conceitos estudados,\n",
    "como declaração de variáveis, atribuição de valores, operações matemáticas, entrada de dados\n",
    "do usuário e exibição de resultados na tela.'''\n",
    "\n",
    "tx_dolar = 5.53\n",
    "tx_euro = 6.48\n",
    "\n",
    "valor_cov = float(input('Digite o Valor em Reais (R$) Que deseja coverter para Dólares(US$)ou Euros)'))\n",
    "tp_dolar  = input('Deseja converter para Dólares(US$) ou Euros(€)? Digite D para Dólares ou E para Euros: ').strip().upper()\n",
    "cov_Dolar = valor_cov / tx_dolar\n",
    "cov_euro = valor_cov / tx_euro\n",
    "if tp_dolar == 'D' :\n",
    "    print(f'Valor em Dólares(US$): {cov_Dolar:.2f}')\n",
    "elif tp_dolar == 'E':\n",
    "    print(f'Valor em Euros(€): {cov_euro:.2f}')\n",
    "else:\n",
    "    print('Opção ínvalida!')    \n",
    "\n",
    "\n",
    "\n"
   ]
  }
 ],
 "metadata": {
  "kernelspec": {
   "display_name": "Python 3",
   "language": "python",
   "name": "python3"
  },
  "language_info": {
   "codemirror_mode": {
    "name": "ipython",
    "version": 3
   },
   "file_extension": ".py",
   "mimetype": "text/x-python",
   "name": "python",
   "nbconvert_exporter": "python",
   "pygments_lexer": "ipython3",
   "version": "3.13.2"
  }
 },
 "nbformat": 4,
 "nbformat_minor": 5
}
