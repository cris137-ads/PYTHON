{
 "cells": [
  {
   "cell_type": "code",
   "execution_count": 3,
   "id": "1a98fb9b",
   "metadata": {},
   "outputs": [
    {
     "name": "stdout",
     "output_type": "stream",
     "text": [
      "Obesidade grau 1\n"
     ]
    }
   ],
   "source": [
    "\n",
    "# calculadora de IMC\n",
    "# autor : Cristiano Machado\n",
    "# data : 23/07/2025\n",
    "\n",
    "'''4) Desenvolva um algoritmo em Python para calcular o índice de massa corporal (IMC) de\n",
    "uma pessoa. O algoritmo deve solicitar ao usuário que digite o peso e a altura da pessoa\n",
    "e calcular o IMC usando a fórmula: IMC = peso / (altura * altura). Em seguida, o algoritmo\n",
    "deve verificar em qual faixa o IMC se encontra e exibir uma mensagem correspondente.\n",
    "Por exemplo, se o IMC for menor que 18.5, o algoritmo deve exibir a mensagem \"Abaixo\n",
    "do peso\". Se o IMC estiver entre 18.5 e 24.9, o algoritmo deve exibir a mensagem \"Peso\n",
    "normal\". E assim por diante, de acordo com as faixas de IMC estabelecidas.'''\n",
    "\n",
    "#Entrada de dados \n",
    "\n",
    "peso = float (input('Digite o seu peso em kg: '))\n",
    "altura= float(input('Digite a sua altura em metros:'))\n",
    "\n",
    "# Cálculo do IMC\n",
    "\n",
    "imc = peso /(altura*altura)\n",
    "\n",
    "# Condicional para verificar a faixa do IMC\n",
    "\n",
    "if imc > 18.5 and imc <24.9:\n",
    "    print('peso normal')\n",
    "elif imc <18.5:\n",
    "    print('abaixo do peso')\n",
    "elif imc >= 25 and imc <= 29.9:\n",
    "    print('sobrepeso')\n",
    "elif imc >= 30 and imc <= 34.9:\n",
    "    print('Obesidade grau 1') \n",
    "elif imc >= 35 and imc <= 39.9:\n",
    "    print('obesidade grau 2') \n",
    "elif imc >= 40:\n",
    "    print('Obesidade grau 3')\n",
    "else:\n",
    "    print('valor invalido de IMC')             \n",
    "\n",
    "\n"
   ]
  }
 ],
 "metadata": {
  "kernelspec": {
   "display_name": "Python 3",
   "language": "python",
   "name": "python3"
  },
  "language_info": {
   "codemirror_mode": {
    "name": "ipython",
    "version": 3
   },
   "file_extension": ".py",
   "mimetype": "text/x-python",
   "name": "python",
   "nbconvert_exporter": "python",
   "pygments_lexer": "ipython3",
   "version": "3.13.2"
  }
 },
 "nbformat": 4,
 "nbformat_minor": 5
}
