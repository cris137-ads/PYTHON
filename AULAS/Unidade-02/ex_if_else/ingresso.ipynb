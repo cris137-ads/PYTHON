{
 "cells": [
  {
   "cell_type": "code",
   "execution_count": 4,
   "id": "5f6fd8cb",
   "metadata": {},
   "outputs": [
    {
     "name": "stdout",
     "output_type": "stream",
     "text": [
      "Valor do ingresso com desconto é :R$12.50\n"
     ]
    }
   ],
   "source": [
    "'''3) Desenvolva um algoritmo em Python para determinar se uma pessoa tem direito a\n",
    "desconto em um ingresso de cinema. O algoritmo deve solicitar ao usuário que digite a\n",
    "idade da pessoa e verificar se ela tem menos de 12 anos ou mais de 60 anos. Se a idade\n",
    "estiver dentro dessas faixas, a pessoa terá direito a um desconto de 50% no valor do\n",
    "ingresso. Caso contrário, não haverá desconto. O algoritmo deve exibir o valor a ser pago\n",
    "pelo ingresso, considerando o desconto, se aplicável.'''\n",
    "\n",
    "# solicite a idade do cliente.\n",
    "\n",
    "idade = int(input('Digite a sua idade:'))\n",
    "\n",
    "ingresso_integral = 25.00 # Valor do ingresso sem desconto.\n",
    "ingresso_deconto = ingresso_integral-(ingresso_integral*0.50)\n",
    "# condicional para verificar se a pessoa tem direito ao desconto.\n",
    "\n",
    "if idade <12 or idade >60:\n",
    "    print(f'Valor do ingresso com desconto é :R${ingresso_deconto:.2f}')\n",
    "else :\n",
    "    print(f'Valor do ingresso sem desconto é :R${ingresso_integral:.2f}')   \n"
   ]
  }
 ],
 "metadata": {
  "kernelspec": {
   "display_name": "Python 3",
   "language": "python",
   "name": "python3"
  },
  "language_info": {
   "codemirror_mode": {
    "name": "ipython",
    "version": 3
   },
   "file_extension": ".py",
   "mimetype": "text/x-python",
   "name": "python",
   "nbconvert_exporter": "python",
   "pygments_lexer": "ipython3",
   "version": "3.13.2"
  }
 },
 "nbformat": 4,
 "nbformat_minor": 5
}
