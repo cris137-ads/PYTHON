{
 "cells": [
  {
   "cell_type": "code",
   "execution_count": null,
   "id": "71f3aac7",
   "metadata": {},
   "outputs": [
    {
     "name": "stdout",
     "output_type": "stream",
     "text": [
      "Você é idoso\n"
     ]
    }
   ],
   "source": [
    "# Programa que classifica a idade de uma pessoa \n",
    "idade = int(input('Digite sua idade')) #Solicitando a idade da pessoa \n",
    "# Classificando a idade \n",
    "\n",
    "if idade < 18:\n",
    "    print ('Você é menor de idade ')\n",
    "elif idade >= 18 and idade  <60:    \n",
    "    print ('Você é maior de idade')\n",
    "else :\n",
    "    print ('Você é idoso')    \n",
    "\n",
    "'''Neste exemplo, utilizamos a estrutura condicional encadeada com a palavra-chave \"elif\" para\n",
    "verificar múltiplas condições. Se a idade for menor que 18, o programa imprime \"Você é menor\n",
    "de idade\". Caso contrário, ele verifica a segunda condição, se a idade é maior ou igual a 18 e\n",
    "menor que 60, e imprime \"Você é maior de idade\". Se nenhuma das condições anteriores for\n",
    "verdadeira, ou seja, se a idade for maior ou igual a 60, o programa imprime \"Você é idoso\". '''\n"
   ]
  },
  {
   "cell_type": "code",
   "execution_count": null,
   "id": "37551758",
   "metadata": {},
   "outputs": [],
   "source": [
    "#vamos criar um sistema de login simples em Python, onde o usuário precisará\n",
    "#inserir um nome de usuário e senha para acessar o sistema.\n",
    "\n",
    "# Dados de login\n",
    "usuario_cadastrado = 'usuario123'\n",
    "senha_cadastrada = 'senha456'\n",
    "\n",
    "#solicitando nome de usuario e senha de usuario\n",
    "\n",
    "nome_usuario = input ('Digite seu nome de usuario')\n",
    "senha =input('Digite sua senha ')\n",
    "\n",
    "# verificando o login\n",
    "if nome_usuario == usuario_cadastrado and senha == senha_cadastrada:\n",
    "    print (\"login bem sucedido ! Seja bem vindo \", nome_usuario)\n",
    "else:\n",
    "    print ('Nome de usuario ou senha incorretos .tente novamente .')    \n",
    "    '''utilizamos o condicional \"if\" para verificar se o nome de usuário digitado é igual\n",
    "ao usuário cadastrado e se a senha digitada é igual à senha cadastrada. Se as duas condições\n",
    "forem verdadeiras, o programa imprime \"Login bem-sucedido! Bem-vindo,\" seguido do nome de\n",
    "usuário. Caso contrário, imprime \"Nome de usuário ou senha incorretos. Tente novamente.\" '''\n"
   ]
  },
  {
   "cell_type": "code",
   "execution_count": null,
   "id": "56ea1d78",
   "metadata": {},
   "outputs": [
    {
     "name": "stdout",
     "output_type": "stream",
     "text": [
      "Valor total da compra : 2000.0\n",
      "Desconto aplicado 10 %\n",
      "valor com desconto  1800.0\n"
     ]
    }
   ],
   "source": [
    "# vamos criar um programa que calcula o desconto a ser aplicado em uma venda\n",
    "#com base no valor total da compra.\n",
    "\n",
    "#Solicitando o valor total da compra\n",
    "valor_total = float(input('Digite o valor total da compra '))\n",
    "\n",
    "# Verificando o desconto a ser aplicado \n",
    "\n",
    "if valor_total >= 100.0:\n",
    "    desconto = 10\n",
    "elif valor_total >= 50.0:\n",
    "    desconto =5\n",
    "else :\n",
    "    desconto = 0\n",
    "# Calculando o valor com desconto \n",
    "valor_com_desconto = valor_total - (valor_total*desconto/100)\n",
    "\n",
    "# Exibindo o resultado \n",
    "print('Valor total da compra :',valor_total)\n",
    "print('Desconto aplicado',desconto,'%')\n",
    "print ('valor com desconto ',valor_com_desconto)\n",
    "\n",
    "'''utilizamos a estrutura condicional encadeada com as palavras-chave \"if\" e \"elif\"\n",
    "para verificar as diferentes faixas de valor total da compra. Se o valor total for maior ou igual a\n",
    "100, o desconto é de 10%. Se for maior ou igual a 50 e menor que 100, o desconto é de 5%. Caso\n",
    "o valor total seja menor que 50, não há desconto e o programa atribui o valor 0 ao desconto. O\n",
    "valor com desconto é calculado e exibido no final do programa. '''\n"
   ]
  },
  {
   "cell_type": "code",
   "execution_count": null,
   "id": "5de5f168",
   "metadata": {},
   "outputs": [
    {
     "name": "stdout",
     "output_type": "stream",
     "text": [
      "Similador de empréstimo\n",
      " \n",
      "EMPRÉSTIMO APROVADO. Valor de cada parcela: R$ 833.33\n"
     ]
    }
   ],
   "source": [
    "# Simulador de emprestimo \n",
    "''' O empréstimo para ser aprovado deve seguir as seguintes regras:\n",
    "O valor minimo : R$ 1000,00\n",
    "O valor máximo : R$ 50.000,00\n",
    "quantidade minima  de parcelas é de 6.\n",
    "A quantidade máxima de parcelas é de 36\n",
    "O valor das parcelas não pode ser superior a 30% da renda mensala do cliente . '''\n",
    "\n",
    "\n",
    "print ('Similador de empréstimo\\n ')\n",
    "# Solicitando os dados do empréstimo para simulação\n",
    "valor_emprestimo = float(input('Digite o valor do empréstimo desejedo: R$  '))\n",
    "num_parcelas = int(input('Digite a quantidade de parcelas desejadas(6 a 36):'))\n",
    "renda_mensal = float (input('Digite sua renda mensal: R$ '))\n",
    "\n",
    "#verificando condições de empréstimo\n",
    "valor_parcela = valor_emprestimo / num_parcelas\n",
    "renda_permitida = renda_mensal * 0.3\n",
    "\n",
    "aprovado = True\n",
    "\n",
    "if valor_emprestimo < 1000 or valor_emprestimo > 50000:\n",
    "    print('EMPRÉSTIMO NÃO APROVADO :valor fora dos limites permitidos ')\n",
    "    aprovado = False\n",
    "if num_parcelas < 6 or num_parcelas > 36:\n",
    "    print('EMPRÉSTIMO NÃO APROVADO : quantidade de parcelas fora dos limites permitidos ')\n",
    "    aprovado = False\n",
    "if valor_parcela > renda_permitida:\n",
    "    print('EMPRESTIMO NÃO APROVADO : valor das parcelas excede 30% da renda mensal')\n",
    "    aprovado = False\n",
    "if aprovado:\n",
    "    print(f'EMPRÉSTIMO APROVADO. Valor de cada parcela: R$ {valor_parcela:.2f}')\n",
    "    aprovado = True\n",
    "    ''' O programa solicita ao usuário o valor desejado para empréstimo, a quantidade de parcelas e a\n",
    "        renda mensal. Em seguida, calcula o valor das parcelas e verifica se o empréstimo atende às\n",
    "        regras estabelecidas. Se alguma das condições não for atendida, o programa retorna uma\n",
    "        mensagem indicando que o empréstimo não foi aprovado. Caso contrário, o programa informa o\n",
    "        valor das parcelas e que o empréstimo foi aprovado. Obs : usado true e false para cerificar que caso a \n",
    "        pessoa não atenda as regras o programa não retorne o valor das parcelas '''\n"
   ]
  }
 ],
 "metadata": {
  "kernelspec": {
   "display_name": "base",
   "language": "python",
   "name": "python3"
  },
  "language_info": {
   "codemirror_mode": {
    "name": "ipython",
    "version": 3
   },
   "file_extension": ".py",
   "mimetype": "text/x-python",
   "name": "python",
   "nbconvert_exporter": "python",
   "pygments_lexer": "ipython3",
   "version": "3.12.7"
  }
 },
 "nbformat": 4,
 "nbformat_minor": 5
}
