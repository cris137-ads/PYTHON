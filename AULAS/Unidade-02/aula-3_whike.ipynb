{
 "cells": [
  {
   "cell_type": "markdown",
   "id": "46391a46",
   "metadata": {},
   "source": [
    "\n",
    "**<h1>LOOP WHILE</h1>**"
   ]
  },
  {
   "cell_type": "code",
   "execution_count": 4,
   "id": "ca634ff3",
   "metadata": {},
   "outputs": [
    {
     "name": "stdout",
     "output_type": "stream",
     "text": [
      "0\n",
      "1\n",
      "2\n",
      "3\n",
      "4\n",
      "5\n",
      "6\n",
      "7\n",
      "8\n",
      "9\n"
     ]
    }
   ],
   "source": [
    "# Usando o loop while para imprimir os valores de 0 a 9.\n",
    "# A condição tem que deixar de ser verdadeira dendro do loop, senão pode travar o navegador ou mesmo o computador \n",
    "valor = 0 \n",
    "while valor < 10:\n",
    "    print (valor)\n",
    "    valor = valor + 1\n"
   ]
  },
  {
   "cell_type": "code",
   "execution_count": 6,
   "id": "7c821ec2",
   "metadata": {},
   "outputs": [],
   "source": [
    "# Entra no loop somente se a condição for verdadeira \n",
    "valor = 11\n",
    "while valor < 10:\n",
    "    print (valor)\n",
    "    valor = valor + 1"
   ]
  },
  {
   "cell_type": "code",
   "execution_count": 9,
   "id": "be41aa25",
   "metadata": {},
   "outputs": [
    {
     "name": "stdout",
     "output_type": "stream",
     "text": [
      "O valor de x nesta iteração é : 0\n",
      " x ainda é menor que 10, soamando 1 a x \n",
      "O valor de x nesta iteração é : 1\n",
      " x ainda é menor que 10, soamando 1 a x \n",
      "O valor de x nesta iteração é : 2\n",
      " x ainda é menor que 10, soamando 1 a x \n",
      "O valor de x nesta iteração é : 3\n",
      " x ainda é menor que 10, soamando 1 a x \n",
      "O valor de x nesta iteração é : 4\n",
      " x ainda é menor que 10, soamando 1 a x \n",
      "O valor de x nesta iteração é : 5\n",
      " x ainda é menor que 10, soamando 1 a x \n",
      "O valor de x nesta iteração é : 6\n",
      " x ainda é menor que 10, soamando 1 a x \n",
      "O valor de x nesta iteração é : 7\n",
      " x ainda é menor que 10, soamando 1 a x \n",
      "O valor de x nesta iteração é : 8\n",
      " x ainda é menor que 10, soamando 1 a x \n",
      "O valor de x nesta iteração é : 9\n",
      " x ainda é menor que 10, soamando 1 a x \n",
      "loop concluido\n",
      "10\n"
     ]
    }
   ],
   "source": [
    "# tambem é possivel usar a claúsula else para encerrar o loop while\n",
    "\n",
    "x = 0\n",
    "while x < 10 :\n",
    "    print ('O valor de x nesta iteração é :' , x)\n",
    "    print (' x ainda é menor que 10, soamando 1 a x ')\n",
    "    x +=1\n",
    "else :\n",
    "    print ('loop concluido')\n",
    "print (x)    "
   ]
  },
  {
   "cell_type": "markdown",
   "id": "987e796d",
   "metadata": {},
   "source": [
    "**<h1>Pass,Break,continue</h1>**"
   ]
  },
  {
   "cell_type": "code",
   "execution_count": null,
   "id": "624bafb0",
   "metadata": {},
   "outputs": [
    {
     "name": "stdout",
     "output_type": "stream",
     "text": [
      "0\n",
      "1\n",
      "2\n",
      "3\n",
      "4\n",
      "5\n",
      "6\n"
     ]
    }
   ],
   "source": [
    "# se encontramos o numero 4 interrompemos o loop\n",
    "\n",
    "valor = 0\n",
    "while valor < 10:\n",
    "    if valor == 4:\n",
    "        break\n",
    "    else:\n",
    "        pass\n",
    "    print(valor)\n",
    "    valor = valor +1"
   ]
  }
 ],
 "metadata": {
  "kernelspec": {
   "display_name": "Python 3",
   "language": "python",
   "name": "python3"
  },
  "language_info": {
   "codemirror_mode": {
    "name": "ipython",
    "version": 3
   },
   "file_extension": ".py",
   "mimetype": "text/x-python",
   "name": "python",
   "nbconvert_exporter": "python",
   "pygments_lexer": "ipython3",
   "version": "3.13.2"
  }
 },
 "nbformat": 4,
 "nbformat_minor": 5
}
