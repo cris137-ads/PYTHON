{
 "cells": [
  {
   "cell_type": "markdown",
   "id": "8757baea",
   "metadata": {},
   "source": [
    "**<h1>Loop For</br>**\n"
   ]
  },
  {
   "cell_type": "code",
   "execution_count": 1,
   "id": "cc444bd5",
   "metadata": {},
   "outputs": [
    {
     "name": "stdout",
     "output_type": "stream",
     "text": [
      "2\n",
      "3\n",
      "4\n"
     ]
    }
   ],
   "source": [
    "# Criando uma tupla e imprimindo cada um dos valores\n",
    "tp = (2,3,4)\n",
    "for i in tp:\n",
    "    print(i)\n"
   ]
  },
  {
   "cell_type": "code",
   "execution_count": 3,
   "id": "092a033e",
   "metadata": {},
   "outputs": [
    {
     "name": "stdout",
     "output_type": "stream",
     "text": [
      "data\n",
      "Sciencie\n",
      "Academy\n"
     ]
    }
   ],
   "source": [
    "# criando uma lista e imprimindo cada um dos valores\n",
    "ListadeStrings = ['data','Sciencie','Academy']\n",
    "for i in ListadeStrings:\n",
    "    print(i)"
   ]
  },
  {
   "cell_type": "code",
   "execution_count": 5,
   "id": "c63f827a",
   "metadata": {},
   "outputs": [
    {
     "name": "stdout",
     "output_type": "stream",
     "text": [
      "0\n",
      "1\n",
      "2\n",
      "3\n",
      "4\n"
     ]
    }
   ],
   "source": [
    "# imprimindo os valores no intervalo entre 0 e 5 (exclusive)\n",
    "for contador in range(0,5) :\n",
    "    print (contador)"
   ]
  },
  {
   "cell_type": "code",
   "execution_count": 8,
   "id": "f787aa88",
   "metadata": {},
   "outputs": [
    {
     "name": "stdout",
     "output_type": "stream",
     "text": [
      "2\n",
      "4\n",
      "6\n",
      "8\n",
      "10\n"
     ]
    }
   ],
   "source": [
    "# Imprimindo os numeros pares da lista de numeros \n",
    "\n",
    "lista= [1,2,3,4,5,6,7,8,9,10]\n",
    "for num in lista:\n",
    "    if num % 2 == 0:\n",
    "        print(num)"
   ]
  },
  {
   "cell_type": "code",
   "execution_count": 10,
   "id": "f3a90a93",
   "metadata": {},
   "outputs": [
    {
     "name": "stdout",
     "output_type": "stream",
     "text": [
      "0\n",
      "2\n",
      "4\n",
      "6\n",
      "8\n",
      "10\n",
      "12\n",
      "14\n",
      "16\n",
      "18\n",
      "20\n",
      "22\n",
      "24\n",
      "26\n",
      "28\n",
      "30\n",
      "32\n",
      "34\n",
      "36\n",
      "38\n",
      "40\n",
      "42\n",
      "44\n",
      "46\n",
      "48\n",
      "50\n",
      "52\n",
      "54\n",
      "56\n",
      "58\n",
      "60\n",
      "62\n",
      "64\n",
      "66\n",
      "68\n",
      "70\n",
      "72\n",
      "74\n",
      "76\n",
      "78\n",
      "80\n",
      "82\n",
      "84\n",
      "86\n",
      "88\n",
      "90\n",
      "92\n",
      "94\n",
      "96\n",
      "98\n",
      "100\n"
     ]
    }
   ],
   "source": [
    "# Listando os numeros no intervalo entre 0 e 101, com incremento em 2\n",
    "for i in range (0,101,2):\n",
    "    print(i)"
   ]
  },
  {
   "cell_type": "code",
   "execution_count": 12,
   "id": "1376a777",
   "metadata": {},
   "outputs": [
    {
     "name": "stdout",
     "output_type": "stream",
     "text": [
      "p\n",
      "y\n",
      "t\n",
      "h\n",
      "o\n",
      "n\n",
      " \n",
      "é\n",
      " \n",
      "u\n",
      "m\n",
      "a\n",
      " \n",
      "l\n",
      "i\n",
      "n\n",
      "g\n",
      "u\n",
      "a\n",
      "g\n",
      "e\n",
      "m\n",
      " \n",
      "d\n",
      "e\n",
      " \n",
      "p\n",
      "r\n",
      "o\n",
      "g\n",
      "r\n",
      "a\n",
      "m\n",
      "a\n",
      "ç\n",
      "ã\n",
      "o\n",
      " \n",
      "d\n",
      "i\n",
      "v\n",
      "e\n",
      "r\n",
      "t\n",
      "i\n",
      "d\n",
      "a\n"
     ]
    }
   ],
   "source": [
    "# Strings também são seguencias \n",
    "for caracter in 'python é uma linguagem de programação divertida' :\n",
    "    print (caracter)"
   ]
  },
  {
   "cell_type": "markdown",
   "id": "ad5abd19",
   "metadata": {},
   "source": [
    "**<h1>Loops For Aninhados</h1>** "
   ]
  },
  {
   "cell_type": "code",
   "execution_count": 14,
   "id": "e90dfec7",
   "metadata": {},
   "outputs": [
    {
     "name": "stdout",
     "output_type": "stream",
     "text": [
      "\n",
      " 0\n",
      "\n",
      " 0\n",
      "\n",
      " 0\n",
      "----\n",
      "\n",
      " 1\n",
      "\n",
      " 2\n",
      "\n",
      " 3\n",
      "----\n",
      "\n",
      " 2\n",
      "\n",
      " 4\n",
      "\n",
      " 6\n",
      "----\n",
      "\n",
      " 3\n",
      "\n",
      " 6\n",
      "\n",
      " 9\n",
      "----\n",
      "\n",
      " 4\n",
      "\n",
      " 8\n",
      "\n",
      " 12\n",
      "----\n"
     ]
    }
   ],
   "source": [
    "lista1 = [0,1,2,3,4]\n",
    "lista2 = [1,2,3]\n",
    "# loop interno\n",
    "for elemento_lista1 in lista1:\n",
    "    # Loop interno\n",
    "    for elemento_lista2 in lista2:\n",
    "        print('\\n',elemento_lista1 * elemento_lista2)\n",
    "    print('----')    "
   ]
  },
  {
   "cell_type": "code",
   "execution_count": null,
   "id": "0ee3eaac",
   "metadata": {},
   "outputs": [],
   "source": []
  },
  {
   "cell_type": "markdown",
   "id": "d6d122e4",
   "metadata": {},
   "source": []
  },
  {
   "cell_type": "code",
   "execution_count": 2,
   "id": "522f030e",
   "metadata": {},
   "outputs": [
    {
     "name": "stdout",
     "output_type": "stream",
     "text": [
      "O numero 47 foi encontrado nas duas listas \n"
     ]
    }
   ],
   "source": [
    "# O numero 47 aparece nas duas listas ?\n",
    "lista1 = [10,16,24,39,47]\n",
    "lista2 = [32,89,47,76,12]\n",
    "\n",
    "# loop externo \n",
    "for elemento_lista1 in lista1:\n",
    "\n",
    "    # loop interno \n",
    "    for elemento_lista2 in lista2:\n",
    "        # Condicional \n",
    "        if elemento_lista1 == 47 and  elemento_lista2 == 47:\n",
    "            print ('O numero 47 foi encontrado nas duas listas ')\n"
   ]
  },
  {
   "cell_type": "code",
   "execution_count": 3,
   "id": "700bce7a",
   "metadata": {},
   "outputs": [
    {
     "name": "stdout",
     "output_type": "stream",
     "text": [
      "soma dos numeros pares das duas listas é igual a 170\n"
     ]
    }
   ],
   "source": [
    "# some os numeros pares da primeira lista com os numeros pares da segunda lista \n",
    "lista1 = [10,16,24,39,47]\n",
    "lista2 = [32,89,47,76,12]\n",
    "soma = 0\n",
    " \n",
    "# loop externo\n",
    "for lista in [lista1,lista2]:\n",
    "    #loop interno\n",
    "    for num in lista:\n",
    "        # condicional\n",
    "        if num % 2 ==0:\n",
    "            soma += num \n",
    "print ('soma dos numeros pares das duas listas é igual a',soma)         "
   ]
  },
  {
   "cell_type": "code",
   "execution_count": 4,
   "id": "8197fb06",
   "metadata": {},
   "outputs": [
    {
     "name": "stdout",
     "output_type": "stream",
     "text": [
      "maior numero:  215\n"
     ]
    }
   ],
   "source": [
    "matriz = [[42,23,34] , [100,215,114] ,[10.1,98.7,12.3]]\n",
    "maior_numero = 0\n",
    "# loop externo\n",
    "for linha in matriz:\n",
    "    # loop interno\n",
    "    for num in linha:\n",
    "        #condicional\n",
    "        if num > maior_numero:\n",
    "            maior_numero = num\n",
    "print ('maior numero: ' ,maior_numero)            \n"
   ]
  },
  {
   "cell_type": "code",
   "execution_count": 3,
   "id": "0b67b0e8",
   "metadata": {},
   "outputs": [
    {
     "name": "stdout",
     "output_type": "stream",
     "text": [
      "k1\n",
      "k2\n",
      "k3\n"
     ]
    }
   ],
   "source": [
    "# Imprimindo as chaves de um dicionário\n",
    "dict = {'k1': 'Python','k2': 'R','k3': 'Scala'}\n",
    "for item in dict :\n",
    "    print (item)"
   ]
  },
  {
   "cell_type": "code",
   "execution_count": 4,
   "id": "e11cafed",
   "metadata": {},
   "outputs": [
    {
     "name": "stdout",
     "output_type": "stream",
     "text": [
      "k1 Python\n",
      "k2 R\n",
      "k3 Scala\n"
     ]
    }
   ],
   "source": [
    "# Imprimindo chave e valor . usando o método items() para tetornar os items e um dicionário.\n",
    "\n",
    "for k,v in dict .items():\n",
    "    print(k,v)"
   ]
  }
 ],
 "metadata": {
  "kernelspec": {
   "display_name": "Python 3",
   "language": "python",
   "name": "python3"
  },
  "language_info": {
   "codemirror_mode": {
    "name": "ipython",
    "version": 3
   },
   "file_extension": ".py",
   "mimetype": "text/x-python",
   "name": "python",
   "nbconvert_exporter": "python",
   "pygments_lexer": "ipython3",
   "version": "3.13.2"
  }
 },
 "nbformat": 4,
 "nbformat_minor": 5
}
