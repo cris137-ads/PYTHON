{
 "cells": [
  {
   "cell_type": "code",
   "execution_count": null,
   "id": "b3795ef6",
   "metadata": {},
   "outputs": [
    {
     "name": "stdout",
     "output_type": "stream",
     "text": [
      "1\n",
      "2\n",
      "3\n",
      "4\n",
      "5\n"
     ]
    }
   ],
   "source": [
    "numeros = [1, 2, 3, 4, 5]\n",
    "for numero in numeros:\n",
    "    print(numero)\n",
    "\n",
    "'''Neste exemplo, temos uma lista de números e queremos imprimir cada um deles na tela.\n",
    "Utilizamos o comando \"for\" para percorrer a lista e, a cada iteração, a variável \"numero\" recebe o\n",
    "valor do próximo elemento da lista. Dentro do bloco de código, utilizamos o comando \"print\" para\n",
    "exibir o valor do número. ''' \n"
   ]
  },
  {
   "cell_type": "code",
   "execution_count": null,
   "id": "23ed77bd",
   "metadata": {},
   "outputs": [
    {
     "name": "stdout",
     "output_type": "stream",
     "text": [
      "o\n",
      "l\n",
      "a\n",
      ",\n",
      " \n",
      "m\n",
      "u\n",
      "n\n",
      "d\n",
      "o\n",
      "!\n"
     ]
    }
   ],
   "source": [
    "frase = \"ola, mundo!\"\n",
    "for caractere in frase:\n",
    "    print(caractere)\n",
    "'''Neste exemplo, temos uma string que representa uma frase e queremos imprimir cada caractere\n",
    "separadamente. Utilizamos o comando \"for\" para percorrer a string e, a cada iteração, a variável\n",
    "\"caractere\" recebe o valor do próximo caractere da string. Novamente, utilizamos o comando\n",
    "\"print\" para exibir o valor do caractere.'''"
   ]
  },
  {
   "cell_type": "code",
   "execution_count": null,
   "id": "12ab9439",
   "metadata": {},
   "outputs": [
    {
     "name": "stdout",
     "output_type": "stream",
     "text": [
      "João\n",
      "Maria\n",
      "Pedro\n",
      "Ana\n"
     ]
    }
   ],
   "source": [
    "nomes =[\"João\", \"Maria\", \"Pedro\", \"Ana\"]\n",
    "for nome in nomes:\n",
    "    print(nome)\n",
    "''' Neste exemplo, a cada iteração do loop, a variável \"nome\" recebe um dos elementos da lista\n",
    "\"nomes\" e o imprime na tela. Assim, todos os nomes presentes na lista serão exibidos.'''\n",
    "    "
   ]
  },
  {
   "cell_type": "code",
   "execution_count": null,
   "id": "4c639864",
   "metadata": {},
   "outputs": [
    {
     "name": "stdout",
     "output_type": "stream",
     "text": [
      "10 != 3628800\n"
     ]
    }
   ],
   "source": [
    "resultado = 1\n",
    "numero = int(input(\"Digite o numero inteiro para calcular o seu fatorial \"))\n",
    "\n",
    "for i in range(1,numero +1):\n",
    "    resultado*=i\n",
    "print(numero,\"!=\" , resultado)\n",
    "'''Neste exemplo, utilizamos o comando \"for\" em conjunto com a função range() para percorrer os\n",
    "números de 1 até o número desejado (incluindo-o). Em cada iteração, multiplicamos o valor da\n",
    "variável \"fatorial\" pelo número atual do loop. No final, o resultado do fatorial é exibido na tela.'''\n"
   ]
  },
  {
   "cell_type": "code",
   "execution_count": null,
   "id": "a0f8d915",
   "metadata": {},
   "outputs": [
    {
     "name": "stdout",
     "output_type": "stream",
     "text": [
      "Soma =  150\n",
      "media 30.0\n"
     ]
    }
   ],
   "source": [
    "numeros = [10,20,30,40,50]\n",
    "soma = 0\n",
    "\n",
    "for numero in numeros:\n",
    "    soma +=numero\n",
    "media = soma / len(numeros)\n",
    "\n",
    "print(\"Soma = \" ,soma)\n",
    "print(\"media\",media)\n",
    "'''Neste exemplo, utilizamos o comando \"for\" para percorrer a lista \"numeros\" e somar cada\n",
    "elemento à variável \"soma\". Em seguida, dividimos a soma pelo tamanho da lista utilizando a\n",
    "função len() para obter a média. Por fim, a média é exibida na tela.'''"
   ]
  },
  {
   "cell_type": "code",
   "execution_count": 6,
   "id": "bf2ec0e5",
   "metadata": {},
   "outputs": [
    {
     "name": "stdout",
     "output_type": "stream",
     "text": [
      "5\n",
      "4\n",
      "3\n",
      "2\n",
      "1\n",
      "Fim da contagem \n"
     ]
    },
    {
     "data": {
      "text/plain": [
       "'Neste exemplo, utilizamos o comando \"while\" para repetir a impressão do número atual\\nenquanto o valor da variável \"numero\" for maior que zero. A cada iteração do loop, o valor de\\n\"numero\" é decrementado em 1. A contagem regressiva é finalizada quando o valor de \"numero\"\\nalcança zero. '"
      ]
     },
     "execution_count": 6,
     "metadata": {},
     "output_type": "execute_result"
    }
   ],
   "source": [
    "num = int(input(\"Digite um numero\"))\n",
    "\n",
    "while num > 0:\n",
    "    print(num)\n",
    "    num-=1\n",
    "print (\"Fim da contagem \")    \n",
    "\n",
    "'''Neste exemplo, utilizamos o comando \"while\" para repetir a impressão do número atual\n",
    "enquanto o valor da variável \"numero\" for maior que zero. A cada iteração do loop, o valor de\n",
    "\"numero\" é decrementado em 1. A contagem regressiva é finalizada quando o valor de \"numero\"\n",
    "alcança zero. '''"
   ]
  },
  {
   "cell_type": "code",
   "execution_count": 2,
   "id": "dfff5c51",
   "metadata": {},
   "outputs": [
    {
     "name": "stdout",
     "output_type": "stream",
     "text": [
      "84\n",
      "tente um numero maior\n",
      "tente um numero menor\n",
      "Parabéns !Você acertou o numero.\n"
     ]
    }
   ],
   "source": [
    "import random\n",
    "\n",
    "numero_secreto = random.randint(1,100)\n",
    "\n",
    "acertou = False\n",
    "\n",
    "print(numero_secreto)\n",
    "\n",
    "while not acertou:\n",
    "    palpite = int(input('Digite seu palpite: '))\n",
    "    if palpite == numero_secreto:\n",
    "        print('Parabéns !Você acertou o numero.')\n",
    "        acertou = True\n",
    "    elif palpite < numero_secreto:\n",
    "        print('tente um numero maior')\n",
    "    else:\n",
    "        print('tente um numero menor')        \n",
    "        "
   ]
  },
  {
   "cell_type": "code",
   "execution_count": null,
   "id": "37e34911",
   "metadata": {},
   "outputs": [
    {
     "name": "stdout",
     "output_type": "stream",
     "text": [
      "Verificando número: 1\n",
      "Verificando número: 2\n",
      "Verificando número: 3\n",
      "Verificando número: 4\n",
      "Verificando número: 5\n",
      "Verificando número: 6\n",
      "Verificando número: 7\n",
      "Valor encontrado!\n",
      "Fim do loop\n"
     ]
    }
   ],
   "source": [
    "numeros = [1, 2, 3, 4, 5, 6, 7, 8, 9, 10]\n",
    "valor_procurado = 7\n",
    "\n",
    "for numero in numeros:\n",
    "    print(\"Verificando número:\", numero)\n",
    "    if numero == valor_procurado:\n",
    "        print(\"Valor encontrado!\")\n",
    "        break\n",
    "else:\n",
    "    print(\"Valor não encontrado.\")\n",
    "\n",
    "print(\"Fim do loop\")\n",
    "\n",
    "'''Nesse exemplo, temos uma lista de números e queremos procurar por um valor específico.\n",
    "Utilizamos um loop \"for\" para percorrer cada número da lista. Dentro do loop, verificamos se o\n",
    "número é igual ao valor procurado. Se sim, exibimos a mensagem \"Valor encontrado!\" e\n",
    "interrompemos o loop com o \"break\". Caso contrário, exibimos a mensagem \"Verificando\n",
    "número:\" seguida do número atual. Após o loop, exibimos a mensagem \"Fim do loop\".'''\n"
   ]
  },
  {
   "cell_type": "code",
   "execution_count": 8,
   "id": "4ed08bbb",
   "metadata": {},
   "outputs": [
    {
     "name": "stdout",
     "output_type": "stream",
     "text": [
      "Tabuada do 1\n",
      "1 x 1 = 1\n",
      "1 x 2 = 2\n",
      "1 x 3 = 3\n",
      "1 x 4 = 4\n",
      "1 x 5 = 5\n",
      "1 x 6 = 6\n",
      "1 x 7 = 7\n",
      "1 x 8 = 8\n",
      "1 x 9 = 9\n",
      "1 x 10 = 10\n",
      "\n",
      "Tabuada do 2\n",
      "2 x 1 = 2\n",
      "2 x 2 = 4\n",
      "2 x 3 = 6\n",
      "2 x 4 = 8\n",
      "2 x 5 = 10\n",
      "2 x 6 = 12\n",
      "2 x 7 = 14\n",
      "2 x 8 = 16\n",
      "2 x 9 = 18\n",
      "2 x 10 = 20\n",
      "\n",
      "Tabuada do 3\n",
      "3 x 1 = 3\n",
      "3 x 2 = 6\n",
      "3 x 3 = 9\n",
      "3 x 4 = 12\n",
      "3 x 5 = 15\n",
      "3 x 6 = 18\n",
      "3 x 7 = 21\n",
      "3 x 8 = 24\n",
      "3 x 9 = 27\n",
      "3 x 10 = 30\n",
      "\n",
      "Tabuada do 4\n",
      "4 x 1 = 4\n",
      "4 x 2 = 8\n",
      "4 x 3 = 12\n",
      "4 x 4 = 16\n",
      "4 x 5 = 20\n",
      "4 x 6 = 24\n",
      "4 x 7 = 28\n",
      "4 x 8 = 32\n",
      "4 x 9 = 36\n",
      "4 x 10 = 40\n",
      "\n",
      "Tabuada do 5\n",
      "5 x 1 = 5\n",
      "5 x 2 = 10\n",
      "5 x 3 = 15\n",
      "5 x 4 = 20\n",
      "5 x 5 = 25\n",
      "5 x 6 = 30\n",
      "5 x 7 = 35\n",
      "5 x 8 = 40\n",
      "5 x 9 = 45\n",
      "5 x 10 = 50\n",
      "\n",
      "Tabuada do 6\n",
      "6 x 1 = 6\n",
      "6 x 2 = 12\n",
      "6 x 3 = 18\n",
      "6 x 4 = 24\n",
      "6 x 5 = 30\n",
      "6 x 6 = 36\n",
      "6 x 7 = 42\n",
      "6 x 8 = 48\n",
      "6 x 9 = 54\n",
      "6 x 10 = 60\n",
      "\n",
      "Tabuada do 7\n",
      "7 x 1 = 7\n",
      "7 x 2 = 14\n",
      "7 x 3 = 21\n",
      "7 x 4 = 28\n",
      "7 x 5 = 35\n",
      "7 x 6 = 42\n",
      "7 x 7 = 49\n",
      "7 x 8 = 56\n",
      "7 x 9 = 63\n",
      "7 x 10 = 70\n",
      "\n",
      "Tabuada do 8\n",
      "8 x 1 = 8\n",
      "8 x 2 = 16\n",
      "8 x 3 = 24\n",
      "8 x 4 = 32\n",
      "8 x 5 = 40\n",
      "8 x 6 = 48\n",
      "8 x 7 = 56\n",
      "8 x 8 = 64\n",
      "8 x 9 = 72\n",
      "8 x 10 = 80\n",
      "\n",
      "Tabuada do 9\n",
      "9 x 1 = 9\n",
      "9 x 2 = 18\n",
      "9 x 3 = 27\n",
      "9 x 4 = 36\n",
      "9 x 5 = 45\n",
      "9 x 6 = 54\n",
      "9 x 7 = 63\n",
      "9 x 8 = 72\n",
      "9 x 9 = 81\n",
      "9 x 10 = 90\n",
      "\n",
      "Tabuada do 10\n",
      "10 x 1 = 10\n",
      "10 x 2 = 20\n",
      "10 x 3 = 30\n",
      "10 x 4 = 40\n",
      "10 x 5 = 50\n",
      "10 x 6 = 60\n",
      "10 x 7 = 70\n",
      "10 x 8 = 80\n",
      "10 x 9 = 90\n",
      "10 x 10 = 100\n",
      "\n"
     ]
    }
   ],
   "source": [
    "\n",
    "for i in range (1,11):\n",
    "    print(\"Tabuada do\" , i) \n",
    "    for j in range (1,11):\n",
    "        resultado = i * j\n",
    "        print (i,\"x\",j,\"=\", resultado)\n",
    "    print()    \n"
   ]
  }
 ],
 "metadata": {
  "kernelspec": {
   "display_name": "Python 3",
   "language": "python",
   "name": "python3"
  },
  "language_info": {
   "codemirror_mode": {
    "name": "ipython",
    "version": 3
   },
   "file_extension": ".py",
   "mimetype": "text/x-python",
   "name": "python",
   "nbconvert_exporter": "python",
   "pygments_lexer": "ipython3",
   "version": "3.13.2"
  }
 },
 "nbformat": 4,
 "nbformat_minor": 5
}
