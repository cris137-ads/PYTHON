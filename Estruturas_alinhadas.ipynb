{
  "nbformat": 4,
  "nbformat_minor": 0,
  "metadata": {
    "colab": {
      "provenance": [],
      "authorship_tag": "ABX9TyONPejr/ZzEv6c+euxo1R5r",
      "include_colab_link": true
    },
    "kernelspec": {
      "name": "python3",
      "display_name": "Python 3"
    },
    "language_info": {
      "name": "python"
    }
  },
  "cells": [
    {
      "cell_type": "markdown",
      "metadata": {
        "id": "view-in-github",
        "colab_type": "text"
      },
      "source": [
        "<a href=\"https://colab.research.google.com/github/cris137-ads/PYTHON/blob/main/Estruturas_alinhadas.ipynb\" target=\"_parent\"><img src=\"https://colab.research.google.com/assets/colab-badge.svg\" alt=\"Open In Colab\"/></a>"
      ]
    },
    {
      "cell_type": "markdown",
      "source": [
        "# **Seção 4.3 - Estruturas de Repetição Aninhadas**\n",
        "  A repetição aninhada consiste em colocar uma estrutura dentro de outra, permitindo a execução condicional ou repetitiva de blocos de códigos de forma hieráquica.\n",
        "  \n",
        "  O aninhamento de estruturas permite lidar com situações onde é necesssário fazer testes ou repetições mais elaboradas e que envolvam mais condição ou interação.\n",
        "\n",
        "Exemplo 1: Verificação de números primos\n",
        "\n",
        "\n",
        "\n",
        "\n"
      ],
      "metadata": {
        "id": "EPIpgXduilDG"
      }
    },
    {
      "cell_type": "code",
      "source": [
        "numero = int(input(\"Digite um número: \"))\n",
        "\n",
        "# Números menores ou iguais a 1 não são primos\n",
        "if numero > 1:\n",
        "    # Vamos verificar se o número tem algum divisor além de 1 e ele mesmo\n",
        "    for i in range(2, numero):\n",
        "        if numero % i == 0:\n",
        "            print(numero, \"não é um número primo\")\n",
        "            break\n",
        "    else:\n",
        "        # Esse 'else' aqui pertence ao 'for', não ao 'if'!\n",
        "        # Ele só roda se o for terminar sem encontrar divisores\n",
        "        print(numero, \"é um número primo\")\n",
        "else:\n",
        "    print(numero, \"não é um número primo\")\n",
        "\n",
        "\n",
        "\n"
      ],
      "metadata": {
        "colab": {
          "base_uri": "https://localhost:8080/"
        },
        "id": "HsdEJg4VsU-j",
        "outputId": "fa2b7ee3-ef89-4bbb-bd2e-4258fddd0530"
      },
      "execution_count": 12,
      "outputs": [
        {
          "output_type": "stream",
          "name": "stdout",
          "text": [
            "Digite um número: 7\n",
            "7 é um número primo\n"
          ]
        }
      ]
    },
    {
      "cell_type": "code",
      "source": [
        "for i in range (1,11):\n",
        "    print(\"Tabuada do\" , i)\n",
        "    for j in range (1,11):\n",
        "        resultado = i * j\n",
        "        print (i,\"x\",j,\"=\", resultado)\n",
        "    print()"
      ],
      "metadata": {
        "colab": {
          "base_uri": "https://localhost:8080/"
        },
        "id": "9srpUTqFUogn",
        "outputId": "4268cc2b-9b34-4e1b-e600-3d05a6f6f961"
      },
      "execution_count": 17,
      "outputs": [
        {
          "output_type": "stream",
          "name": "stdout",
          "text": [
            "Tabuada do 1\n",
            "1 x 1 = 1\n",
            "1 x 2 = 2\n",
            "1 x 3 = 3\n",
            "1 x 4 = 4\n",
            "1 x 5 = 5\n",
            "1 x 6 = 6\n",
            "1 x 7 = 7\n",
            "1 x 8 = 8\n",
            "1 x 9 = 9\n",
            "1 x 10 = 10\n",
            "\n",
            "Tabuada do 2\n",
            "2 x 1 = 2\n",
            "2 x 2 = 4\n",
            "2 x 3 = 6\n",
            "2 x 4 = 8\n",
            "2 x 5 = 10\n",
            "2 x 6 = 12\n",
            "2 x 7 = 14\n",
            "2 x 8 = 16\n",
            "2 x 9 = 18\n",
            "2 x 10 = 20\n",
            "\n",
            "Tabuada do 3\n",
            "3 x 1 = 3\n",
            "3 x 2 = 6\n",
            "3 x 3 = 9\n",
            "3 x 4 = 12\n",
            "3 x 5 = 15\n",
            "3 x 6 = 18\n",
            "3 x 7 = 21\n",
            "3 x 8 = 24\n",
            "3 x 9 = 27\n",
            "3 x 10 = 30\n",
            "\n",
            "Tabuada do 4\n",
            "4 x 1 = 4\n",
            "4 x 2 = 8\n",
            "4 x 3 = 12\n",
            "4 x 4 = 16\n",
            "4 x 5 = 20\n",
            "4 x 6 = 24\n",
            "4 x 7 = 28\n",
            "4 x 8 = 32\n",
            "4 x 9 = 36\n",
            "4 x 10 = 40\n",
            "\n",
            "Tabuada do 5\n",
            "5 x 1 = 5\n",
            "5 x 2 = 10\n",
            "5 x 3 = 15\n",
            "5 x 4 = 20\n",
            "5 x 5 = 25\n",
            "5 x 6 = 30\n",
            "5 x 7 = 35\n",
            "5 x 8 = 40\n",
            "5 x 9 = 45\n",
            "5 x 10 = 50\n",
            "\n",
            "Tabuada do 6\n",
            "6 x 1 = 6\n",
            "6 x 2 = 12\n",
            "6 x 3 = 18\n",
            "6 x 4 = 24\n",
            "6 x 5 = 30\n",
            "6 x 6 = 36\n",
            "6 x 7 = 42\n",
            "6 x 8 = 48\n",
            "6 x 9 = 54\n",
            "6 x 10 = 60\n",
            "\n",
            "Tabuada do 7\n",
            "7 x 1 = 7\n",
            "7 x 2 = 14\n",
            "7 x 3 = 21\n",
            "7 x 4 = 28\n",
            "7 x 5 = 35\n",
            "7 x 6 = 42\n",
            "7 x 7 = 49\n",
            "7 x 8 = 56\n",
            "7 x 9 = 63\n",
            "7 x 10 = 70\n",
            "\n",
            "Tabuada do 8\n",
            "8 x 1 = 8\n",
            "8 x 2 = 16\n",
            "8 x 3 = 24\n",
            "8 x 4 = 32\n",
            "8 x 5 = 40\n",
            "8 x 6 = 48\n",
            "8 x 7 = 56\n",
            "8 x 8 = 64\n",
            "8 x 9 = 72\n",
            "8 x 10 = 80\n",
            "\n",
            "Tabuada do 9\n",
            "9 x 1 = 9\n",
            "9 x 2 = 18\n",
            "9 x 3 = 27\n",
            "9 x 4 = 36\n",
            "9 x 5 = 45\n",
            "9 x 6 = 54\n",
            "9 x 7 = 63\n",
            "9 x 8 = 72\n",
            "9 x 9 = 81\n",
            "9 x 10 = 90\n",
            "\n",
            "Tabuada do 10\n",
            "10 x 1 = 10\n",
            "10 x 2 = 20\n",
            "10 x 3 = 30\n",
            "10 x 4 = 40\n",
            "10 x 5 = 50\n",
            "10 x 6 = 60\n",
            "10 x 7 = 70\n",
            "10 x 8 = 80\n",
            "10 x 9 = 90\n",
            "10 x 10 = 100\n",
            "\n"
          ]
        }
      ]
    },
    {
      "cell_type": "markdown",
      "source": [
        "Neste exemplo, temos um programa que verifica se um número é primo. Utilizamos uma\n",
        "estrutura condicional \"if\" para verificar se o número é maior que 1. Em seguida, aninhamos um\n",
        "loop \"for\" para percorrer os números de 2 até o número informado. Dentro do loop, utilizamos\n",
        "outra estrutura condicional \"if\" para verificar se o número é divisível por algum valor entre 2 e o\n",
        "número anterior a ele. Se for divisível, sabemos que não é primo e o loop é interrompido com o\n",
        "\"break\". Caso contrário, quando o loop termina sem encontrar divisores, sabemos que é um\n",
        "número primo."
      ],
      "metadata": {
        "id": "ESyzIX0w4gS7"
      }
    }
  ]
}