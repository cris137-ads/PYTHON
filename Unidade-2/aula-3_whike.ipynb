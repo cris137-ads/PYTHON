{
 "cells": [
  {
   "cell_type": "markdown",
   "id": "46391a46",
   "metadata": {},
   "source": [
    "\n",
    "**<h1>LOOP WHILE</h1>**"
   ]
  },
  {
   "cell_type": "code",
   "execution_count": 1,
   "id": "ca634ff3",
   "metadata": {},
   "outputs": [
    {
     "name": "stdout",
     "output_type": "stream",
     "text": [
      "0\n",
      "1\n",
      "2\n",
      "3\n",
      "4\n",
      "5\n",
      "6\n",
      "7\n",
      "8\n",
      "9\n"
     ]
    }
   ],
   "source": [
    "# Usando o loop while para imprimir os valores de 0 a 9.\n",
    "# A condição tem que deixar de ser verdadeira dendro do loop, senão pode travar o navegador ou mesmo o computador \n",
    "valor = 0 \n",
    "while valor < 10:\n",
    "    print (valor)\n",
    "    valor = valor + 1\n"
   ]
  },
  {
   "cell_type": "code",
   "execution_count": 2,
   "id": "7c821ec2",
   "metadata": {},
   "outputs": [],
   "source": [
    "# Entra no loop somente se a condição for verdadeira \n",
    "valor = 11\n",
    "while valor < 10:\n",
    "    print (valor)\n",
    "    valor = valor + 1"
   ]
  },
  {
   "cell_type": "code",
   "execution_count": 3,
   "id": "be41aa25",
   "metadata": {},
   "outputs": [
    {
     "name": "stdout",
     "output_type": "stream",
     "text": [
      "O valor de x nesta iteração é : 0\n",
      " x ainda é menor que 10, soamando 1 a x \n",
      "O valor de x nesta iteração é : 1\n",
      " x ainda é menor que 10, soamando 1 a x \n",
      "O valor de x nesta iteração é : 2\n",
      " x ainda é menor que 10, soamando 1 a x \n",
      "O valor de x nesta iteração é : 3\n",
      " x ainda é menor que 10, soamando 1 a x \n",
      "O valor de x nesta iteração é : 4\n",
      " x ainda é menor que 10, soamando 1 a x \n",
      "O valor de x nesta iteração é : 5\n",
      " x ainda é menor que 10, soamando 1 a x \n",
      "O valor de x nesta iteração é : 6\n",
      " x ainda é menor que 10, soamando 1 a x \n",
      "O valor de x nesta iteração é : 7\n",
      " x ainda é menor que 10, soamando 1 a x \n",
      "O valor de x nesta iteração é : 8\n",
      " x ainda é menor que 10, soamando 1 a x \n",
      "O valor de x nesta iteração é : 9\n",
      " x ainda é menor que 10, soamando 1 a x \n",
      "loop concluido\n",
      "10\n"
     ]
    }
   ],
   "source": [
    "# tambem é possivel usar a claúsula else para encerrar o loop while\n",
    "\n",
    "x = 0\n",
    "while x < 10 :\n",
    "    print ('O valor de x nesta iteração é :' , x)\n",
    "    print (' x ainda é menor que 10, soamando 1 a x ')\n",
    "    x +=1\n",
    "else :\n",
    "    print ('loop concluido')\n",
    "print (x)    "
   ]
  },
  {
   "cell_type": "markdown",
   "id": "987e796d",
   "metadata": {},
   "source": [
    "**<h1>Pass,Break,continue</h1>**"
   ]
  },
  {
   "cell_type": "code",
   "execution_count": 4,
   "id": "624bafb0",
   "metadata": {},
   "outputs": [
    {
     "name": "stdout",
     "output_type": "stream",
     "text": [
      "0\n",
      "1\n",
      "2\n",
      "3\n"
     ]
    }
   ],
   "source": [
    "# se encontramos o numero 4 interrompemos o loop\n",
    "\n",
    "valor = 0\n",
    "while valor < 10:\n",
    "    if valor == 4:\n",
    "        break\n",
    "    else:\n",
    "        pass\n",
    "    print(valor)\n",
    "    valor = valor +1"
   ]
  },
  {
   "cell_type": "code",
   "execution_count": 5,
   "id": "ac4adb0d",
   "metadata": {},
   "outputs": [
    {
     "name": "stdout",
     "output_type": "stream",
     "text": [
      "p\n",
      "y\n",
      "t\n",
      "h\n",
      "o\n",
      "n\n",
      " \n",
      "é\n",
      " \n",
      " \n",
      " \n",
      "i\n",
      "n\n",
      "c\n",
      "r\n",
      "i\n",
      "v\n",
      "e\n",
      "l\n",
      " \n"
     ]
    }
   ],
   "source": [
    "# desconsiderando a letra z ao imprimir os caractere da frase \n",
    "\n",
    "for letra in 'python é zzz  incrivel ':\n",
    "    if letra == \"z\":\n",
    "        continue\n",
    "    print(letra)    "
   ]
  },
  {
   "cell_type": "markdown",
   "id": "693bd829",
   "metadata": {},
   "source": [
    " **<h1>While e for juntos</h1>**\n",
    "\n",
    " Vamos encontrar números primos em uma coleção de numeros usando loop e for juntos .\n",
    "\n",
    " Um numero primo  é um numero naturala maior do que 1 que é divisivel apenas por 1 e por ele mesmo .Isso signfifica que não há nenhum numero inteiro que possa dividir o numero primo sem deixar resto. por exemplo , o numero 2 é primo , pois é divisivel apenas 1 e 2.O número 4 não é primo ,pois é divisivel por ele mesmo .\n",
    "\n",
    "\n",
    " Aqui está o pseudocódigo:\n",
    " Inicialize uma lista vazia para armazenar os numeros primos \n",
    " para cada numero N entre 2 e 30:\n",
    "   se N é divisivel por i, e N/2:\n",
    "      altere a variavel eh_primo para falso\n",
    "      pare de verificar os outros numeros \n",
    "   se    \n",
    "\n",
    "    \n"
   ]
  },
  {
   "cell_type": "code",
   "execution_count": null,
   "id": "1db9e20c",
   "metadata": {},
   "outputs": [],
   "source": []
  },
  {
   "cell_type": "code",
   "execution_count": null,
   "id": "e5693c6d",
   "metadata": {},
   "outputs": [],
   "source": []
  },
  {
   "cell_type": "code",
   "execution_count": 1,
   "id": "ebcb9832",
   "metadata": {},
   "outputs": [
    {
     "ename": "ModuleNotFoundError",
     "evalue": "No module named 'ListaEncadeada'",
     "output_type": "error",
     "traceback": [
      "\u001b[31m---------------------------------------------------------------------------\u001b[39m",
      "\u001b[31mModuleNotFoundError\u001b[39m                       Traceback (most recent call last)",
      "\u001b[36mCell\u001b[39m\u001b[36m \u001b[39m\u001b[32mIn[1]\u001b[39m\u001b[32m, line 1\u001b[39m\n\u001b[32m----> \u001b[39m\u001b[32m1\u001b[39m \u001b[38;5;28;01mimport\u001b[39;00m\u001b[38;5;250m \u001b[39m\u001b[34;01mListaEncadeada\u001b[39;00m\u001b[38;5;250m \u001b[39m\u001b[38;5;28;01mas\u001b[39;00m\u001b[38;5;250m \u001b[39m\u001b[34;01mle\u001b[39;00m \u001b[38;5;66;03m# Cria objeto\u001b[39;00m\n\u001b[32m      2\u001b[39m lista = le.ListaEncadeada()\n\u001b[32m      3\u001b[39m \u001b[38;5;28mprint\u001b[39m(\u001b[33m\"\u001b[39m\u001b[33mConteúdo da lista :\u001b[39m\u001b[33m\"\u001b[39m,lista) \u001b[38;5;66;03m# A lista está vazia\u001b[39;00m\n",
      "\u001b[31mModuleNotFoundError\u001b[39m: No module named 'ListaEncadeada'"
     ]
    }
   ],
   "source": [
    "import ListaEncadeada as le # Cria objeto\n",
    "lista = le.ListaEncadeada()\n",
    "print(\"Conteúdo da lista :\",lista) # A lista está vazia"
   ]
  }
 ],
 "metadata": {
  "kernelspec": {
   "display_name": "Python 3",
   "language": "python",
   "name": "python3"
  },
  "language_info": {
   "codemirror_mode": {
    "name": "ipython",
    "version": 3
   },
   "file_extension": ".py",
   "mimetype": "text/x-python",
   "name": "python",
   "nbconvert_exporter": "python",
   "pygments_lexer": "ipython3",
   "version": "3.13.2"
  }
 },
 "nbformat": 4,
 "nbformat_minor": 5
}
