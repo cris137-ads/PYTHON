{
 "cells": [
  {
   "cell_type": "markdown",
   "id": "a279bc09",
   "metadata": {},
   "source": [
    "**Condicional IF**"
   ]
  },
  {
   "cell_type": "code",
   "execution_count": 2,
   "id": "8ca18489",
   "metadata": {},
   "outputs": [
    {
     "name": "stdout",
     "output_type": "stream",
     "text": [
      "A setença é verdadeira\n"
     ]
    }
   ],
   "source": [
    "# Condicional if\n",
    "if 5  >2 :\n",
    "    print ('A setença é verdadeira')"
   ]
  },
  {
   "cell_type": "code",
   "execution_count": 3,
   "id": "479b3ed7",
   "metadata": {},
   "outputs": [
    {
     "name": "stdout",
     "output_type": "stream",
     "text": [
      "A sentença é falsa\n"
     ]
    }
   ],
   "source": [
    "# Condicional if ...Else\n",
    "if 5< 2:\n",
    "    print ('A setença é verdadeira !')\n",
    "else:\n",
    "    print('A sentença é falsa')    "
   ]
  },
  {
   "cell_type": "code",
   "execution_count": 4,
   "id": "a3f95085",
   "metadata": {},
   "outputs": [
    {
     "name": "stdout",
     "output_type": "stream",
     "text": [
      "Hoje vai chover\n"
     ]
    }
   ],
   "source": [
    "# Condicional if ... Else com vairiavel\n",
    "\n",
    "dia = 'terça'\n",
    "if dia == 'segunda ':\n",
    "    print == ('Hoje fará sol')\n",
    "else:\n",
    "    print('Hoje vai chover')    "
   ]
  },
  {
   "cell_type": "code",
   "execution_count": 5,
   "id": "7ac2b618",
   "metadata": {},
   "outputs": [
    {
     "name": "stdout",
     "output_type": "stream",
     "text": [
      "vai chover \n"
     ]
    }
   ],
   "source": [
    "# Podemos usar o operador elif para validar mais de uma condição \n",
    "if dia == 'segunda ':\n",
    "    print ('hoje fará sol !')\n",
    "elif dia== 'terça':\n",
    "    print ('vai chover ') \n",
    "else:\n",
    "    print ('sem previsão do tempo para o dia selecionado')       \n"
   ]
  },
  {
   "cell_type": "markdown",
   "id": "53004fc7",
   "metadata": {},
   "source": [
    "**Operadores relacionais**\n",
    "\n",
    "Retornam um valor Boleano (Falso ou verdadeiro)\n"
   ]
  },
  {
   "cell_type": "code",
   "execution_count": 6,
   "id": "b8455b36",
   "metadata": {},
   "outputs": [
    {
     "data": {
      "text/plain": [
       "True"
      ]
     },
     "execution_count": 6,
     "metadata": {},
     "output_type": "execute_result"
    }
   ],
   "source": [
    "6 > 3"
   ]
  },
  {
   "cell_type": "code",
   "execution_count": 7,
   "id": "9756a4be",
   "metadata": {},
   "outputs": [
    {
     "data": {
      "text/plain": [
       "False"
      ]
     },
     "execution_count": 7,
     "metadata": {},
     "output_type": "execute_result"
    }
   ],
   "source": [
    "3 > 7"
   ]
  },
  {
   "cell_type": "code",
   "execution_count": 8,
   "id": "b77a9906",
   "metadata": {},
   "outputs": [
    {
     "data": {
      "text/plain": [
       "True"
      ]
     },
     "execution_count": 8,
     "metadata": {},
     "output_type": "execute_result"
    }
   ],
   "source": [
    "4 < 8"
   ]
  },
  {
   "cell_type": "code",
   "execution_count": 9,
   "id": "b6ce3764",
   "metadata": {},
   "outputs": [
    {
     "data": {
      "text/plain": [
       "True"
      ]
     },
     "execution_count": 9,
     "metadata": {},
     "output_type": "execute_result"
    }
   ],
   "source": [
    "4 >= 4"
   ]
  },
  {
   "cell_type": "code",
   "execution_count": 10,
   "id": "f8d242f3",
   "metadata": {},
   "outputs": [
    {
     "name": "stdout",
     "output_type": "stream",
     "text": [
      "Testando python\n"
     ]
    }
   ],
   "source": [
    "if 5 == 5:\n",
    "    print ('Testando python')"
   ]
  },
  {
   "cell_type": "code",
   "execution_count": 11,
   "id": "7e96ad80",
   "metadata": {},
   "outputs": [
    {
     "name": "stdout",
     "output_type": "stream",
     "text": [
      "parece que python funciona\"\n"
     ]
    }
   ],
   "source": [
    "if True:\n",
    "    print ('parece que python funciona\"')"
   ]
  },
  {
   "cell_type": "code",
   "execution_count": 12,
   "id": "398b86ad",
   "metadata": {},
   "outputs": [
    {
     "ename": "SyntaxError",
     "evalue": "expected ':' (3009560937.py, line 2)",
     "output_type": "error",
     "traceback": [
      "  \u001b[36mCell\u001b[39m\u001b[36m \u001b[39m\u001b[32mIn[12]\u001b[39m\u001b[32m, line 2\u001b[39m\n\u001b[31m    \u001b[39m\u001b[31mif 4 > 3\u001b[39m\n            ^\n\u001b[31mSyntaxError\u001b[39m\u001b[31m:\u001b[39m expected ':'\n"
     ]
    }
   ],
   "source": [
    "# Atenção com a sintaxe\n",
    "if 4 > 3\n",
    "    print ('tudo funciona')"
   ]
  },
  {
   "cell_type": "code",
   "execution_count": null,
   "id": "c7d71eaa",
   "metadata": {},
   "outputs": [
    {
     "name": "stdout",
     "output_type": "stream",
     "text": [
      "tudo funciona\n"
     ]
    }
   ],
   "source": [
    "# Atenção com a sintaxe\n",
    "if 4 > 3:\n",
    "    print ('tudo funciona')"
   ]
  },
  {
   "cell_type": "markdown",
   "id": "a8238552",
   "metadata": {},
   "source": [
    "**--> Fique atento aos espaços entre a margem e cada um dos seus comandos .A indentação faz faz parte da sintaxe da linguagem.**"
   ]
  },
  {
   "cell_type": "markdown",
   "id": "b8899bb2",
   "metadata": {},
   "source": []
  },
  {
   "cell_type": "markdown",
   "id": "ecdb3f6a",
   "metadata": {},
   "source": [
    "**Condicionais Aninhadas**"
   ]
  },
  {
   "cell_type": "code",
   "execution_count": null,
   "id": "4a48d71a",
   "metadata": {},
   "outputs": [
    {
     "name": "stdout",
     "output_type": "stream",
     "text": [
      "Você pode dirigir!\n"
     ]
    }
   ],
   "source": [
    "idade = 18\n",
    "if idade > 17:\n",
    "    print('Você pode dirigir!')"
   ]
  },
  {
   "cell_type": "code",
   "execution_count": null,
   "id": "be88387b",
   "metadata": {},
   "outputs": [
    {
     "name": "stdout",
     "output_type": "stream",
     "text": [
      "Ok bob você está autorizado a entrar \n"
     ]
    }
   ],
   "source": [
    "nome = 'bob'\n",
    "if idade > 13:\n",
    "    if nome =='bob':\n",
    "        print(\"Ok bob você está autorizado a entrar \")\n",
    "    else:\n",
    "        print('Desculpe , mas você não pode entrar !')    "
   ]
  },
  {
   "cell_type": "code",
   "execution_count": null,
   "id": "b368f847",
   "metadata": {},
   "outputs": [
    {
     "name": "stdout",
     "output_type": "stream",
     "text": [
      "Ok bob, você está autorizado a entrar !\n"
     ]
    }
   ],
   "source": [
    "idade = 13\n",
    "nome = 'bob'\n",
    "if idade >= 13 and nome == 'bob':\n",
    "    print('Ok bob, você está autorizado a entrar !')\n",
    "\n",
    "    "
   ]
  },
  {
   "cell_type": "code",
   "execution_count": null,
   "id": "6afe327c",
   "metadata": {},
   "outputs": [
    {
     "name": "stdout",
     "output_type": "stream",
     "text": [
      "ok bob, você está autorizado a entrar!\n"
     ]
    }
   ],
   "source": [
    "idade = 12\n",
    "nome = 'bob'\n",
    "if( idade >= 13 ) or ( nome == 'bob'):\n",
    "    print('ok bob, você está autorizado a entrar!')\n"
   ]
  },
  {
   "cell_type": "markdown",
   "id": "131509a8",
   "metadata": {},
   "source": [
    "**Operadores Lógicos**\n",
    "\n",
    "- Operadores **and**- Retorna TRUE se ambas as declarações forem verdadeiras.\n",
    "- Operadores **or** - Retorna TRUE se uma Das declarações for verdadeira.\n",
    "- Operadores **not** - Inverte o resultado, retorna false se o resultado for true"
   ]
  },
  {
   "cell_type": "code",
   "execution_count": null,
   "id": "07a61f70",
   "metadata": {},
   "outputs": [
    {
     "name": "stdout",
     "output_type": "stream",
     "text": [
      "Isso esta sendo impresso por que as duas condições são verdadeiras!\n"
     ]
    }
   ],
   "source": [
    "# Operador and\n",
    "\n",
    "numero = 4\n",
    "\n",
    "if (numero > 2) and (numero % 2 ==0) :\n",
    "    print('Isso esta sendo impresso por que as duas condições são verdadeiras!')"
   ]
  },
  {
   "cell_type": "code",
   "execution_count": null,
   "id": "094ea708",
   "metadata": {},
   "outputs": [
    {
     "name": "stdout",
     "output_type": "stream",
     "text": [
      "Isso está sendo impresso porque uma das duas condições é falsa\n"
     ]
    }
   ],
   "source": [
    "# Operador and\n",
    "\n",
    "numero = 4\n",
    "\n",
    "if (numero >5) and (numero %2 ==0) :\n",
    "    print ('Isso está sendo impresso porque as duas condições são verdadeiras')\n",
    "else:\n",
    "    print ('Isso está sendo impresso porque uma das duas condições é falsa')    "
   ]
  },
  {
   "cell_type": "code",
   "execution_count": null,
   "id": "a94c775c",
   "metadata": {},
   "outputs": [
    {
     "name": "stdout",
     "output_type": "stream",
     "text": [
      "Isso está sendo impresso porque uma das condições é verdadeira!\n"
     ]
    }
   ],
   "source": [
    "# Operador not\n",
    "\n",
    "numero = 4\n",
    "\n",
    "if not (numero > 5) or (numero % 2 ==0):\n",
    "    print ('Isso está sendo impresso porque uma das condições é verdadeira!')\n",
    "    "
   ]
  },
  {
   "cell_type": "code",
   "execution_count": null,
   "id": "15511462",
   "metadata": {},
   "outputs": [
    {
     "name": "stdout",
     "output_type": "stream",
     "text": [
      "Isso está sendo impresso por que as duas condições são verdadeiras !\n"
     ]
    }
   ],
   "source": [
    "# operador not\n",
    "\n",
    "numero = 4\n",
    "\n",
    "if not (numero >5) and (numero %  2 == 0):\n",
    "    print('Isso está sendo impresso por que as duas condições são verdadeiras !')\n",
    "else:\n",
    "    print(\"Isso esta sendo impresso por que uma das condições é falsa\")    \n"
   ]
  },
  {
   "cell_type": "code",
   "execution_count": 14,
   "id": "48f31b57",
   "metadata": {},
   "outputs": [
    {
     "name": "stdout",
     "output_type": "stream",
     "text": [
      "Isso está sendo impresso porque as duas primeiras são verdadiras ou a terceira é verdadeira \n"
     ]
    }
   ],
   "source": [
    "# Operador not\n",
    "numero =4\n",
    "if not (numero >5) and (numero % 2 == 0) or (numero ==4):\n",
    "    print('Isso está sendo impresso porque as duas primeiras são verdadiras ou a terceira é verdadeira ')\n",
    "    \n",
    "    "
   ]
  },
  {
   "cell_type": "code",
   "execution_count": 15,
   "id": "196dffca",
   "metadata": {},
   "outputs": [
    {
     "name": "stdout",
     "output_type": "stream",
     "text": [
      "Você foi aprovado\n"
     ]
    }
   ],
   "source": [
    "# Exemplo com o uso de variavel \n",
    "\n",
    "disciplina = 'Data Sciencie'\n",
    "nota_final = 70\n",
    "\n",
    "if disciplina == 'Data Sciencie' and nota_final >= 70:\n",
    "    print('Você foi aprovado')\n",
    "else:\n",
    "    print('Lamento,acho que você precisa estudar mais ')    \n"
   ]
  },
  {
   "cell_type": "code",
   "execution_count": 16,
   "id": "1b86d110",
   "metadata": {},
   "outputs": [
    {
     "name": "stdout",
     "output_type": "stream",
     "text": [
      "Lamento,acho que você precisa estudar mais \n"
     ]
    }
   ],
   "source": [
    "# Usando mais de uma condição na cláusula if\n",
    "\n",
    "disciplina = 'Data Sciencie'\n",
    "nota_final = 60\n",
    "\n",
    "if disciplina == 'Data Sciencie' and nota_final >= 70:\n",
    "    print('Você foi aprovado')\n",
    "else:\n",
    "    print('Lamento,acho que você precisa estudar mais ')    \n"
   ]
  },
  {
   "cell_type": "code",
   "execution_count": 18,
   "id": "845bf430",
   "metadata": {},
   "outputs": [
    {
     "name": "stdout",
     "output_type": "stream",
     "text": [
      "Você foi aprovado em data sciencie com a média final 90!\n"
     ]
    }
   ],
   "source": [
    "# usando mais de uma condição na cláusula if introduzindo placeholders\n",
    "\n",
    "disciplina = 'data sciencie'\n",
    "nota_final = 90\n",
    "semestre = 2\n",
    "\n",
    "if disciplina == 'data sciencie' and nota_final >=80 and semestre !=1:\n",
    "    print('Você foi aprovado em %s com a média final %r!'%(disciplina,nota_final))\n",
    "else:\n",
    "    ('lamento, acho que você precisa estudar mais')    "
   ]
  }
 ],
 "metadata": {
  "kernelspec": {
   "display_name": "Python 3",
   "language": "python",
   "name": "python3"
  },
  "language_info": {
   "codemirror_mode": {
    "name": "ipython",
    "version": 3
   },
   "file_extension": ".py",
   "mimetype": "text/x-python",
   "name": "python",
   "nbconvert_exporter": "python",
   "pygments_lexer": "ipython3",
   "version": "3.13.2"
  }
 },
 "nbformat": 4,
 "nbformat_minor": 5
}
