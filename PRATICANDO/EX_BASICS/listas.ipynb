{
 "cells": [
  {
   "cell_type": "code",
   "execution_count": 1,
   "id": "10e94879",
   "metadata": {},
   "outputs": [
    {
     "name": "stdout",
     "output_type": "stream",
     "text": [
      "[1, 2, 3, 4, 5]\n"
     ]
    }
   ],
   "source": [
    "# 1. Crie uma lista com 5 números inteiros e imprima todos os elementos.\n",
    "numeros = [1,2,3,4,5]\n",
    "print (numeros)"
   ]
  },
  {
   "cell_type": "code",
   "execution_count": 5,
   "id": "e3f85ae2",
   "metadata": {},
   "outputs": [
    {
     "name": "stdout",
     "output_type": "stream",
     "text": [
      "banana\n"
     ]
    }
   ],
   "source": [
    "#2. Crie uma lista com os nomes de 4 frutas e imprima a segunda fruta.\n",
    "frutas = ['maça','banana','limão','goiada']\n",
    "print(frutas[1])"
   ]
  },
  {
   "cell_type": "code",
   "execution_count": 7,
   "id": "fc1795d5",
   "metadata": {},
   "outputs": [
    {
     "name": "stdout",
     "output_type": "stream",
     "text": [
      "['Isaias', 'Daniel', 'Jeremias', 'Ezequiel']\n"
     ]
    }
   ],
   "source": [
    "# 3. Adicione um elemento ao final de uma lista usando append().\n",
    "profetas = ['Isaias','Daniel','Jeremias']\n",
    "profetas.append('Ezequiel')\n",
    "print(profetas)"
   ]
  },
  {
   "cell_type": "code",
   "execution_count": 8,
   "id": "7f5bb61a",
   "metadata": {},
   "outputs": [
    {
     "name": "stdout",
     "output_type": "stream",
     "text": [
      "[155, 255, 700, 745, 955]\n"
     ]
    }
   ],
   "source": [
    "# 4. Insira um elemento na segunda posição de uma lista usando insert().\n",
    "codigos = [155,700,745,955]\n",
    "codigos.insert(1,255)\n",
    "print(codigos)"
   ]
  },
  {
   "cell_type": "code",
   "execution_count": 13,
   "id": "19da2089",
   "metadata": {},
   "outputs": [
    {
     "name": "stdout",
     "output_type": "stream",
     "text": [
      "Elemento removido 955\n",
      "[155, 700, 745]\n"
     ]
    }
   ],
   "source": [
    "#5. Remova o último elemento de uma lista usando pop().\n",
    "codigos_2 =[155,700,745,955]\n",
    "removendo_elemento= codigos_2.pop()\n",
    "print (f'Elemento removido {Removendo_elemento}')\n",
    "print (codigos_2)"
   ]
  },
  {
   "cell_type": "code",
   "execution_count": 2,
   "id": "430c8253",
   "metadata": {},
   "outputs": [
    {
     "name": "stdout",
     "output_type": "stream",
     "text": [
      "[700, 745, 955]\n"
     ]
    }
   ],
   "source": [
    "# 6. Remova um elemento específico de uma lista usando remove().\n",
    "codigos_3 =[155,700,745,955]\n",
    "removendo_cod = codigos_3.remove(155)\n",
    "print (codigos_3)\n"
   ]
  },
  {
   "cell_type": "code",
   "execution_count": 4,
   "id": "f6f76e28",
   "metadata": {},
   "outputs": [
    {
     "name": "stdout",
     "output_type": "stream",
     "text": [
      "['alegria ', 'felicidade', 'amor']\n"
     ]
    }
   ],
   "source": [
    "#7. Inverta a ordem dos elementos de uma lista usando reverse().\n",
    "desejos = ['amor','felicidade','alegria ']\n",
    "desejos.reverse()\n",
    "print (desejos)"
   ]
  },
  {
   "cell_type": "code",
   "execution_count": null,
   "id": "9f0c8c9c",
   "metadata": {},
   "outputs": [
    {
     "name": "stdout",
     "output_type": "stream",
     "text": [
      "[-2013, 1914, 2008, 2025]\n"
     ]
    }
   ],
   "source": [
    "# 8.Ordene uma lista de números em ordem crescente usando sort().\n",
    "anos = [2025,1914,-2013,2008]\n",
    "anos.sort()\n",
    "print(anos)"
   ]
  },
  {
   "cell_type": "code",
   "execution_count": 6,
   "id": "d09c0a6d",
   "metadata": {},
   "outputs": [
    {
     "name": "stdout",
     "output_type": "stream",
     "text": [
      "['Andreia', 'Cristiano', 'José']\n"
     ]
    }
   ],
   "source": [
    "#9. Ordene uma lista de strings em ordem alfabética.\n",
    "alunos = ['Andreia', 'Cristiano', 'José',]\n",
    "alunos.sort()\n",
    "print(alunos)"
   ]
  },
  {
   "cell_type": "code",
   "execution_count": null,
   "id": "25e042a2",
   "metadata": {},
   "outputs": [
    {
     "data": {
      "text/plain": [
       "2"
      ]
     },
     "execution_count": 8,
     "metadata": {},
     "output_type": "execute_result"
    }
   ],
   "source": [
    "#10 Conte quantas vezes um valor aparece na lista usando count().\n",
    "num = [25,55,10,55]\n",
    "num.count(55)\n",
    "print(num)"
   ]
  },
  {
   "cell_type": "code",
   "execution_count": 11,
   "id": "7172a233",
   "metadata": {},
   "outputs": [
    {
     "name": "stdout",
     "output_type": "stream",
     "text": [
      "Ferrai está na lista \n"
     ]
    }
   ],
   "source": [
    "#11. Verifique se um elemento está presente na lista usando o operador in.\n",
    "carro = ['uno','f10','ferrai']\n",
    "\n",
    "if 'ferrai' in carro:\n",
    "    print( 'Ferrai está na lista ')\n",
    "else:\n",
    "    print('ferrai não está na lista ')    "
   ]
  },
  {
   "cell_type": "code",
   "execution_count": null,
   "id": "6f0c2fac",
   "metadata": {},
   "outputs": [
    {
     "name": "stdout",
     "output_type": "stream",
     "text": [
      "[1, 3, 4, 6, 8]\n"
     ]
    }
   ],
   "source": [
    "# 12. Faça um programa que leia 5 números e armazene-os em uma lista.\n",
    "\n",
    "list_number= []\n",
    "for i in range (5):\n",
    "    number= int(input(f'Digite o{i+1} numero '))\n",
    "    list_number.append(number)\n",
    "\n",
    "\n",
    "print (list_number)\n",
    "\n",
    "# Explicação:\n",
    "#numeros = []: Cria uma lista vazia chamada numeros.\n",
    "#for i in range(5):: Cria um loop que se repetirá 5 vezes (de 0 a 4).\n",
    "#numero = int(input(f\"Digite o {i+1}º número: \")):\n",
    "#input(): Solicita que o usuário digite um número no console.\n",
    "#int(): Converte o valor digitado (que é uma string) para um número inteiro.\n",
    "#f\"Digite o {i+1}º número: \" (f-string): Mostra ao usuário qual número está sendo solicitado (1º, 2º, etc.).\n",
    "#numeros.\n",
    "# append(numero): Adiciona o número lido à lista numeros.\n",
    "#print(\"A lista de números digitados é:\", numeros): Imprime a lista com os números digitados (opcional)."
   ]
  },
  {
   "cell_type": "code",
   "execution_count": 7,
   "id": "ced02d6b",
   "metadata": {},
   "outputs": [
    {
     "name": "stdout",
     "output_type": "stream",
     "text": [
      "15\n"
     ]
    }
   ],
   "source": [
    "# 13. Some todos os valores de uma lista de inteiros.\n",
    "soma_list= [1,2,3,4,5]\n",
    "soma= sum(soma_list)\n",
    "print (soma)\n"
   ]
  },
  {
   "cell_type": "code",
   "execution_count": 8,
   "id": "ca83ee1c",
   "metadata": {},
   "outputs": [
    {
     "name": "stdout",
     "output_type": "stream",
     "text": [
      "O maior valor é 120 e o menor valor é 5\n"
     ]
    }
   ],
   "source": [
    "# 14. Encontre o maior e o menor valor de uma lista de inteiros.\n",
    "\n",
    "list_int = [10,30,50,120,5]\n",
    "maior_valor =max(list_int)\n",
    "menor_valor = min(list_int)\n",
    "\n",
    "print(f'O maior valor é {maior_valor} e o menor valor é {menor_valor}')"
   ]
  },
  {
   "cell_type": "code",
   "execution_count": 12,
   "id": "9878df1f",
   "metadata": {},
   "outputs": [
    {
     "name": "stdout",
     "output_type": "stream",
     "text": [
      "N°s pares [36, 98, 100] e  N°s impares [25, 97, 55]\n"
     ]
    }
   ],
   "source": [
    "#15. Crie uma nova lista contendo apenas os números pares de uma lista original.\n",
    "\n",
    "lista_numeros = [25, 36, 97, 98, 55, 100]\n",
    "lista_pares = [num for num in lista_numeros if num % 2 == 0]\n",
    "impares = [num for num in lista_numeros if num % 2 != 0]\n",
    "print(f'N°s pares {lista_pares} e  N°s impares {impares}')"
   ]
  },
  {
   "cell_type": "code",
   "execution_count": null,
   "id": "59c5df65",
   "metadata": {},
   "outputs": [
    {
     "name": "stdout",
     "output_type": "stream",
     "text": [
      "Lista com nomes que começam com a letra A:['Andreia']\n"
     ]
    }
   ],
   "source": [
    "#16. Dada uma lista de nomes, crie uma nova lista com os nomes que começam com a letra 'A'.\n",
    "lista_Nomes = ['Andreia', 'Cristiano', 'José', 'Raphael','Elisangela']\n",
    "\n",
    "lista_a = [nome for nome in lista_Nomes if nome.startswith ('A')]\n",
    "print(f'Lista com nomes que começam com a letra A:{lista_a}')"
   ]
  },
  {
   "cell_type": "code",
   "execution_count": 16,
   "id": "b112e76a",
   "metadata": {},
   "outputs": [
    {
     "name": "stdout",
     "output_type": "stream",
     "text": [
      "pares [10, 24, 30]\n"
     ]
    }
   ],
   "source": [
    "#17. Crie uma lista com 10 números e imprima apenas os elementos nas posições pares.\n",
    "lista = [10,25,24,30,55]\n",
    "lista_pares = [num for num in lista if num % 2 == 0]\n",
    "print (f'pares {lista_pares}')\n",
    "\n"
   ]
  },
  {
   "cell_type": "code",
   "execution_count": 19,
   "id": "51b21500",
   "metadata": {},
   "outputs": [
    {
     "name": "stdout",
     "output_type": "stream",
     "text": [
      "A media dos numeros 3.00\n"
     ]
    }
   ],
   "source": [
    "#18. Faça uma função que receba uma lista de números e retorne a média deles\n",
    "soma_list= [1,2,3,4,5]\n",
    "soma= sum(soma_list)\n",
    "quantidade = len(soma_list)\n",
    "media =soma/quantidade\n",
    "print(f'A media dos numeros {media:.2f}')"
   ]
  },
  {
   "cell_type": "code",
   "execution_count": 20,
   "id": "53933427",
   "metadata": {},
   "outputs": [
    {
     "name": "stdout",
     "output_type": "stream",
     "text": [
      "listas unidas:[1, 2, 3, 4, 5, 6]\n"
     ]
    }
   ],
   "source": [
    "\"19. Junte duas listas usando o operador +.\"\n",
    "lista1= [1,2,3]\n",
    "lista2= [4,5,6]\n",
    "lista_complet = lista1 + lista2\n",
    "print(f'listas unidas:{lista_complet}')"
   ]
  },
  {
   "cell_type": "code",
   "execution_count": null,
   "id": "48f312dc",
   "metadata": {},
   "outputs": [],
   "source": [
    "#20. Multiplique os elementos de uma lista por 2 usando list comprehension.\n"
   ]
  }
 ],
 "metadata": {
  "kernelspec": {
   "display_name": "Python 3",
   "language": "python",
   "name": "python3"
  },
  "language_info": {
   "codemirror_mode": {
    "name": "ipython",
    "version": 3
   },
   "file_extension": ".py",
   "mimetype": "text/x-python",
   "name": "python",
   "nbconvert_exporter": "python",
   "pygments_lexer": "ipython3",
   "version": "3.13.2"
  }
 },
 "nbformat": 4,
 "nbformat_minor": 5
}
