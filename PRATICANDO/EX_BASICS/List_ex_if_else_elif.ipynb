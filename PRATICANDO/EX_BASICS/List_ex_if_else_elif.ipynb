{
 "cells": [
  {
   "cell_type": "markdown",
   "id": "a93efdbe-72cf-46ee-9cf4-f90516267811",
   "metadata": {},
   "source": [
    "# Exercícios: estrutura if_elif_else\n",
    "Lista de exercícios de estruturas condicionais :IF. ELSE e elif\n",
    "treinamento de logica !"
   ]
  },
  {
   "cell_type": "markdown",
   "id": "65d36a3c-0b36-4833-92da-b2eacea1ea80",
   "metadata": {},
   "source": [
    "1. Faça um programa que receba dois números e mostre qual deles è o maior."
   ]
  },
  {
   "cell_type": "code",
   "execution_count": null,
   "id": "725380e7-f421-4c8c-9358-39e244e1229d",
   "metadata": {},
   "outputs": [],
   "source": [
    "Primeiro_valor = int(input('Informe o primeiro valor :'))\n",
    "segundo_valor = int(input('Informe o segundo  valor :'))\n",
    "\n",
    "maior=0\n",
    "\n",
    "if Primeiro_valor > segundo_valor:\n",
    "    maior= Primeiro_valor\n",
    "    print (f'O primeiro valor = {Primeiro_valor} é maior do que o segunndo valor = {segundo_valor}')\n",
    "elif segundo_valor > Primeiro_valor:\n",
    "    maior= segundo_valor\n",
    "    print (f'O segundo valor  = {segundo_valor} é maior do que o primeiro  valor = {Primeiro_valor}')\n",
    "else:\n",
    "\n",
    "   print (f'O primeiro valor {Primeiro_valor} é igual ao segundo valor {segundo_valor}')"
   ]
  },
  {
   "cell_type": "markdown",
   "id": "d0f73185",
   "metadata": {},
   "source": [
    "2. Leia um numero fornecido pelo usuário . Se o numero for positivo , calcule a raiz quadrada do numero . Se o numero for negativo , mostre a mensagem dizendo que o numero é inválido ."
   ]
  },
  {
   "cell_type": "code",
   "execution_count": null,
   "id": "55357930",
   "metadata": {},
   "outputs": [],
   "source": [
    "import math\n",
    "\n",
    "numero = int(input('Digite um numero: '))\n",
    "\n",
    "\n",
    "if numero > 0:\n",
    "    raiz_quadrada = math.sqrt (numero)\n",
    "    print (f'Raiz quandrada do numero {numero} é {raiz_quadrada}')\n",
    "else:\n",
    "    numero<=0 \n",
    "    print (f'o numero {numero} Invalido!') \n",
    "    \n"
   ]
  },
  {
   "cell_type": "markdown",
   "id": "aa694b26",
   "metadata": {},
   "source": [
    "3.Leia um numero real. Se  o numero  for positivo  imprima a raiz quadrada . Do contrário, imprima o quadarado ."
   ]
  },
  {
   "cell_type": "code",
   "execution_count": null,
   "id": "1329ac16",
   "metadata": {},
   "outputs": [],
   "source": [
    "import math\n",
    "num = float(input('digite um numero'))\n",
    "\n",
    "if num > 0:\n",
    "    raizQ= math.sqrt(num)\n",
    "    print(f'raiz quadrada de {num} é {raizQ}')\n",
    "else: quad= math.pow (num,2)\n",
    "print(f'o quadrado de {num} é {quad}') \n",
    "\n"
   ]
  },
  {
   "cell_type": "markdown",
   "id": "3eefba05",
   "metadata": {},
   "source": [
    "4.Faça um programa que leia um numero  e caso ele veja positivo ,calcule e mostre: </br>\n",
    "* O número digitado ao quaradado </br>\n",
    "* A raiz quadrada do numero \n"
   ]
  },
  {
   "cell_type": "code",
   "execution_count": null,
   "id": "67095b69",
   "metadata": {},
   "outputs": [],
   "source": [
    "import math\n",
    "num = float(input('digite um numero'))\n",
    "\n",
    "if num > 0:\n",
    "    raizQ= math.sqrt(num)\n",
    "    quad= math.pow (num,2)\n",
    "    print(f'raiz quadrada : {raizQ:.2f} e o quadrado: {quad:.2f}')\n",
    "else: \n",
    "    print('O número deve ser positivo para calcular a raiz quadrada.')\n",
    "\n"
   ]
  },
  {
   "cell_type": "markdown",
   "id": "c7f837af",
   "metadata": {},
   "source": []
  },
  {
   "cell_type": "markdown",
   "id": "70f7fa77",
   "metadata": {},
   "source": [
    "5.Faça um programa que receba um numwero inteiro e verifique se este numero  é par ou impar ."
   ]
  },
  {
   "cell_type": "code",
   "execution_count": null,
   "id": "8c6c2bce",
   "metadata": {},
   "outputs": [],
   "source": [
    "num = float(input('digite um numero'))\n",
    "          \n",
    "if num %2 == 0:\n",
    "     print (f'O numero {num} é par !') \n",
    "else:\n",
    "     print(f'O numero {num} é impar!')\n",
    "     \n",
    "\n",
    "          "
   ]
  },
  {
   "cell_type": "markdown",
   "id": "e80b80e9",
   "metadata": {},
   "source": [
    "6. Escreva um programa que  dados dois numeros inteiros , mostre na tela o maior deles, assim como  a diferança entre ambos "
   ]
  },
  {
   "cell_type": "code",
   "execution_count": null,
   "id": "97b1b8ed",
   "metadata": {},
   "outputs": [],
   "source": [
    "num_1= int (input('Digite um numero :'))\n",
    "num_2= int (input('Digite um numero :'))\n",
    "\n",
    "maior =0\n",
    "diferenca = 0\n",
    "if num_1>num_2:\n",
    "    maior = num_1\n",
    "    diferenca = num_1-num_2\n",
    "    print(f'Numero  {num_1} é maior que o numero {num_2 } e a difernça entre eles é {diferenca}')\n",
    "else:\n",
    "    maior = num_2\n",
    "    diferanca = num_2 - num_1\n",
    "    print(f'Numero  {num_2} é maior que o numero {num_1 } e a difernça entre eles é {diferenca}')\n",
    "\n",
    "\n"
   ]
  },
  {
   "cell_type": "markdown",
   "id": "955e51d2",
   "metadata": {},
   "source": [
    "7. Faça um programa que receba dois numeros e mostre o maior . Se por acaso , os dois forem iguais ,imprima a mensagem  \"numeros iguais \"."
   ]
  },
  {
   "cell_type": "code",
   "execution_count": null,
   "id": "40df8fb6",
   "metadata": {},
   "outputs": [],
   "source": [
    "Primeiro_valor = int(input('Informe o primeiro valor :'))\n",
    "segundo_valor = int(input('Informe o segundo  valor :'))\n",
    "\n",
    "maior=0\n",
    "\n",
    "if Primeiro_valor > segundo_valor:\n",
    "    maior= Primeiro_valor\n",
    "    print (f'O primeiro valor = {Primeiro_valor} é maior do que o segunndo valor = {segundo_valor}')\n",
    "elif segundo_valor > Primeiro_valor:\n",
    "    maior= segundo_valor\n",
    "    print (f'O segundo valor  = {segundo_valor} é maior do que o primeiro  valor = {Primeiro_valor}')\n",
    "else:\n",
    "\n",
    "   print (f'NUMEROS IGUAIS!!!')"
   ]
  },
  {
   "cell_type": "markdown",
   "id": "64b706b7",
   "metadata": {},
   "source": [
    "8.Faça um programa que leia 2 notas ,verifique se as notas são validas e exiba na tela a médias destas notas . Uma nota válida deve ser ,obrigratoriamente ,um valr entre 0,00 e 10,0,onde caso a não possua um valor válido , este fato deve ser informado ao usuario do programa  e o programa termina ."
   ]
  },
  {
   "cell_type": "code",
   "execution_count": null,
   "id": "63fa12e2",
   "metadata": {},
   "outputs": [],
   "source": [
    "nota_1 = float (input('Digite a primwira nota'))\n",
    "nota_2 = float (input('Digite a primwira nota'))\n",
    "\n",
    "media = (nota_1 + nota_2)/2\n",
    "\n",
    "\n",
    "if media >= 0 and media <= 10:\n",
    "    print (f'média = {media}')\n",
    "else:\n",
    "    print(\"valor inválido!!!\")"
   ]
  },
  {
   "cell_type": "markdown",
   "id": "f5746da7",
   "metadata": {},
   "source": [
    "9.leia o salario de um trabalhador e o valor da prestação de um empréstimo. Se a prestação for maior que 20% do salário  imprima : Empréstimo não concedido , caso contrario imprima : em prestimo concedido ."
   ]
  },
  {
   "cell_type": "code",
   "execution_count": null,
   "id": "20bae6a6",
   "metadata": {},
   "outputs": [],
   "source": [
    "sal = float(input('informe o seu salario '))\n",
    "prs= float(input('Informe o valor da prestação '))\n",
    "\n",
    "if prs <= 0.2*sal:\n",
    "    print (f'Emprestimo CONCEDIDO !!')\n",
    "else :\n",
    "    print (f'impestimo NEGADO !!')\n",
    "       \n",
    "\n",
    "    \n"
   ]
  },
  {
   "cell_type": "markdown",
   "id": "5914db9f",
   "metadata": {},
   "source": [
    "10. Faça Um programa que receba a altura  e o sexo de uma pessoa  e calculer e mostre  o seu peso ideal, ultilizando as seguintes formulas :\n",
    "* Homens : (72.7 * h)-58\n",
    "* Mulheres : (62,1 * h)-44,7"
   ]
  },
  {
   "cell_type": "markdown",
   "id": "3217926b",
   "metadata": {},
   "source": []
  },
  {
   "cell_type": "code",
   "execution_count": null,
   "id": "c0dde834",
   "metadata": {},
   "outputs": [],
   "source": [
    "alt= float(input('Informe a sua altura em metros : '))\n",
    "sexo= input('Informe o seu sexo(M/F):')\n",
    "\n",
    "peso_ideal =0\n",
    "if sexo == 'M':\n",
    "    peso_ideal = 72.7*alt-58\n",
    "    print (f'seu pesos ideial ...{peso_ideal:.2f} ')\n",
    "else:   \n",
    "    sexo == 'F'\n",
    "    peso_ideal = 62.1*alt-44.7\n",
    "    print (f'seu pesos ideial ...{peso_ideal:.2f} ')\n"
   ]
  },
  {
   "cell_type": "markdown",
   "id": "1652ffeb",
   "metadata": {},
   "source": [
    "11. Faça um programa que leia um numero inteiro maior que  do que zero e devolva na tela  a soma dos de todos os algoritimos . Se o numero lido não maio for que  0  o programa terminará com a mensagem \" Numero Inválido\"."
   ]
  },
  {
   "cell_type": "code",
   "execution_count": null,
   "id": "bcd85a8f",
   "metadata": {},
   "outputs": [],
   "source": [
    "num = int(input(\"Digite um numero\"))\n",
    "\n",
    "milhar = num //1000\n",
    "centena = (num % 1000) //100\n",
    "dezena = (num % 100)//10\n",
    "unidade = num % 10\n",
    "\n",
    "if num > 0:\n",
    "    soma = milhar + centena+ dezena + unidade \n",
    "    print (f'soma {soma}')\n",
    "else:\n",
    "    print (f'numero invalido!!!')    \n"
   ]
  },
  {
   "cell_type": "markdown",
   "id": "0d4670d1",
   "metadata": {},
   "source": [
    "12. Ler um numero inteiro . Se o numero lido for negativo , escreva  a mensagem \" numero invalido \". Se o numero for positivo , calcule e o logaritimo deste numero ."
   ]
  },
  {
   "cell_type": "code",
   "execution_count": null,
   "id": "43660bea",
   "metadata": {},
   "outputs": [],
   "source": [
    "# metodo_1\n",
    "import math\n",
    "num = int (input('Digite um numero :'))\n",
    "base= int (input('digite o valor da base '))\n",
    "\n",
    "if num > 0 :\n",
    "    logaritimo = math.log(num,base)\n",
    "    print(f'O logaritimo do numero {num} é {logaritimo}')\n",
    "    \n",
    "else:\n",
    "   \n",
    "    print(f'numero invalido !!! ')"
   ]
  },
  {
   "cell_type": "markdown",
   "id": "124e3903",
   "metadata": {},
   "source": [
    "13.Faça um algoritimo que calcule a média ponderada das notas de tres provas . A primeira e a segunda prova tem o peso 1\n",
    "    e a terceira prova tem o peso 2. Ao final , mostrar a media do aluno e indicar se o maluno foi aprovado ou reprovado . A nota para aprovação deve ser igual ou superior a 60 pontos.\n"
   ]
  },
  {
   "cell_type": "code",
   "execution_count": null,
   "id": "3e0a093e",
   "metadata": {},
   "outputs": [],
   "source": [
    "prova_1= float(input('Dfigite o valor da nota da 1°prova :'))\n",
    "prova_2= float(input('Digite o valor da nota da 2°prova :'))\n",
    "prova_3= float(input('Digite o valor da nota da 1°prova :'))\n",
    "\n",
    "med_pond = (prova_1*1+ prova_2*1 + prova_3*2)/4\n",
    "\n",
    "if med_pond >= 60:\n",
    "    print (f'Nota final {med_pond:.2f} Aprovado!!!')\n",
    "else:\n",
    "    print (f'Nota final {med_pond:.2f} Reprovado!!!')\n",
    "\n"
   ]
  },
  {
   "cell_type": "markdown",
   "id": "47fb1359",
   "metadata": {},
   "source": [
    "14.A nota final de um estudante é calculada a partir de tres notas entre o intervalo de 0 ate 10, respectivamente , a um trabalho de laboratório , a uma avaliação semestral e a um exame final . A média das três notas mencionadas anteriormente  obedece aos pesos : trabalho de laboratório :2 avaliação semestral :3 prova final 5. De acordo com resultado , mostre na tela se o aluno está reprovado  (media entre 0 e 2,9) de recuperação (entre 3 e 4.5) ou se foi aprovado.Faça todas as verificações necessarias."
   ]
  },
  {
   "cell_type": "code",
   "execution_count": null,
   "id": "f46b9fc5",
   "metadata": {},
   "outputs": [],
   "source": [
    "N_labooratorio = float (input('Digite a nota do laabboratório '))\n",
    "N_avaliação_semestral  = float (input('Digite a nota da avaliação semestral '))\n",
    "N_avaliação_final = float (input('Digite a nota da avaliação final '))\n",
    "media  = (N_labooratorio *2 + N_avaliação_semestral*3 + N_avaliação_final*5)/10\n",
    "\n",
    "if media <= 2.9:\n",
    "    print (f'Nota final: {media:.2f} REPROVADO!!!')\n",
    "elif media >=3 and media <= 4.9:\n",
    "    print (f'Nota final: {media:.2f} Voce não conseguiu a nota minima para aprovação ! Porém pode fazer a recuperação !!!')\n",
    "else: \n",
    "    print (f'Nota final :{media:.2f} APROVADO!!!')\n",
    "\n",
    "\n",
    "    \n",
    "\n",
    "    "
   ]
  },
  {
   "cell_type": "markdown",
   "id": "1486e3b5",
   "metadata": {},
   "source": [
    "15.Escreva um programa  que leia um inteiro entre 1 e 7 e imprima o dia da semana correspodente ."
   ]
  },
  {
   "cell_type": "code",
   "execution_count": null,
   "id": "a6170b28",
   "metadata": {},
   "outputs": [],
   "source": [
    "dia= int (input('Digite o dia da semana (1a 7)'))\n",
    "match dia :\n",
    "    case 1:\n",
    "        print('Domingo')\n",
    "    case 2:\n",
    "        print('Segunda - feira') \n",
    "    case 3:\n",
    "        print('terça _feira')       \n",
    "    case 4:\n",
    "        print('quatra-feira')    \n",
    "    case 5:\n",
    "        print('quinta feita')   \n",
    "    case 6:\n",
    "        print('Sexta-feira')\n",
    "    case 7:\n",
    "        print('sabado')\n",
    "    case _:\n",
    "        print ('Dia invalido')\n",
    "\n",
    "        "
   ]
  },
  {
   "cell_type": "markdown",
   "id": "a19347a7",
   "metadata": {},
   "source": [
    "16. Escreva um programa que leia um numero entre 1 e 12 e imprima o mês correspodente a este numero."
   ]
  },
  {
   "cell_type": "code",
   "execution_count": null,
   "id": "63491175",
   "metadata": {},
   "outputs": [],
   "source": [
    "mes = int (input('Digite o Mês (1a 12)'))\n",
    "match mes :\n",
    "    case 1:\n",
    "        print('Janeiro')\n",
    "    case 2:\n",
    "        print('fevereiro') \n",
    "    case 3:\n",
    "        print('Março')       \n",
    "    case 4:\n",
    "        print('Abril')    \n",
    "    case 5:\n",
    "        print('Maio')   \n",
    "    case 6:\n",
    "        print('junho')\n",
    "    case 7:\n",
    "        print('Julho')\n",
    "    case 8:\n",
    "        print('Agosto') \n",
    "    case 9:\n",
    "        print('Setembro') \n",
    "    case 10:\n",
    "        print('Outubro')     \n",
    "    case 11:\n",
    "        print('Novembro')     \n",
    "    case 12:\n",
    "        print('dezembro')         \n",
    "\n",
    "    case _:\n",
    "        print ('Dia invalido')"
   ]
  },
  {
   "cell_type": "markdown",
   "id": "599a4403",
   "metadata": {},
   "source": [
    "17.Faça um programa que calcule  e mostre a área de um trapézio. Sabe-se que :\n",
    "                    A= (basemaior + base menor)* altura  /2\n",
    "\n",
    "                     \n",
    "                              \n",
    "                       "
   ]
  },
  {
   "cell_type": "markdown",
   "id": "1c51fb00",
   "metadata": {},
   "source": []
  },
  {
   "cell_type": "code",
   "execution_count": null,
   "id": "b581aeb0",
   "metadata": {},
   "outputs": [],
   "source": [
    "base_maior = float(input('Digite o valor da base maior :'))\n",
    "base_menor = float(input('Digite o valor da base maior :'))\n",
    "altura  = float(input('Digite o valor da altura  :'))\n",
    "\n",
    "if base_maior > 0 and base_menor:\n",
    "    area =(base_maior + base_menor)*altura/2\n",
    "    print (f'area do trapezio : {area:.2f}')\n",
    "else:\n",
    "    print ('valores invalidos !!!')    \n",
    "\n",
    "\n"
   ]
  },
  {
   "cell_type": "markdown",
   "id": "61e216b4",
   "metadata": {},
   "source": [
    "18. Faça um programa que mostre ao usuário um menu com 4 opções de operações matemáticas (as básica por exemplo).O usuário escolhe uma das opções de operações e o seu programa então pede dois valores numericos e realiza a operação, mostrando o resultado e saindo ."
   ]
  },
  {
   "cell_type": "code",
   "execution_count": null,
   "id": "c6ca08a1",
   "metadata": {},
   "outputs": [],
   "source": [
    "operacao = input ('Digite a operação desejada (+, -,*,/):')\n",
    "num1= int (input('Digite o primeiro numero :'))\n",
    "num2= int (input('Digite o primeiro numero :'))  \n",
    "\n",
    "if operacao == '+':\n",
    "    resultado = num1 + num2\n",
    "    print (f'{num1} + {num2} = {resultado}')\n",
    "elif operacao == '-':\n",
    "    resultado = num1 - num2\n",
    "    print (f'{num1} - {num2} = {resultado}')  \n",
    "elif operacao == '*':\n",
    "    resultado = num1 * num2\n",
    "    print (f'{num1} * {num2} = {resultado}')   \n",
    "elif operacao == '/':\n",
    "    resultado = num1 / num2\n",
    "    print (f'{num1} / {num2} = {resultado}')     \n",
    "else:\n",
    "    print('Opração invalida !!!')    \n",
    "\n",
    "\n",
    "\n",
    "        "
   ]
  },
  {
   "cell_type": "markdown",
   "id": "786a3fc5",
   "metadata": {},
   "source": [
    "19.Faça Um programa  para verificar se um determinado numero inteiro é divivel por 3 ou 5, mas não simultaneamente pelo dois."
   ]
  },
  {
   "cell_type": "code",
   "execution_count": null,
   "id": "f1df266f",
   "metadata": {},
   "outputs": [],
   "source": [
    "num  = int(input('Digite um numero: '))\n",
    "\n",
    "if num % 3 == 0 or num % 5 == 0:\n",
    "    print(f'numero {num} é divisel por 3 ou 5')\n",
    "else:\n",
    "    print(f'numero {num} não é divisivel por 3 ou por 5')"
   ]
  },
  {
   "cell_type": "markdown",
   "id": "acf98582",
   "metadata": {},
   "source": [
    "20.Dados  três valores , A,B,C , verificar se eles podem ser valores dos lados de um triangulo e se forem ,se cada lado do triangulo é um triangulo escaleneo , equilátreo,ou isócele, considerando os  seguintes conceitos:\n",
    "* O comprimento de cada lado de um triangulo é menor do que a soma dos outros dois .\n",
    "* chama-se equilatreo o triangulo que tem tres lados iguais .\n",
    "* Denominam-se isósceles o triangulo que tem o cumprimento de dois lados iguais .\n",
    "* recebe o nome de escaleno o tringulo que tem os três lados diferente."
   ]
  },
  {
   "cell_type": "code",
   "execution_count": null,
   "id": "fea16e67",
   "metadata": {},
   "outputs": [],
   "source": [
    "lad_A = float(input('Digite o lado A do triangulo :'))\n",
    "lad_B = float(input('Digite o lado B do triangulo :'))\n",
    "lad_C = float(input('Digite o lado A do triangulo :'))\n",
    "\n",
    "if lad_A < lad_B + lad_C and lad_B < lad_A + lad_C and lad_C < lad_A + lad_B:\n",
    "    print (f'Os lados formaN um TRIANGULO !')\n",
    "    if lad_A == lad_B and lad_B == lad_C:\n",
    "        print (f'Triangulo EQUILATERO  ')\n",
    "    elif lad_A == lad_B or lad_B == lad_C or lad_A == lad_C:\n",
    "        print (f'Triangulo ISOSCELES')    \n",
    "    else:\n",
    "        print (f'Triangulo ESCALENEO')    \n",
    "else:\n",
    "    print (f'Os lados não formam um triangulo !!!')\n",
    "\n",
    "\n",
    "\n",
    "\n",
    "\n"
   ]
  },
  {
   "cell_type": "markdown",
   "id": "972a02d6",
   "metadata": {},
   "source": [
    "21. Escreva o menu de opções abaixo. Leia a opção do usuario e execute a operação escolhida . Escreva uma mensagem erro se a opção for invalida .\n",
    "* escolha a opção</br>\n",
    "1- soma de 2 números </br>\n",
    "2- Diferança entre 2 números </br>\n",
    "3- produto entre 2 numeros .</br>\n",
    "4- Divisão entre 2 numeros </br>\n",
    "*opção invalida\n"
   ]
  },
  {
   "cell_type": "markdown",
   "id": "e0ab464c",
   "metadata": {},
   "source": []
  },
  {
   "cell_type": "code",
   "execution_count": null,
   "id": "cdfcb7ec",
   "metadata": {},
   "outputs": [],
   "source": [
    "num1 = float(input('Digite o 1° numero :'))\n",
    "num2 = float(input('Digite o 2° numero :'))\n",
    "\n",
    "opcao = int(input('Digite a operação desejada (1-Soma, 2-Subtração,3-Multiplicação, 4-Divisão):'))\n",
    "\n",
    "match opcao:\n",
    "    case 1:\n",
    "        resultado = num1 + num2\n",
    "        print (f'{num1} - {num2} =  {resultado}')\n",
    "    case 2:\n",
    "        resultado = num1 - num2\n",
    "        print (f'{num1} - {num2} =  {resultado}')  \n",
    "    case 3:\n",
    "        resultado = num1 * num2\n",
    "        print (f'{num1} * {num2} =  {resultado}') \n",
    "    case 4:\n",
    "        resultado = num1 / num2\n",
    "        print (f'{num1} /{num2} =  {resultado}')  \n",
    "    case _:\n",
    "        print ('opção invalida!!!')\n",
    "           \n",
    "\n"
   ]
  },
  {
   "cell_type": "markdown",
   "id": "a712e41c",
   "metadata": {},
   "source": [
    "22. Leia a idade e o tempo de serviço de um trabalhador e escreva se ele pode ou não se aposentar . As condições para aposentadoria são :\n",
    "*Ter pelo menos 65 anos \n",
    "*Ou ter trabalhado pelo menos 30 anos .\n",
    "*Ou ter pelo menos 60 anos e ter trabalhado pelo menos 25 anos ."
   ]
  },
  {
   "cell_type": "code",
   "execution_count": null,
   "id": "025079c3",
   "metadata": {},
   "outputs": [],
   "source": [
    "idade = int(input('Digite a idade do trabalhaddor:'))\n",
    "tempo_servico = int(input('Digite o tempo de serviço do trabalhador :'))\n",
    "\n",
    "if idade >= 65 or tempo_servico >= 30 or (idade >= 60 and tempo_servico >= 25):\n",
    "    print ('Aposentadoria concedida !!!')\n",
    "else:\n",
    "    print ('Não atende os rquisitos para aposentadoria !!!')\n",
    "        "
   ]
  },
  {
   "cell_type": "markdown",
   "id": "1ddf6f97",
   "metadata": {},
   "source": [
    "23.Determine se um determinado ano lido é bissexto . Sendo que um ano é bixesto se for divisivel por 400 ou se for divisivel por 100."
   ]
  },
  {
   "cell_type": "code",
   "execution_count": null,
   "id": "c8096afe",
   "metadata": {},
   "outputs": [],
   "source": [
    "ano = int(input('Informe o ano :'))\n",
    "\n",
    "if ano  % 4 == 0 and (ano %100 != 0 or ano % 400 == 0):\n",
    "    print(f'O ano {ano} é bissexto')\n",
    "else:\n",
    "    print(f'O ano {ano} não é bissexto')\n",
    "        "
   ]
  },
  {
   "cell_type": "markdown",
   "id": "1ac5bfcf",
   "metadata": {},
   "source": [
    "24.Uma empresa vende o mesmo produto para quatro diferentes estados. Cada estado possui uma taxa diferente de imposto sobre o produto (MG 7%, SP 12%,RJ 15% MS 8%). fAÇA UM PROGRAMA EM QUE O USUARIO  entre com um valor  e o estado de destino do produto e o programa retorne o preço final do produto acrescido do imposto do estado em que ele será vendido . se o estado não for valido , mostrar uma mensagem de erro ."
   ]
  },
  {
   "cell_type": "code",
   "execution_count": null,
   "id": "2db22686",
   "metadata": {},
   "outputs": [],
   "source": [
    "valor = float(input('Qual o valor total da compra ?'))\n",
    "estado = input('qual o estado ? (MG,SP,RJ,MS)').upper()\n",
    "if estado == 'MG':\n",
    "    valor  = valor  + valor * 0.07\n",
    "    print (f'valor total da compra R$: {valor:.2f}')\n",
    "elif estado == 'SP':\n",
    "    valor = valor + valor *0.12\n",
    "    print (f'valor total da compra R$: {valor:.2f}')\n",
    "elif estado == 'RJ':\n",
    "    valor  = valor + valor *0.15\n",
    "    print (f'valor total da compra R$: {valor:.2f}')\n",
    "elif estado == 'MS' :\n",
    "    valor = valor + valor * 0.08\n",
    "    print (f'valor total da compra R$: {valor:.2f}')\n",
    "else:\n",
    "    print ('estado INVALIDO!!!)')              "
   ]
  },
  {
   "cell_type": "markdown",
   "id": "e254f6ec",
   "metadata": {},
   "source": [
    "25. Calcule as raizes da equação  de 2° grau  . A variavel a tem ser diferente de zero . Caso veja igual imprima a mensagem : \"não é eauação de segundo grau.\n",
    "* se delta < 0 não existe n° real . Imprima  a mensagem Não existe rais \n",
    "* se delta = 0 exixte uma rail real . Imprima raiz unica\n",
    "* se delta >= 0 imprima as duas raizes .\n"
   ]
  },
  {
   "cell_type": "code",
   "execution_count": null,
   "id": "306ef7d8",
   "metadata": {},
   "outputs": [],
   "source": [
    "\n",
    "import math\n",
    "a= float(input('Coeficiente A:'))\n",
    "b= float(input('Coeficiente B'))\n",
    "c= float(input('Coeficiente B'))\n",
    "\n",
    "delta = math.pow (b,2) - 4*a* c\n",
    "\n",
    "if delta < 0:\n",
    "    print ('Não existe raiz real')\n",
    "elif delta == 0:\n",
    "    x = -b/(2*a)\n",
    "    print(f'Raiz única {x}')\n",
    "else:\n",
    "    x1 = (-b + math.sqrt(delta))/(2*a)\n",
    "    x2 = (-b -math.sqrt(delta))/(2*a)\n",
    "    print (f'raizes {x1} e {x2}')\n",
    "\n",
    "\n"
   ]
  },
  {
   "cell_type": "markdown",
   "id": "a7358127",
   "metadata": {},
   "source": [
    "26. Leia um programa em km  e a quantidade de litros de gasolina consumidos por um carro em um percurso , calcule o comsumo km/l e escreva uma mensagem de acordo  com a tabela abaixo.\n",
    "* Menor que  8 venda o carro \n",
    "* entre 8 e 14 econômico\n",
    "* maior que 12 super econômico"
   ]
  },
  {
   "cell_type": "code",
   "execution_count": null,
   "id": "dc848ea7",
   "metadata": {},
   "outputs": [],
   "source": [
    "km  = float(input('Informe a distancia em km:'))\n",
    "consumo = float (input ('informe o consumo :'))\n",
    "\n",
    "km_por_litro = km/consumo\n",
    "\n",
    "if km_por_litro <= 8:\n",
    "    print (f'Comsumo {km_por_litro:.2f} RECOMENDAÇÃO: Venda esse carro !!')\n",
    "elif km_por_litro >8 and km_por_litro <=14:\n",
    "    print (f'Consumo {km_por_litro:.2f} RECOMENDAÇÃO: Carro econômico !!!')  \n",
    "else :\n",
    "    print (f'Consumo {km_por_litro:.2f} Recomendação: Carro Supr econômico !!!')\n",
    "\n"
   ]
  },
  {
   "cell_type": "markdown",
   "id": "4a95eb94",
   "metadata": {},
   "source": [
    "27. Escreva um programa que ,dada a idade de um nadador , classifique-o em uma das seguintes categorias :\n",
    "* infantil A 5 a 7\n",
    "* infanti B 8 a 10\n",
    "* juvenil A  11 a 13\n",
    "* juvenil B 14 ao 17\n",
    "* Sênior > 18\n"
   ]
  },
  {
   "cell_type": "code",
   "execution_count": null,
   "id": "049106a0",
   "metadata": {},
   "outputs": [],
   "source": [
    "idade = int(input( ' digite a idadedo nadador : '))\n",
    "\n",
    "if idade >=5 and idade <= 7:\n",
    "    print ('Categoria : INFANTIL A')\n",
    "elif idade >=8 and idade <= 10:\n",
    "    print('Categoria : INFANTIL B')\n",
    "elif idade >=11 and idade <=13:\n",
    "    print ('Categoria  : JUVENIL A')\n",
    "elif idade >=14 and idade <=17:\n",
    "    print ('Categotia : JUVENIL B')\n",
    "elif idade >=18:\n",
    "    print ('categoria : SENIOR' )    \n",
    "\n",
    "\n",
    "\n",
    "   \n"
   ]
  },
  {
   "cell_type": "markdown",
   "id": "91dd343a",
   "metadata": {},
   "source": [
    "28. Faça um programa  que leia tres números inteiros positivos e efetue o cálculo de uma das seguintes médias de acordo com valor numerico digitado : geometrica, ponderada , harmônica e aritmética. "
   ]
  },
  {
   "cell_type": "code",
   "execution_count": null,
   "id": "07dbbf85",
   "metadata": {},
   "outputs": [],
   "source": [
    "\n",
    "\n",
    "numA = float(input('Digite o valor de A:'))\n",
    "numB= float(input('Digite o valor de B:'))\n",
    "numC = float(input('Digite o valor de C:'))\n",
    "\n",
    "op = int(input('Escolha a operação desejada (1-Média geometrica  2-média ponderada 3-média harmonica) :'))\n",
    "\n",
    "\n",
    "if op == 1:\n",
    "    m_geometrica = (numA * numB * numC) **(1/3)\n",
    "    print (f'Media geometrica: {m_geometrica:.2f}')\n",
    "elif op == 2:   \n",
    "    m_ponderada =numA*2 + numB*3 + numC*1/6\n",
    "    print (f'media ponderada: {m_ponderada:.2f}')\n",
    "elif op ==3:\n",
    "    m_harmonica = 3/(1/numA + 1/numB + 1/numC)\n",
    "    print (f'harmonica:{m_harmonica:.2f}')\n",
    "else:\n",
    "    print ('opção invalida !!!')    \n",
    "\n",
    "\n",
    "\n",
    "\n"
   ]
  },
  {
   "cell_type": "markdown",
   "id": "59576a59",
   "metadata": {},
   "source": [
    "\n",
    "29. Faça um programa que receba três numeros  e  mostre em ordem crescente ."
   ]
  },
  {
   "cell_type": "code",
   "execution_count": null,
   "id": "7c5cc79c",
   "metadata": {},
   "outputs": [],
   "source": [
    "num_1 = int(input('digite o 1° numero :)'))\n",
    "num_2 = int(input('digite o 2° numero :)'))\n",
    "num_3 = int(input('digite o 3° numero :)'))\n",
    "\n",
    "if num_1 < num_2 and num_1< num_3:\n",
    "    if num_2 < num_3:\n",
    "        print (f'{num_1} {num_2} {num_3}')\n",
    "    else:\n",
    "        print (f'{num_1} {num_3} {num_2}')\n",
    "elif num_2<num_1 and num_2 < num_3 :\n",
    "    if num_1 < num_3:\n",
    "        print (f'{num_2} {num_1} {num_3}')       \n",
    "    else:\n",
    "        print (f'{num_2} {num_3} {num_1}')\n",
    "else:\n",
    "    if num_1 < num_2:\n",
    "        print (f'{num_3} {num_1} {num_2}')\n",
    "    else:\n",
    "        print (f'{num_3} {num_2} {num_1}')    \n",
    "\n",
    "\n",
    "\n",
    "\n",
    "   \n",
    "    \n",
    "\n",
    "\n"
   ]
  },
  {
   "cell_type": "markdown",
   "id": "dde8ad2b",
   "metadata": {},
   "source": [
    "30.Faça um programa que receba a altura e o peso de uma pessoa . De acordo com a tabela a seguir , verifique e mostre qual a classificação desta pessoa .\n",
    "| Altura            | Até 60 | Entre 60 e 90 (Inclusive) | Acima de 90 |\n",
    "|------------------|--------|--------------------------|-------------|\n",
    "| Menor que 1,20  | A      | D                        | G           |\n",
    "| De 1,20 a 1,70  | B      | E                        | H           |\n",
    "| Maior que 1,70  | C      | F                        | I           |"
   ]
  },
  {
   "cell_type": "code",
   "execution_count": null,
   "id": "de7cb7f9",
   "metadata": {},
   "outputs": [],
   "source": [
    "alt = float(input('informe a sua altura em metros : '))\n",
    "peso = float(input('infforme o seu peso em kg :'))\n",
    "\n",
    "if alt < 1.20 and peso <= 60:\n",
    "    print ('Classificação : A')\n",
    "elif alt < 1.20 and peso > 60 and peso <=90:\n",
    "    print ('Classificação : D')\n",
    "elif alt < 1.20 and peso > 90:\n",
    "    print ('Classificação : G')  \n",
    "elif alt  >=1.20 and alt <= 1.70 and peso <=60:\n",
    "    print ('Classificação : B')    \n",
    "elif alt >= 1.20 and alt <= 1.70 and peso > 60 and  peso <= 60:   \n",
    "    print ('Classificação : E')\n",
    "elif alt >= 1.20 and alt <= 1.70 and peso > 90:\n",
    "    print ('Classificação : H')\n",
    "elif alt > 1.70 and peso <= 60:\n",
    "    print ('classificaçao : C')\n",
    "elif alt > 1.70 and peso > 60 and peso <= 90:\n",
    "    print ('Classificação : F')\n",
    "elif alt  > 1.70 and peso > 90:\n",
    "    print ('Classificação : I') \n",
    "else:\n",
    "    print ('Classificação :  INVALIDA')         \n",
    "\n"
   ]
  },
  {
   "cell_type": "markdown",
   "id": "b1e71709",
   "metadata": {},
   "source": [
    "31. Escreva Um programa que leia o código do produto escolhido de uma lanchonete e a quantidade . O programa deve calcular o valor a ser pago por aquele lanche . Considere que a cada execução somente será calculado um pedido. O cardapio da lanchonete segue o padrão abaixo:\n",
    "\n",
    "| Especificação      | Código | Preço |\n",
    "|--------------------|--------|-------|\n",
    "| Cachorro Quente   | 100    | 1.20  |\n",
    "| Bauru Simples     | 101    | 1.30  |\n",
    "| Bauru com Ovo     | 102    | 1.50  |\n",
    "| Hambúrguer        | 103    | 1.20  |\n",
    "| Cheeseburguer     | 104    | 1.70  |\n",
    "| Suco             | 105    | 2.20  |\n",
    "| Refrigerante      | 106    | 1.00  |"
   ]
  },
  {
   "cell_type": "markdown",
   "id": "c9b962c1",
   "metadata": {},
   "source": []
  },
  {
   "cell_type": "code",
   "execution_count": null,
   "id": "05e51f04",
   "metadata": {},
   "outputs": [],
   "source": [
    "cod = int(input('Digite o código do produto :'))\n",
    "quantidade = int(input('Digite a quantidade do produto :'))\n",
    "\n",
    "if cod == 100:\n",
    "    valor = 1.20 * quantidade\n",
    "    print(f'Cachorro quente ...valor total : {valor:.2f}')\n",
    "elif cod == 101: \n",
    "    valor = 1.30 * quantidade\n",
    "    print(f'Bauru Simples valor total ...R$: {valor:.2f}')  \n",
    "elif cod == 102: \n",
    "    valor = 1.50 * quantidade\n",
    "    print(f'Bauru Simple com ovo... valor total ...R$: {valor:.2f}')\n",
    "elif cod == 103: \n",
    "    valor = 1.20 * quantidade\n",
    "    print(f'Bauru Simples valor... total ...R$ {valor:.2f}')\n",
    "elif cod == 104: \n",
    "    valor = 1.70 *quantidade\n",
    "    print(f'Cheeseburguer valor... total ...R$ {valor:.2f}')        \n",
    "elif cod == 105: \n",
    "    valor = 2.20 *quantidade\n",
    "    print(f'Cheeseburguer valor... total ...R$ {valor:.2f}') \n",
    "elif cod == 106: \n",
    "    valor = 1.00 *quantidade\n",
    "    print(f'Suco valor... total ...R$ {valor:.2f}') \n",
    "else:\n",
    "    print ('Codigo invalido!!!')            "
   ]
  },
  {
   "cell_type": "markdown",
   "id": "cfbb7d58",
   "metadata": {},
   "source": [
    "32.Faça um Programa para um caixa eletrônico. O programa deverá perguntar ao usuário a valor do saque e depois informar quantas notas de cada valor serão fornecidas. As notas disponíveis serão as de 10, 20, 50, 100 e 200 reais. O valor mínimo é de 10 reais e o máximo de 600 reais. O programa não deve se preocupar com a quantidade de notas existentes na máquina.\n"
   ]
  },
  {
   "cell_type": "code",
   "execution_count": null,
   "id": "47485c88",
   "metadata": {},
   "outputs": [],
   "source": [
    "sague = int (input('Digite o valor do sague:'))\n",
    "\n",
    "print ('notas Disponiveis :R$ 200,00...R$ 100,00...R$ 50,00...R$ 20,00 ...R$ 10,00')\n",
    "\n",
    "if sague >= 10 and  sague >= 2500:\n",
    "    duzentos = int(sague/200)\n",
    "    sague = sague % 200\n",
    "    print(f'Notas de R$ 200,00 : {duzentos}')\n",
    "    \n",
    "    cem = int(sague/100)\n",
    "    sague = sague % 100\n",
    "    print (f'notas de  R$ 100,00 : {cem}')\n",
    "\n",
    "    cinquenta  = int(sague/50)\n",
    "    sague = sague % 50\n",
    "    print (f'notas de  R$ 50,00 : {cinquenta}')\n",
    "\n",
    "    vinte  = int(sague/20)\n",
    "    sague = sague % 20\n",
    "    print (f'notas de  R$ 20,00 : {vinte}')\n",
    "\n",
    "    dez = int(sague/10)\n",
    "    sague = sague % 10\n",
    "    print (f'notas de  R$ 10,00 : {dez}')   \n",
    "\n",
    "    cinco = int(sague/5)\n",
    "    sague = sague % 5\n",
    "    print (f'notas de  R$ 5,00 : {cinco}')\n",
    "else:\n",
    "    print ('Valor de sague indisponivel !!!')\n",
    "    \n",
    "\n",
    "    \n",
    "\n"
   ]
  },
  {
   "cell_type": "markdown",
   "id": "87d45547",
   "metadata": {},
   "source": [
    "33. Faça um Programa que peça um número e informe se o número é inteiro ou decimal. Dica: utilize uma função de arredondamento."
   ]
  },
  {
   "cell_type": "code",
   "execution_count": 37,
   "id": "683ed298",
   "metadata": {},
   "outputs": [
    {
     "name": "stdout",
     "output_type": "stream",
     "text": [
      "O número 4 é inteiro !!!\n"
     ]
    }
   ],
   "source": [
    "num = float(input('Digite um número: '))\n",
    "\n",
    "if num.is_integer():\n",
    "    print(f'O número {num:.0f} é inteiro !!!')\n",
    "else:\n",
    "    print(f'O número {num} é um decimal.')"
   ]
  },
  {
   "cell_type": "markdown",
   "id": "98930298",
   "metadata": {},
   "source": [
    "34.Faça um Programa que leia 2 números e em seguida pergunte ao usuário qual operação ele deseja realizar. O resultado da operação deve ser acompanhado de uma frase que diga se o número é:\n",
    "\n",
    "* par ou ímpar;\n",
    "* positivo ou negativo;\n",
    "* inteiro ou decimal."
   ]
  },
  {
   "cell_type": "code",
   "execution_count": null,
   "id": "56e37b12",
   "metadata": {},
   "outputs": [],
   "source": [
    "num_1= int(input('Digite um numero: '))\n",
    "num_2= int(input('Digite um numero: '))\n",
    "\n",
    "match op :\n",
    "    case 1:\n",
    "        if num_1 % 2 == 0:\n",
    "            print (f'O numero {num_1} é par')\n",
    "        elif num_1 % 2 != 0:\n",
    "             print (f'O numero {num_1} é impar')  \n",
    "        elif num_2 %  2 == 0:\n",
    "            print (f'Numuero {num_2 } é par ')     \n",
    "        else:\n",
    "            print (f'numero {num_2} é impar')\n",
    "    case 2:\n",
    "        if num_1 > 0:\n",
    "            print (f'O numero {num_1}  è positivo')\n",
    "        elif num_1 < 0:\n",
    "            print (f'O numero {num_1} é negativo ') \n",
    "        elif num_2 > 0:\n",
    "            print (f'Numero {num_2} é positivo')\n",
    "        else:\n",
    "            print (f'O numero {num_2} é negativo ')\n",
    "    case 3:\n",
    "        if num_1.is_integer():\n",
    "           print(f'O número {num_1:.0f} é inteiro !!!')\n",
    "        elif num_1.is_intrger() == False:\n",
    "            print(f'O número {num_1} è um decimal ')\n",
    "            \n",
    "\n",
    "        \n",
    "          \n",
    "                    \n",
    "                                \n",
    "\n"
   ]
  },
  {
   "cell_type": "markdown",
   "id": "eb9f9b98",
   "metadata": {},
   "source": [
    "35. Faça um programa que faça 5 perguntas para uma pessoa sobre um crime. As perguntas são:\n",
    "    \"Telefonou para a vítima?\"\n",
    "    \"Esteve no local do crime?\"\n",
    "    \"Mora perto da vítima?\"\n",
    "    \"Devia para a vítima?\"\n",
    "    \"Já trabalhou com a vítima?\" O programa deve no final emitir uma classificação sobre a participação da pessoa no crime. Se a pessoa responder positivamente a 2 questões ela deve ser classificada como \"Suspeita\", entre 3 e 4 como \"Cúmplice\" e 5 como \"Assassino\". Caso contrário, ele será classificado como \"Inocente\"."
   ]
  },
  {
   "cell_type": "markdown",
   "id": "67a8ce1a",
   "metadata": {},
   "source": []
  },
  {
   "cell_type": "code",
   "execution_count": 8,
   "id": "24f36e3f",
   "metadata": {},
   "outputs": [
    {
     "name": "stdout",
     "output_type": "stream",
     "text": [
      "numero de respostas SIM:5\n",
      "Assassino\n"
     ]
    }
   ],
   "source": [
    "\n",
    "resp_sim = 0\n",
    "\n",
    "perg_1 = input('Telefonou para a vítima?')\n",
    "if perg_1 ==  'Sim':\n",
    "   resp_sim += 1\n",
    "\n",
    "perg_2 = input ('Esteve no local do crime?') \n",
    "if perg_2 ==  'Sim':\n",
    "   resp_sim += 1\n",
    "perg_3 = input ('Mora perto da vítima?') \n",
    "\n",
    "if perg_3 ==  'Sim':\n",
    "   resp_sim += 1 \n",
    "perg_4 = input ('Devia para a vítima?') \n",
    "\n",
    "if perg_4 ==  'Sim':\n",
    "   resp_sim += 1\n",
    "perg_5 = input ('Já trabalhou com a vítima?') \n",
    "\n",
    "\n",
    "if perg_5 == 'Sim':\n",
    "   resp_sim += 1  \n",
    "print (f'numero de respostas SIM:{resp_sim}')\n",
    "\n",
    "if resp_sim == 2: \n",
    "   print ('Suspeito')\n",
    "elif resp_sim == 3 or resp_sim ==4:\n",
    "   print ('Cumplice')\n",
    "elif resp_sim == 5:\n",
    "   print (\"Assassino\")  \n",
    "else:\n",
    "   print ('inocente')    \n",
    "\n",
    "\n",
    "\n",
    "                    \n"
   ]
  },
  {
   "cell_type": "markdown",
   "id": "67df3770",
   "metadata": {},
   "source": [
    "36.Um posto está vendendo combustíveis com a seguinte tabela de descontos:\n",
    "    Álcool: até 20 litros, desconto de 3% por litro\n",
    "    acima de 20 litros, desconto de 5% por litro\n",
    "\n",
    "    Gasolina:\n",
    "    até 20 litros, desconto de 4% por litro\n",
    "    acima de 20 litros, desconto de 6% por litro Escreva um algoritmo que leia o número de litros vendidos, o tipo de combustível (codificado da seguinte forma: A-álcool, G-gasolina), calcule e imprima o valor a ser pago pelo cliente sabendo-se que o preço do litro da gasolina é R$ 2,50 o preço do litro do álcool é R$ 1,90."
   ]
  },
  {
   "cell_type": "code",
   "execution_count": 4,
   "id": "2c089f16",
   "metadata": {},
   "outputs": [
    {
     "name": "stdout",
     "output_type": "stream",
     "text": [
      "valor a pagar :R$ 48.00\n"
     ]
    }
   ],
   "source": [
    "litros =  float (input('Digite a quantidade de litros '))\n",
    "tipo_C = input('Digite o  tipo de combustivel (A/G) :').upper()\n",
    "if tipo_C == 'A':\n",
    "    if litros <=20:\n",
    "        valor = litros * 1.90\n",
    "        desconto  = valor *0.03\n",
    "        valor  = valor - desconto\n",
    "        print (f'valor a pagar : {valor :.2f}')\n",
    "    else:\n",
    "        valor = litros * 1.90\n",
    "        desconto  = valor * 0.05\n",
    "        valor = valor - desconto\n",
    "        print (f'Total a pagar : {valor :.2f}')    \n",
    "else:\n",
    "    tipo_C == 'G'\n",
    "    if litros <=20:\n",
    "        valor = litros * 2.50\n",
    "        desconto  = valor *0.04\n",
    "        valor  = valor - desconto\n",
    "        print (f'valor a pagar :R$ {valor :.2f}')\n",
    "    else:\n",
    "        valor = litros * 2.50\n",
    "        desconto  = valor * 0.06\n",
    "        valor = valor - desconto\n",
    "        print (f'Total a pagar :R$ {valor :.2f}')    \n",
    "\n",
    "    "
   ]
  },
  {
   "cell_type": "markdown",
   "id": "5154d249",
   "metadata": {},
   "source": [
    "37.O Hipermercado Tabajara está com uma promoção de carnes que é imperdível. Confira:\n",
    "                          Até 5 Kg               Acima de 5 Kg\n",
    "    File Duplo      R$ 4,90 por Kg          R$ 5,80 por Kg\n",
    "    Alcatra           R$ 5,90 por Kg          R$ 6,80 por Kg\n",
    "    Picanha          R$ 6,90 por Kg          R$ 7,80 por Kg\n",
    "    Para atender a todos os clientes, cada cliente poderá levar apenas um dos tipos de carne da promoção, porém não há limites para a quantidade de carne por cliente. Se compra for feita no cartão Tabajara o cliente receberá ainda um desconto de 5% sobre o total a compra. Escreva um programa que peça o tipo e a quantidade de carne comprada pelo usuário e gere um cupom fiscal, contendo as informações da compra: tipo e quantidade de carne, preço total, tipo de pagamento, valor do desconto e valor a pagar."
   ]
  },
  {
   "cell_type": "code",
   "execution_count": null,
   "id": "066dc78c",
   "metadata": {},
   "outputs": [
    {
     "name": "stdout",
     "output_type": "stream",
     "text": [
      "Valor a pagar :R$ 741.00\n"
     ]
    }
   ],
   "source": [
    "tipo_carne = input('Digite o tipo de carne (F-File Duplo, A-Alcatra, P-Picanha) ')\n",
    "quantidade = float (input('Digite a quantidade em kilos :)'))\n",
    "\n",
    "if tipo_carne == 'F':\n",
    "    if quantidade <=5:\n",
    "        valor = quantidade * 4.90\n",
    "        desconto = valor  * 0.05\n",
    "        valor = valor - desconto\n",
    "        print (f'Valor a pagar :R$ {valor:.2f}')\n",
    "    else:\n",
    "        valor = quantidade * 5.80\n",
    "        desconto = valor  * 0.05\n",
    "        valor = valor - desconto\n",
    "        print (f'Valor a pagar :R$ {valor:.2f}')\n",
    "elif tipo_carne == 'A':\n",
    "    if quantidade <=5:\n",
    "        valor = quantidade * 5.90\n",
    "        desconto = valor  * 0.05\n",
    "        valor = valor - desconto\n",
    "        print (f'Valor a pagar :R$ {valor:.2f}')\n",
    "    else:\n",
    "        valor = quantidade * 6.80\n",
    "        desconto = valor  * 0.05\n",
    "        valor = valor - desconto\n",
    "        print (f'Valor a pagar :R$ {valor:.2f}')\n",
    "else:\n",
    "    tipo_carne == 'P'\n",
    "    if quantidade <=5:\n",
    "        valor = quantidade * 6.90\n",
    "        desconto = valor  * 0.05\n",
    "        valor = valor - desconto\n",
    "        print (f'Valor a pagar :R$ {valor:.2f}')\n",
    "    else:\n",
    "        valor = quantidade * 7.80\n",
    "        desconto = valor  * 0.05\n",
    "        valor = valor - desconto\n",
    "        print (f'Valor a pagar :R$ {valor:.2f}')        \n",
    "\n",
    "\n"
   ]
  }
 ],
 "metadata": {
  "kernelspec": {
   "display_name": "base",
   "language": "python",
   "name": "python3"
  },
  "language_info": {
   "codemirror_mode": {
    "name": "ipython",
    "version": 3
   },
   "file_extension": ".py",
   "mimetype": "text/x-python",
   "name": "python",
   "nbconvert_exporter": "python",
   "pygments_lexer": "ipython3",
   "version": "3.12.7"
  }
 },
 "nbformat": 4,
 "nbformat_minor": 5
}
