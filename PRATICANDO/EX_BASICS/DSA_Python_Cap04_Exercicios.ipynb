{
  "cells": [
    {
      "cell_type": "markdown",
      "metadata": {
        "id": "i-CZz_6k8M7X"
      },
      "source": [
        "# <font color='yellow'>CRIS_TECH_DATA</font>\n",
        "\n",
        "## <font color='yellow'>Fundamentos de Linguagem Python Para Análise de Dados e Data Science</font>\n",
        "\n",
        "## <font color='yellow'>Capítulo 4 - Exercícios</font>"
      ]
    },
    {
      "cell_type": "code",
      "execution_count": null,
      "metadata": {
        "id": "y-NHJfTV8M7a",
        "outputId": "41b78a2e-c529-4067-ee82-a5b8001ec629"
      },
      "outputs": [
        {
          "name": "stdout",
          "output_type": "stream",
          "text": [
            "Versão da Linguagem Python Usada Neste Jupyter Notebook: 3.8.8\n"
          ]
        }
      ],
      "source": [
        "# Versão da Linguagem Python\n",
        "from platform import python_version\n",
        "print('Versão da Linguagem Python Usada Neste Jupyter Notebook:', python_version())"
      ]
    },
    {
      "cell_type": "markdown",
      "metadata": {
        "id": "_mGpJwNq8M7c"
      },
      "source": [
        "## Exercícios"
      ]
    },
    {
      "cell_type": "code",
      "execution_count": null,
      "metadata": {
        "id": "XUd3aIzk8M7d",
        "outputId": "30a34ada-e8cf-4d38-91f9-87317dedc087"
      },
      "outputs": [
        {
          "name": "stdout",
          "output_type": "stream",
          "text": [
            "1\n",
            "2\n",
            "3\n",
            "4\n",
            "5\n",
            "6\n",
            "7\n",
            "8\n",
            "9\n",
            "10\n"
          ]
        }
      ],
      "source": [
        "# Exercício 1 - Imprima na tela os números de 1 a 10. Use uma lista para armazenar os números.\n",
        "numeros =  1,2,3,4,5,6,7,8,9,10\n",
        "lista = []\n",
        "for numero in numeros:\n",
        "    lista.append(numero)\n",
        "    print(numero)\n"
      ]
    },
    {
      "cell_type": "code",
      "execution_count": 1,
      "metadata": {
        "colab": {
          "base_uri": "https://localhost:8080/"
        },
        "id": "hTTPmUpy8M7d",
        "outputId": "4a41dffd-9341-475c-c6c8-e68f7dd201a8"
      },
      "outputs": [
        {
          "name": "stdout",
          "output_type": "stream",
          "text": [
            "['carro', 'moto', 'casa', 'iphone', 'avião']\n"
          ]
        }
      ],
      "source": [
        "# Exercício 2 - Crie uma lista de 5 objetos e imprima na tela\n",
        "\n",
        "objetos = ['carro','moto','casa','iphone','avião']\n",
        "print (objetos)\n"
      ]
    },
    {
      "cell_type": "code",
      "execution_count": 4,
      "metadata": {
        "colab": {
          "base_uri": "https://localhost:8080/"
        },
        "id": "WW0B5x3X8M7d",
        "outputId": "59e36ad2-9cba-4a72-8e16-a32a6a5fa6be"
      },
      "outputs": [
        {
          "name": "stdout",
          "output_type": "stream",
          "text": [
            "Amo você\n"
          ]
        }
      ],
      "source": [
        "# Exercício 3 - Crie duas strings e concatene as duas em uma terceira string\n",
        "\n",
        "par1 = 'Amo '\n",
        "par2 = 'você'\n",
        "\n",
        "print (par1 +  par2)"
      ]
    },
    {
      "cell_type": "code",
      "execution_count": 6,
      "metadata": {
        "colab": {
          "base_uri": "https://localhost:8080/"
        },
        "id": "y7zpMezq8M7e",
        "outputId": "8d0d9cb8-3fdf-40d5-a728-8b658e3f4e96"
      },
      "outputs": [
        {
          "name": "stdout",
          "output_type": "stream",
          "text": [
            "3\n"
          ]
        }
      ],
      "source": [
        "# Exercício 4 - Crie uma tupla com os seguintes elementos: 1, 2, 2, 3, 4, 4, 4, 5 e depois utilize a função count do\n",
        "# objeto tupla para verificar quantas vezes o número 4 aparece na tupla\n",
        "\n",
        "tup = ( 1, 2, 2, 3, 4, 4, 4, 5)\n",
        "cont= tup.count(4)\n",
        "print(cont)"
      ]
    },
    {
      "cell_type": "code",
      "execution_count": 7,
      "metadata": {
        "colab": {
          "base_uri": "https://localhost:8080/"
        },
        "id": "SYIjt-hC8M7e",
        "outputId": "b7693b2d-fb54-46ca-d6c0-6ffe7f364876"
      },
      "outputs": [
        {
          "name": "stdout",
          "output_type": "stream",
          "text": [
            "{}\n"
          ]
        }
      ],
      "source": [
        "# Exercício 5 - Crie um dicionário vazio e imprima na tela\n",
        "meu_dicionario = {}\n",
        "print(meu_dicionario)\n"
      ]
    },
    {
      "cell_type": "code",
      "execution_count": 11,
      "metadata": {
        "colab": {
          "base_uri": "https://localhost:8080/"
        },
        "id": "oT9NdxWt8M7e",
        "outputId": "090e3825-cdeb-44b5-e569-c589a953777f"
      },
      "outputs": [
        {
          "name": "stdout",
          "output_type": "stream",
          "text": [
            "{'Banco': 258, 'Netflix': 'Amo@filmes123', 'ifood': 1979}\n"
          ]
        }
      ],
      "source": [
        "# Exercício 6 - Crie um dicionário com 3 chaves e 3 valores e imprima na\n",
        "senha ={'Banco':258,'Netflix':'Amo@filmes123','ifood':1979}\n",
        "print(senha)"
      ]
    },
    {
      "cell_type": "code",
      "execution_count": 12,
      "metadata": {
        "colab": {
          "base_uri": "https://localhost:8080/"
        },
        "id": "qciHve9v8M7e",
        "outputId": "0cb58d04-cd9a-4371-e02d-183cddd7cc31"
      },
      "outputs": [
        {
          "name": "stdout",
          "output_type": "stream",
          "text": [
            "{'Banco': 258, 'Netflix': 'Amo@filmes123', 'ifood': 1979, 'Backup_senha': 8900}\n"
          ]
        }
      ],
      "source": [
        "# Exercício 7 - Adicione mais um elemento ao dicionário criado no exercício anterior e imprima na tela\n",
        "\n",
        "senha ['Backup_senha'] = 8900\n",
        "print(senha)"
      ]
    },
    {
      "cell_type": "code",
      "execution_count": 15,
      "metadata": {
        "colab": {
          "base_uri": "https://localhost:8080/"
        },
        "id": "f3j3zvGg8M7f",
        "outputId": "f407fdf7-770d-4905-a3b8-5a789a2017db"
      },
      "outputs": [
        {
          "name": "stdout",
          "output_type": "stream",
          "text": [
            "{'vendedor': 'vendas', 'gerente': 'vendedor', 'admin': ['vendedor', 'gerente']}\n"
          ]
        }
      ],
      "source": [
        "# Exercício 8 - Crie um dicionário com 3 chaves e 3 valores.\n",
        "# Um dos valores deve ser uma lista de 2 elementos numéricos.\n",
        "# Imprima o dicionário na tela.\n",
        "\n",
        "acesso = {\n",
        "    'vendedor':'vendas',\n",
        "    'gerente':'vendedor',\n",
        "    'admin':['vendedor','gerente']\n",
        "}\n",
        "print(acesso)"
      ]
    },
    {
      "cell_type": "code",
      "execution_count": 16,
      "metadata": {
        "colab": {
          "base_uri": "https://localhost:8080/"
        },
        "id": "M4jg1I5X8M7f",
        "outputId": "843e9b6f-b4db-48b2-eae6-29fe8a145c91"
      },
      "outputs": [
        {
          "name": "stdout",
          "output_type": "stream",
          "text": [
            "['novo começo', (1, 'arroz'), {'nome': 'Cristiano', 'segundo_nome': 'machado'}, 4.5]\n"
          ]
        }
      ],
      "source": [
        "# Exercício 9 - Crie uma lista de 4 elementos. O primeiro elemento deve ser uma string,\n",
        "# o segundo uma tupla de 2 elementos, o terceiro um dcionário com 2 chaves e 2 valores e\n",
        "# o quarto elemento um valor do tipo float.\n",
        "# Imprima a lista.\n",
        "\n",
        "super_lista = ['novo começo',(1,'arroz'),{'nome':'Cristiano','segundo_nome':'machado'},4.5]\n",
        "\n",
        "print(super_lista)\n"
      ]
    },
    {
      "cell_type": "code",
      "execution_count": 27,
      "metadata": {
        "colab": {
          "base_uri": "https://localhost:8080/",
          "height": 36
        },
        "id": "JKmn5Vbt8M7f",
        "outputId": "ac00564b-569c-4970-9750-41b01febf9b8"
      },
      "outputs": [
        {
          "data": {
            "application/vnd.google.colaboratory.intrinsic+json": {
              "type": "string"
            },
            "text/plain": [
              "'Cientista de Dados '"
            ]
          },
          "execution_count": 27,
          "metadata": {},
          "output_type": "execute_result"
        }
      ],
      "source": [
        "# Exercício 10 - Considere a string abaixo. Imprima na tela apenas os caracteres da posição 1 a 18.\n",
        "frase = 'Cientista de Dados é o profissional mais sexy do século XXI'\n",
        "frase[:19]\n",
        "\n"
      ]
    },
    {
      "cell_type": "markdown",
      "metadata": {
        "id": "DGp0Wmeq_yin"
      },
      "source": [
        "# 1. **Listas**\n",
        "\n",
        "Criei uma lista chamada filmes com o nome dos 10 primeiros filmes mais bem\n",
        "avaliados no site no IMDB. Imprima o resultado."
      ]
    },
    {
      "cell_type": "code",
      "execution_count": 5,
      "metadata": {
        "colab": {
          "base_uri": "https://localhost:8080/"
        },
        "id": "KKJFDdBzAGdo",
        "outputId": "341ba677-4e06-4a31-f9c9-68461ea776fd"
      },
      "outputs": [
        {
          "name": "stdout",
          "output_type": "stream",
          "text": [
            "['Um Sonho de Liberdade', 'O Poderoso Chefão', 'Batman: O Cavaleiro das Trevas', 'O Poderoso Chefão: Parte II', '12 Homens e uma Sentença', ' O Senhor dos Anéis: O Retorno do Rei', ' A Lista de Schindler', 'Pulp Fiction: Tempo de Violência', ' O Senhor dos Anéis: A Sociedade do Anel', ' Três Homens em Conflito']\n",
            "['O Poderoso Chefão', 'Um Sonho de Liberdade', 'Batman: O Cavaleiro das Trevas', 'O Poderoso Chefão: Parte II', '12 Homens e uma Sentença', ' O Senhor dos Anéis: O Retorno do Rei', ' A Lista de Schindler', 'Pulp Fiction: Tempo de Violência', ' O Senhor dos Anéis: A Sociedade do Anel', ' Três Homens em Conflito']\n"
          ]
        }
      ],
      "source": [
        "filmes = ['Um Sonho de Liberdade','O Poderoso Chefão','Batman: O Cavaleiro das Trevas','O Poderoso Chefão: Parte II','12 Homens e uma Sentença',' O Senhor dos Anéis: O Retorno do Rei',' A Lista de Schindler','Pulp Fiction: Tempo de Violência',' O Senhor dos Anéis: A Sociedade do Anel',' Três Homens em Conflito']\n",
        "print(filmes)\n",
        "\n",
        "primeiro = filmes.pop(0) # Remove o primeiro filme e guarda\n",
        "\n",
        "segundo = filmes.pop(0) # Remove o segundo (que agora está na posição 0 após o pop acima)\n",
        "\n",
        "filmes.insert(0, primeiro) # Insere o antigo primeiro na posição 0 (onde estava o segundo)\n",
        "\n",
        "filmes.insert(0, segundo) # Insere o antigo segundo na posição 0 (empurrando o resto)\n",
        "\n",
        "print(filmes)\n",
        "\n",
        "\n"
      ]
    },
    {
      "cell_type": "markdown",
      "metadata": {},
      "source": [
        "**2.Conjuntos**\n",
        "\n",
        "Aconteceu um erro no seu ranking. Simule a duplicação dos três últimos filmes da lista.\n",
        "Imprima o resultado."
      ]
    },
    {
      "cell_type": "code",
      "execution_count": 1,
      "metadata": {},
      "outputs": [
        {
          "name": "stdout",
          "output_type": "stream",
          "text": [
            "['Um Sonho de Liberdade', 'O Poderoso Chefão', 'Batman: O Cavaleiro das Trevas', 'O Poderoso Chefão: Parte II', '12 Homens e uma Sentença', ' O Senhor dos Anéis: O Retorno do Rei', ' A Lista de Schindler', 'Pulp Fiction: Tempo de Violência', ' O Senhor dos Anéis: A Sociedade do Anel', ' Três Homens em Conflito', 'Três Homens em Conflito', ' O Senhor dos Anéis: A Sociedade do Anel', 'O Poderoso Chefão']\n",
            "['Batman: O Cavaleiro das Trevas', ' A Lista de Schindler', 'Pulp Fiction: Tempo de Violência', 'Um Sonho de Liberdade', ' Três Homens em Conflito', ' O Senhor dos Anéis: O Retorno do Rei', 'Três Homens em Conflito', 'O Poderoso Chefão: Parte II', ' O Senhor dos Anéis: A Sociedade do Anel', '12 Homens e uma Sentença', 'O Poderoso Chefão']\n"
          ]
        }
      ],
      "source": [
        "filmes = ['Um Sonho de Liberdade','O Poderoso Chefão','Batman: O Cavaleiro das Trevas','O Poderoso Chefão: Parte II','12 Homens e uma Sentença',' O Senhor dos Anéis: O Retorno do Rei',' A Lista de Schindler','Pulp Fiction: Tempo de Violência',' O Senhor dos Anéis: A Sociedade do Anel',' Três Homens em Conflito','Três Homens em Conflito', ' O Senhor dos Anéis: A Sociedade do Anel', 'O Poderoso Chefão']\n",
        "\n",
        "print(filmes)\n",
        "\n",
        "filmes = list(set(filmes))\n",
        "\n",
        "print(filmes)\n",
        "\n",
        "\n",
        "\n"
      ]
    },
    {
      "cell_type": "markdown",
      "metadata": {},
      "source": [
        "**3.Dicionários**\n",
        "\n",
        "Repita os exercícios da parte 1 (listas). Os elementos da lista filmes devem ser\n",
        "dicionários no seguinte formato: {'nome': <nome-do-filme>, 'ano': <ano do\n",
        "filme>}, 'sinopse': <sinopse do filme>} ."
      ]
    },
    {
      "cell_type": "code",
      "execution_count": 3,
      "metadata": {},
      "outputs": [
        {
          "name": "stdout",
          "output_type": "stream",
          "text": [
            "{'N_1': {'titulo': 'Um Sonho de Liberdade', 'ano_lançamento': 1994, 'Sinopse': 'Dois homens presos se reúnem ao longo de vários anos, encontrando consolo e eventual redenção através de atos de decência comum.', 'N-2': {'titulo': 'O Poderoso Chefão', 'ano_lançamento': 1972, 'sinopse': 'O patriarca idoso de uma dinastia do crime organizado transfere o controle de seu império clandestino para seu filho relutante.', 'N_3': {'titulo': 'Batman: O Cavaleiro das Trevas', 'ano_lançamento': 2008, 'sinopse': 'Agora com a ajuda do tenente Jim Gordon e do promotor público Harvey Dent, Batman tem tudo para banir o crime de Gotham City de uma vez por todas. Mas em breve, os três serão vítimas do Coringa, que pretende lançar Gotham em uma anarquia.', 'N-4': {'titulo': 'O Poderoso Chefão: Parte II', 'ano_lançamento': 1974, 'sinopse': 'O início da vida e da carreira de Vito Corleone na década de 1920 em Nova York, enquanto seu filho, Michael, expande e fortalece seu controle sobre o sindicato do crime.', 'N_5': {'titulo': '12 Homens e uma Sentença', 'ano_lançamento': 1957, 'sinopse': 'O julgamento de um assassinato em Nova Iorque é frustrado por um único membro, cujo ceticismo força o júri a considerar cuidadosamente as evidências antes de dar o veredito.', 'N_6': {'titulo': ' O Senhor dos Anéis: O Retorno do Rei', 'ano_de lançamento': 2003, 'sinopse': 'Gandalf e Aragorn lideram o Mundo dos Homens contra o exército de Sauron para desviar o olhar de Frodo e Sam quando eles se aproximam á Montanha da Perdição com o Um Anel.', 'N_7': {'titulo:': 'A Lista de Schindler', 'ano_lançamento': 1993, 'sinopse': 'Na Polônia ocupada pelos alemães durante a Segunda Guerra Mundial, o industrial Os kar Schindler começa a se preocupar com seus trabalhadores judeus depois de testemunhar sua perseguição pelos nazistas.', 'N_8': {'titulo': ' Pulp Fiction: Tempo de Violência', 'ano_lançamento': 1994, 'sinopse': 'As vidas de dois assassinos da máfia, um boxeador, um gângster e sua esposa, e um par de bandidos se entrelaçam em quatro histórias de violência e redenção.', 'N_9': {'titulo': 'O Senhor dos Anéis: A Sociedade do Anel', 'ano_nascimento': 2003, 'sinopse': 'Um manso hobbit do Condado e oito companheiros partem em uma jornada para destruir o poderoso Um Anel e salvar a Terra-média das Trevas.', 'N_10': {'titulo': 'Três Homens em Conflito', 'ano_lançamento': 1966, 'sinopse': 'Um impostor se junta com dois homens para encontrar fortuna num remoto cemitério.'}}}}}}}}}}}\n"
          ]
        }
      ],
      "source": [
        "ranking_IMDB = {\n",
        "    'N_1': {\n",
        "        'titulo':'Um Sonho de Liberdade',\n",
        "        'ano_lançamento' : 1994,\n",
        "        'Sinopse': 'Dois homens presos se reúnem ao longo de vários anos, encontrando consolo e eventual redenção através de atos de decência comum.',\n",
        "        'N-2' : {\n",
        "            'titulo':'O Poderoso Chefão',\n",
        "            'ano_lançamento': 1972,\n",
        "            'sinopse' :'O patriarca idoso de uma dinastia do crime organizado transfere o controle de seu império clandestino para seu filho relutante.',\n",
        "            'N_3':{\n",
        "                'titulo' : 'Batman: O Cavaleiro das Trevas',\n",
        "                'ano_lançamento': 2008,\n",
        "                'sinopse': 'Agora com a ajuda do tenente Jim Gordon e do promotor público Harvey Dent, Batman tem tudo para banir o crime de Gotham City de uma vez por todas. Mas em breve, os três serão vítimas do Coringa, que pretende lançar Gotham em uma anarquia.',\n",
        "                'N-4': {\n",
        "                    'titulo':'O Poderoso Chefão: Parte II',\n",
        "                    'ano_lançamento' : 1974,\n",
        "                    'sinopse': 'O início da vida e da carreira de Vito Corleone na década de 1920 em Nova York, enquanto seu filho, Michael, expande e fortalece seu controle sobre o sindicato do crime.',\n",
        "                    'N_5': {\n",
        "                        'titulo' : '12 Homens e uma Sentença',\n",
        "                        'ano_lançamento':1957,\n",
        "                        'sinopse' : 'O julgamento de um assassinato em Nova Iorque é frustrado por um único membro, cujo ceticismo força o júri a considerar cuidadosamente as evidências antes de dar o veredito.',\n",
        "                        'N_6': {\n",
        "                            'titulo': ' O Senhor dos Anéis: O Retorno do Rei',\n",
        "                            'ano_de lançamento' : 2003,\n",
        "                            'sinopse': 'Gandalf e Aragorn lideram o Mundo dos Homens contra o exército de Sauron para desviar o olhar de Frodo e Sam quando eles se aproximam á Montanha da Perdição com o Um Anel.',\n",
        "                            'N_7' :{\n",
        "                                'titulo:' :'A Lista de Schindler',\n",
        "                                'ano_lançamento': 1993,\n",
        "                                'sinopse' : 'Na Polônia ocupada pelos alemães durante a Segunda Guerra Mundial, o industrial Os kar Schindler começa a se preocupar com seus trabalhadores judeus depois de testemunhar sua perseguição pelos nazistas.',\n",
        "                                'N_8' : {\n",
        "                                    'titulo' :' Pulp Fiction: Tempo de Violência',\n",
        "                                    'ano_lançamento': 1994,\n",
        "                                    'sinopse': 'As vidas de dois assassinos da máfia, um boxeador, um gângster e sua esposa, e um par de bandidos se entrelaçam em quatro histórias de violência e redenção.',\n",
        "                                    'N_9':{\n",
        "                                            'titulo': 'O Senhor dos Anéis: A Sociedade do Anel',\n",
        "                                            'ano_nascimento': 2003,\n",
        "                                            'sinopse': 'Um manso hobbit do Condado e oito companheiros partem em uma jornada para destruir o poderoso Um Anel e salvar a Terra-média das Trevas.',\n",
        "                                            'N_10' :{\n",
        "                                                'titulo': 'Três Homens em Conflito',\n",
        "                                                'ano_lançamento' : 1966,\n",
        "                                                'sinopse' : 'Um impostor se junta com dois homens para encontrar fortuna num remoto cemitério.'\n",
        "                                            }\n",
        "                                    }\n",
        "                                }\n",
        "                            }\n",
        "\n",
        "                        }\n",
        "\n",
        "                    }\n",
        "                }\n",
        "            }\n",
        "        }\n",
        "\n",
        "    }\n",
        "}\n",
        "  \n",
        "   \n",
        "        \n",
        "print (ranking_IMDB)\n",
        "   "
      ]
    }
  ],
  "metadata": {
    "colab": {
      "provenance": []
    },
    "kernelspec": {
      "display_name": "Python 3",
      "language": "python",
      "name": "python3"
    },
    "language_info": {
      "codemirror_mode": {
        "name": "ipython",
        "version": 3
      },
      "file_extension": ".py",
      "mimetype": "text/x-python",
      "name": "python",
      "nbconvert_exporter": "python",
      "pygments_lexer": "ipython3",
      "version": "3.13.2"
    }
  },
  "nbformat": 4,
  "nbformat_minor": 0
}
