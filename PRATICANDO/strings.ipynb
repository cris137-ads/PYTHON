{
 "cells": [
  {
   "cell_type": "code",
   "execution_count": null,
   "id": "625e15a4",
   "metadata": {},
   "outputs": [
    {
     "name": "stdout",
     "output_type": "stream",
     "text": [
      "olá\n"
     ]
    }
   ],
   "source": [
    "#1. Faça  um programa que então leia uma string e a imprima.\n",
    "\n",
    "texto = input ('Digite um texto')\n",
    "\n",
    "print (f'{texto}')"
   ]
  },
  {
   "cell_type": "code",
   "execution_count": 25,
   "id": "defafbe1",
   "metadata": {},
   "outputs": [
    {
     "name": "stdout",
     "output_type": "stream",
     "text": [
      "9\n"
     ]
    }
   ],
   "source": [
    "#2. Crie um programa que imprima o comprimento de uma string.\n",
    "\n",
    "texto = input('Digite o texto ')\n",
    "\n",
    "print (len(texto))\n"
   ]
  },
  {
   "cell_type": "code",
   "execution_count": 7,
   "id": "4f811e17",
   "metadata": {},
   "outputs": [
    {
     "name": "stdout",
     "output_type": "stream",
     "text": [
      "Ola ,mundo!\n"
     ]
    }
   ],
   "source": [
    "# 3.Escreva um programa que imprime: 'Olá, mundo!'.\n",
    "\n",
    "print ('Ola ,mundo!')"
   ]
  },
  {
   "cell_type": "code",
   "execution_count": 28,
   "id": "ad39d87a",
   "metadata": {},
   "outputs": [
    {
     "name": "stdout",
     "output_type": "stream",
     "text": [
      "Olá jose e maria\n"
     ]
    }
   ],
   "source": [
    "# 4.Peça dois nomes ao usuário e exiba a frase: 'Olá, [nome1] e [nome2]!'\n",
    "nome1 = input ('Informe 1° nome ')\n",
    "nome2 = input ('Informe o 2° nome ')\n",
    "\n",
    "print (f'Olá {nome1} e {nome2}')\n"
   ]
  },
  {
   "cell_type": "code",
   "execution_count": 12,
   "id": "1ffcea1a",
   "metadata": {},
   "outputs": [
    {
     "name": "stdout",
     "output_type": "stream",
     "text": [
      "p\n",
      "t\n",
      "n\n"
     ]
    }
   ],
   "source": [
    "# 5.Dada a string 'Python', imprima o primeiro, o terceiro e o último caractere.\n",
    "\n",
    "texto = 'python'\n",
    "print (texto[0])\n",
    "print (texto[2])\n",
    "print (texto[-1])\n",
    "\n",
    "\n",
    "\n",
    "\n",
    "\n"
   ]
  },
  {
   "cell_type": "code",
   "execution_count": 31,
   "id": "cc30857b",
   "metadata": {},
   "outputs": [
    {
     "name": "stdout",
     "output_type": "stream",
     "text": [
      "Pro\n",
      "ção\n"
     ]
    }
   ],
   "source": [
    "# 6.Mostre as três primeiras letras e as três últimas da string 'Programação'.\n",
    "\n",
    "texto = 'Programação'\n",
    "print (texto[:3])\n",
    "print (texto[-3:])"
   ]
  },
  {
   "cell_type": "code",
   "execution_count": null,
   "id": "87a9372c",
   "metadata": {},
   "outputs": [],
   "source": [
    "# 7.Escreva um programa que lê uma palavra e imprime ela invertida.\n",
    "\n",
    "texto = input ('Digite um texto breve')\n",
    "\n",
    "invertido=texto [::-1]\n",
    "\n",
    "print (invertido)"
   ]
  },
  {
   "cell_type": "code",
   "execution_count": null,
   "id": "42710931",
   "metadata": {},
   "outputs": [
    {
     "data": {
      "text/plain": [
       "4"
      ]
     },
     "execution_count": 1,
     "metadata": {},
     "output_type": "execute_result"
    }
   ],
   "source": [
    "# 8.Peça uma frase ao usuário e conte quantas vezes a letra 'a' aparece.\n",
    "frase = input ('Digite uma frase')\n",
    "\n",
    "frase.count('a')"
   ]
  },
  {
   "cell_type": "code",
   "execution_count": 4,
   "id": "0ffe4d96",
   "metadata": {},
   "outputs": [
    {
     "name": "stdout",
     "output_type": "stream",
     "text": [
      "não é um palíndromo\n"
     ]
    }
   ],
   "source": [
    "# 9.Verifique se uma palavra é um palíndromo (ex: 'arara', 'radar').\n",
    "\n",
    "palavra = input ('Digite uam palavra ')\n",
    "\n",
    "palavra_invertida = palavra [::-1]\n",
    "\n",
    "if palavra.lower() == palavra_invertida.lower():\n",
    "    print('é um palíndromo')\n",
    "else:\n",
    "    print('não é um palíndromo')    \n"
   ]
  },
  {
   "cell_type": "code",
   "execution_count": null,
   "id": "2f3d98d5",
   "metadata": {},
   "outputs": [],
   "source": [
    "# 10.Peça uma frase e troque todas as ocorrências da letra 'e' por '3'.\n",
    "\n",
    "frase = input ('Digite uma frase')\n",
    "\n",
    "novo_frase = frase.replace('e' , 'o')\n",
    "\n",
    "print(novo_frase)\n"
   ]
  },
  {
   "cell_type": "code",
   "execution_count": null,
   "id": "09b4061e",
   "metadata": {},
   "outputs": [
    {
     "name": "stdout",
     "output_type": "stream",
     "text": [
      "como vai voc3\n"
     ]
    }
   ],
   "source": [
    "\n",
    "frase = input ('Digite uma frase')\n",
    "\n",
    "novo_frase = frase.replace('e' , '3')\n",
    "\n",
    "print(novo_frase)\n"
   ]
  },
  {
   "cell_type": "code",
   "execution_count": null,
   "id": "9ac13c40",
   "metadata": {},
   "outputs": [
    {
     "name": "stdout",
     "output_type": "stream",
     "text": [
      "banana \n",
      "maça\n",
      "uva \n",
      "abacaxi\n"
     ]
    }
   ],
   "source": [
    "# 11.Separe uma string com várias palavras (ex: 'banana maçã uva') em uma lista de palavras e imprima cada uma em uma linha.\n",
    "\n",
    "print ('banana \\nmaça\\nuva \\nabacaxi')\n"
   ]
  },
  {
   "cell_type": "code",
   "execution_count": null,
   "id": "4445b5b1",
   "metadata": {},
   "outputs": [
    {
     "name": "stdout",
     "output_type": "stream",
     "text": [
      "joão tem 30anos e trabalha engenheiro\n"
     ]
    }
   ],
   "source": [
    "# 12.Peça nome, idade e profissão ao usuário e mostre: 'João tem 30 anos e trabalha como Engenheiro.'\n",
    "\n",
    "Nome = input('Digite o seu nome')\n",
    "idade = input ('Informe a sua idade ')\n",
    "proffissão = input ('informe a sua profissão')\n",
    "\n",
    " \n",
    "print(f'{Nome} tem {idade}anos e trabalha {proffissão}')\n"
   ]
  },
  {
   "cell_type": "code",
   "execution_count": null,
   "id": "a0b37756",
   "metadata": {},
   "outputs": [
    {
     "name": "stdout",
     "output_type": "stream",
     "text": [
      "oi oi\n"
     ]
    }
   ],
   "source": [
    "#13. Peça uma frase com espaços duplicados e remova os espaços desnecessários.\n",
    "frase = input('Digite uma frase ')\n",
    "\n",
    "frase_sem_espacos = ' ' .join(frase.split())\n",
    "print ( frase_sem_espacos)"
   ]
  },
  {
   "cell_type": "code",
   "execution_count": 4,
   "id": "db01b442",
   "metadata": {},
   "outputs": [
    {
     "name": "stdout",
     "output_type": "stream",
     "text": [
      "Numero de paavaras nesta frase 14\n"
     ]
    }
   ],
   "source": [
    "# 14. Peça uma frase e conte quantas palavras ela contém.\n",
    "\n",
    "frase = input ('digite uma frase ')\n",
    "\n",
    "palavras = frase.split()\n",
    "\n",
    "quantidade = len(palavras)\n",
    "\n",
    "print(f'Numero de paavaras nesta frase {quantidade}')\n",
    "\n"
   ]
  },
  {
   "cell_type": "code",
   "execution_count": 20,
   "id": "87738984",
   "metadata": {},
   "outputs": [
    {
     "name": "stdout",
     "output_type": "stream",
     "text": [
      "Cristiano 1979Xeg\n"
     ]
    }
   ],
   "source": [
    "#15 .Crie uma senha a partir do nome do usuário + ano de nascimento + 3 caracteres aleatórios\n",
    "\n",
    "import string\n",
    "import random\n",
    "\n",
    "def gerar_senha (nome,ano_nascimento):\n",
    "    carac_aleatorios = ''.join(random.choices(string.ascii_letters + string.digits,k=3))\n",
    "    senha = f\"{nome} {ano_nascimento}{carac_aleatorios}\"\n",
    "    return senha\n",
    "\n",
    "nome_usuario = \"Cristiano\"\n",
    "ano_nascimento_usuario = '1979' \n",
    "print(gerar_senha(nome_usuario,ano_nascimento_usuario))\n"
   ]
  },
  {
   "cell_type": "code",
   "execution_count": 21,
   "id": "e5cf586d",
   "metadata": {},
   "outputs": [
    {
     "name": "stdout",
     "output_type": "stream",
     "text": [
      "qzuipo ê jodsîwfm!\n"
     ]
    }
   ],
   "source": [
    "#16.Faça um programa que substitua cada letra da string por sua próxima letra no alfabeto.\n",
    "def substituir_proxima_letra(texto):\n",
    "    resultado = ''\n",
    "    for letra in texto:\n",
    "        if letra.isalpha():  # Verifica se é uma letra\n",
    "            nova_letra = chr(ord(letra) + 1) if letra.lower() != 'z' else 'a'\n",
    "            resultado += nova_letra\n",
    "        else:\n",
    "            resultado += letra  # Mantém caracteres que não são letras inalterados\n",
    "    return resultado\n",
    "\n",
    "# Exemplo de uso\n",
    "texto = \"python é incrível!\"\n",
    "print(substituir_proxima_letra(texto))"
   ]
  }
 ],
 "metadata": {
  "kernelspec": {
   "display_name": "Python 3",
   "language": "python",
   "name": "python3"
  },
  "language_info": {
   "codemirror_mode": {
    "name": "ipython",
    "version": 3
   },
   "file_extension": ".py",
   "mimetype": "text/x-python",
   "name": "python",
   "nbconvert_exporter": "python",
   "pygments_lexer": "ipython3",
   "version": "3.13.2"
  }
 },
 "nbformat": 4,
 "nbformat_minor": 5
}
