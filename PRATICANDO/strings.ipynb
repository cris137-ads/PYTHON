{
 "cells": [
  {
   "cell_type": "code",
   "execution_count": null,
   "id": "625e15a4",
   "metadata": {},
   "outputs": [],
   "source": [
    "#1. Faça  um programa que ent˜ao leia uma string e a imprima."
   ]
  }
 ],
 "metadata": {
  "language_info": {
   "name": "python"
  }
 },
 "nbformat": 4,
 "nbformat_minor": 5
}
